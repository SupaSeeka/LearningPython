{
 "cells": [
  {
   "cell_type": "markdown",
   "metadata": {},
   "source": [
    "## Functions\n",
    "\n",
    "Functions are a common feature of most programming languages. They give us a method in which to name small sections of code that we can then refer to later on. This is particularly handy if there are common tasks that you need to complete on a regular basis, as you can probably replace multiple lines of code with a single reference to a function. In fact you've already seen examples of this! We've used the `print` function of Python many times already, and what we see as a single line of code to refer to this function is hiding away lots of complex code underneath.\n",
    "\n",
    "Python has a number of these useful functions for us to use, but we are not just limited to these. We can also write our own functions using the Python keyword `def`, so if you find yourself copying and pasting code in your programs to repeatedly do the same thing, you should instead make that code into a function. There are many benefits to this! Not only does it make your code smaller, neater and easier to read, it also allows you to make improvements or changes to a function once, and then everywhere that code is used will benefit. \n",
    "\n",
    "Our functions can also take some inputs that we refer to as arguments, and they can return data to us, for use later on in our code. We'll see more about this towards the end of this notebook when we introduce the keyword `return`. \n"
   ]
  },
  {
   "cell_type": "markdown",
   "metadata": {},
   "source": [
    "### Built-in Functions\n",
    "\n",
    "We refer to the functions provided to us by Python as built-in functions. There are a massive number of such functions, and we won't cover all of them here, but here are examples of some of those you might use most often."
   ]
  },
  {
   "cell_type": "code",
   "execution_count": null,
   "metadata": {},
   "outputs": [],
   "source": [
    "#The print function\n",
    "\n",
    "str = \"Hello\"\n",
    "print(str)"
   ]
  },
  {
   "cell_type": "code",
   "execution_count": null,
   "metadata": {},
   "outputs": [],
   "source": [
    "#The length function\n",
    "\n",
    "L = [1,2,3,4,5]\n",
    "len(L)"
   ]
  },
  {
   "cell_type": "code",
   "execution_count": null,
   "metadata": {},
   "outputs": [],
   "source": [
    "#Some mathematical functions\n",
    "\n",
    "L = [9,7,3,5,8,1,4]\n",
    "\n",
    "print(\"Max =\", max(L))\n",
    "print(\"Min =\", min(L))\n",
    "print(\"Sum =\", sum(L))"
   ]
  },
  {
   "cell_type": "markdown",
   "metadata": {},
   "source": [
    "Notice that all of these functions have something in common. They are defined by a single string of characters (the function name) that are followed by round brackets, and in these cases those brackets always contain something that we call the argument of the function. This you can think of basically as the input needed to make that function work. Not all functions need an argument (or arguments), but you still must use the round brackets, even if they contain nothing. For example, we can print a blank line by passing no arguments to the `print` function."
   ]
  },
  {
   "cell_type": "code",
   "execution_count": null,
   "metadata": {},
   "outputs": [],
   "source": [
    "print(\"Text here, blank line below\")\n",
    "print()\n",
    "print(\"Text here, blank line above\")"
   ]
  },
  {
   "cell_type": "markdown",
   "metadata": {},
   "source": [
    "Most functions return some data to us that we can store in a variable and use throughout our code, you can consider this to be the output of the function. In the example below we store the return value from the `len` function in the variable `a`, and use that variable in the print statement that follows."
   ]
  },
  {
   "cell_type": "code",
   "execution_count": null,
   "metadata": {},
   "outputs": [],
   "source": [
    "L = [2,4,6,8,10]\n",
    "\n",
    "a = len(L)\n",
    "print(\"This list had length\", a)"
   ]
  },
  {
   "cell_type": "markdown",
   "metadata": {},
   "source": [
    "This subsection is only short, but covers all of the basics of built-in functions in Python. You can read more about the built-in functions by visiting the Python documentation here: https://docs.python.org/3/library/functions.html\n",
    "\n",
    "You should at least visit this page to make yourself aware of the functions provided by Python, they are often useful, and generally quite self-explanatory. "
   ]
  },
  {
   "cell_type": "markdown",
   "metadata": {},
   "source": [
    "\n",
    "### Self-defined functions\n",
    "\n",
    "Hopefully you can see even from the simple Python examples above how useful it is to be able to use functions to hide away the complexity of performing various tasks. Take the `max` function as an example - we should by now be able to write some code to find the maximum element in a list, but this requires a for loop, some comparison operations, and a variable to store the largest element we've found so far. By writing all of that code inside a function, and just using the function name, our code is clean, and easy to maintain and improve.\n",
    "\n",
    "When writing complex pieces of code you should definitely consider writing your own functions to take advantage of these benefits. In order to define a function we need to give our function a name, provide Python with some information about the inputs to this function, write our functions functionality, and decide if it will return any information. Lets take the example we've just discussed above, and implement our own max function. To avoid interfering with Pythons built-in function names we'll call our function `myMax`."
   ]
  },
  {
   "cell_type": "code",
   "execution_count": null,
   "metadata": {},
   "outputs": [],
   "source": [
    "def myMax (L):\n",
    "    currentMax = L[0]\n",
    "    for i in L:\n",
    "        if i > currentMax:\n",
    "            currentMax = i\n",
    "            \n",
    "    return currentMax"
   ]
  },
  {
   "cell_type": "markdown",
   "metadata": {},
   "source": [
    "Let us take a look at the important aspects of the code above. First we must use the Python keyword `def` in order to define our own function. We give the function a name, and we tell Python that we expect a single argument to this function, and we've decided to call that argument `L`. All of the code within our function should be indented, any code not indented will not be considered a part of this function. The next 4 lines of code should look familiar by now, this code is very similar to what you were asked to develop in the previous topic for finding the minimum and maximum value in a list. The final line inside the function (notice the indentation) uses the keyword `return`. This tells Python that it should pass this value back to wherever in our code we call the function `myMax`. If you look at the examples below this should hopefully make sense. "
   ]
  },
  {
   "cell_type": "code",
   "execution_count": null,
   "metadata": {},
   "outputs": [],
   "source": [
    "A = [2,4,6,8,10,9,7,5,3,1]\n",
    "myMax(A)"
   ]
  },
  {
   "cell_type": "markdown",
   "metadata": {},
   "source": [
    "In the example we define a list called `A`, and then we ask Python to perform the function `myMax` using the variable `A` as its input. Notice that it doesn't matter that our variable is called `A` here, despite the fact in the function we call the input `L`. As long as we use `L` throughout the function definition everything will work as it should. We could similarly have named the list of data `L` if we wanted to."
   ]
  },
  {
   "cell_type": "code",
   "execution_count": null,
   "metadata": {},
   "outputs": [],
   "source": [
    "L = [2,4,6,8,10,9,7,5,3,1]\n",
    "myMax(L)"
   ]
  },
  {
   "cell_type": "markdown",
   "metadata": {},
   "source": [
    "If we wanted to, we could save the result of our function in a variable for later use in our code."
   ]
  },
  {
   "cell_type": "code",
   "execution_count": null,
   "metadata": {},
   "outputs": [],
   "source": [
    "A = [2,4,6,8,10,9,7,5,3,1]\n",
    "maxVal = myMax(A)\n",
    "\n",
    "print(\"The maximum value in this list is\", maxVal)"
   ]
  },
  {
   "cell_type": "markdown",
   "metadata": {},
   "source": [
    "Lets say I wanted to deal with lots of different lists, and find the maximum value in each of them. Before learning how to use functions we would have to have written separate code for each list to find and output its maximum value. Now though, we can define a function to use repeatedly, and just pass our different lists as inputs to that function."
   ]
  },
  {
   "cell_type": "code",
   "execution_count": null,
   "metadata": {},
   "outputs": [],
   "source": [
    "A = [324,657,23,6,3,600,89,13,5433]\n",
    "B = [65,2,567,2423,987,56,456,80]\n",
    "C = [34,689,21]\n",
    "\n",
    "maxA = myMax(A)\n",
    "maxB = myMax(B)\n",
    "maxC = myMax(C)\n",
    "\n",
    "print(\"The maximum values were:\", maxA, \",\", maxB, \",\", maxC)"
   ]
  },
  {
   "cell_type": "markdown",
   "metadata": {},
   "source": [
    "Having seen all of the examples above, you are hopefully now of the opinion that functions are quite straight-forward. They can take some inputs, and they can return an output. Infact, we can do much more than this. The final things to show you in this topic are that we can have multiple return statements in a function, and that a function can return more than a single piece of data! Lets first take a look at the example below:"
   ]
  },
  {
   "cell_type": "code",
   "execution_count": null,
   "metadata": {},
   "outputs": [],
   "source": [
    "def greaterThan (x,y):\n",
    "    if (x > y):\n",
    "        return True\n",
    "        print(\"Hello\")\n",
    "    else:\n",
    "        return False\n",
    "        print(\"Goodbye\")\n",
    "    \n",
    "greaterThan(5,10)"
   ]
  },
  {
   "cell_type": "markdown",
   "metadata": {},
   "source": [
    "In the example above we've defined a simple \"greater than\" function, and underneath we call that function with the inputs 5 and 10. Inside the function is an if-else code block that decides if x is greater than y. As you can see, we have two return statements, we return the value `True` if x is greater than y, else we return the value `False`. You can have as many return statements in a function as you like, but be careful! Once a return statement is executed then your function is deemed to be complete, and no other code will run. Hence why we never print out the string \"Goodbye\". The return statement must always be the last thing to execute inside a function, so make sure to get your code in the correct order!\n",
    "\n",
    "Finally, you may want to write a function that returns multiple pieces of data. Maybe you've found a really efficient way to find both the minimum and maximum elements of a list at the same time, at the moment we've not seen any way to return both of those results. However, the return statement can do very useful things for us! For example, we can return a comma separated sequence of values, and these are returned as a tuple. Take a look at this example where we find both the minimum and maximum of a list:"
   ]
  },
  {
   "cell_type": "code",
   "execution_count": null,
   "metadata": {},
   "outputs": [],
   "source": [
    "def minMax (L):\n",
    "    minL = L[0]\n",
    "    maxL = L[0]\n",
    "    \n",
    "    for i in L:\n",
    "        if i > maxL:\n",
    "            maxL = i\n",
    "        elif i < minL:\n",
    "            minL = i\n",
    "    \n",
    "    return minL, maxL"
   ]
  },
  {
   "cell_type": "markdown",
   "metadata": {},
   "source": [
    "Now call this function with a list input, and catch those two return values by placing them into variables."
   ]
  },
  {
   "cell_type": "code",
   "execution_count": null,
   "metadata": {},
   "outputs": [],
   "source": [
    "A = [34,67,89,32,5,76,9,25,73]\n",
    "a,b = minMax(A)\n",
    "\n",
    "print(\"The min was\", a, \"and the max was\", b)"
   ]
  },
  {
   "cell_type": "markdown",
   "metadata": {},
   "source": [
    "The first return value, `minL`, was returned and the value stored in the variable `a`. The second return value, `maxL`, was returned and the value stored in the variable `b`. Using this method to find both the minimum and the maximum of a list is more efficient that doing both tasks independently, so this functionality of the return statement can be particularly useful to us!"
   ]
  },
  {
   "cell_type": "markdown",
   "metadata": {},
   "source": [
    "That covers all of the basics that we need to know about functions. You should be able to use the built-in Python functions, and also know how to define your own functions with possible inputs (arguments) and output (return). There are some more advanced aspects of self-defined functions that we will need to cover, but these will come in a later topic. For now you should make sure that you are happy with the examples provided here, and can answer the questions in the final notebook of this topic.  "
   ]
  }
 ],
 "metadata": {
  "kernelspec": {
   "display_name": "Python 3 (ipykernel)",
   "language": "python",
   "name": "python3"
  },
  "language_info": {
   "codemirror_mode": {
    "name": "ipython",
    "version": 3
   },
   "file_extension": ".py",
   "mimetype": "text/x-python",
   "name": "python",
   "nbconvert_exporter": "python",
   "pygments_lexer": "ipython3",
   "version": "3.12.2"
  }
 },
 "nbformat": 4,
 "nbformat_minor": 4
}
