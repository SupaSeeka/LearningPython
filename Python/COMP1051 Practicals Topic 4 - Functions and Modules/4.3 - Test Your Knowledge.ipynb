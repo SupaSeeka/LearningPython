{
 "cells": [
  {
   "cell_type": "markdown",
   "metadata": {},
   "source": [
    "## Test Your Knowledge\n",
    "\n",
    "In the blocks below you will find a range of questions that cover the material we've looked at in the previous notebooks. Make sure you can do these tasks before you move on to the next topic, which will cover modules and functions in Python. \n",
    "<br>"
   ]
  },
  {
   "cell_type": "markdown",
   "metadata": {},
   "source": [
    "1) Take a look at the built-in `round` and `sorted` functions in the Python documentation. Use them, with any other functions you think might be useful, to convert the unsorted list of floats into a sorted list of floats that are all rounded to 2 decimal places."
   ]
  },
  {
   "cell_type": "code",
   "execution_count": 14,
   "metadata": {},
   "outputs": [
    {
     "name": "stdout",
     "output_type": "stream",
     "text": [
      "[-5.09, -2.43, 1.02, 2.09, 2.51, 3.77]\n"
     ]
    }
   ],
   "source": [
    "import math\n",
    "L = [3.765, 2.094, -5.092, -2.43, 2.51, 1.02]\n",
    "\n",
    "for i in range(0, len(L)):\n",
    "    L[i] = round(L[i],2)\n",
    "\n",
    "L.sort()\n",
    "print(L)\n"
   ]
  },
  {
   "cell_type": "markdown",
   "metadata": {},
   "source": [
    "2) Define your own function that calculates and returns the value of the expression a*b+c for three variables `a`,`b`, and `c`."
   ]
  },
  {
   "cell_type": "code",
   "execution_count": null,
   "metadata": {},
   "outputs": [],
   "source": [
    "def tripleProduct(a,b,c):\n",
    "    return a*b+c\n",
    "\n",
    "print(tripleProduct(1,2,3))"
   ]
  },
  {
   "cell_type": "markdown",
   "metadata": {},
   "source": [
    "3) Define your own function that will print out all prime numbers between 3 and an input `p`. It will probably be helpful to reuse a significant portion of code you developed for a similar question in the previous topic."
   ]
  },
  {
   "cell_type": "code",
   "execution_count": 4,
   "metadata": {},
   "outputs": [
    {
     "data": {
      "text/plain": [
       "[3,\n",
       " 4,\n",
       " 5,\n",
       " 7,\n",
       " 11,\n",
       " 13,\n",
       " 17,\n",
       " 19,\n",
       " 23,\n",
       " 29,\n",
       " 31,\n",
       " 37,\n",
       " 41,\n",
       " 43,\n",
       " 47,\n",
       " 53,\n",
       " 59,\n",
       " 61,\n",
       " 67,\n",
       " 71,\n",
       " 73,\n",
       " 79,\n",
       " 83,\n",
       " 89,\n",
       " 97]"
      ]
     },
     "execution_count": 4,
     "metadata": {},
     "output_type": "execute_result"
    }
   ],
   "source": [
    "def printPrimes(p):\n",
    "    \n",
    "    compareNumbers = range(3, p+1)\n",
    "    nums = range(3, p + 1)\n",
    "    numSet = set(nums)\n",
    "    primesArray = []\n",
    "    isPrime = True\n",
    "    \n",
    "    for i in numSet:\n",
    "        isPrime = True\n",
    "        # compare to each number from 2 through 25\n",
    "    \n",
    "        for j in compareNumbers:\n",
    "            if (i % j == 0):\n",
    "                if (i != j):\n",
    "                    isPrime = False\n",
    "    \n",
    "        if isPrime:\n",
    "            primesArray.append(i)\n",
    "    \n",
    "        removeNumbers = set(range(i, p+1, i))\n",
    "        numSet = numSet - removeNumbers\n",
    "        \n",
    "\n",
    "    return primesArray\n",
    "\n",
    "printPrimes(100)"
   ]
  },
  {
   "cell_type": "markdown",
   "metadata": {},
   "source": [
    "4) Using the square root function of the math module, write a function to calculate and return the hypotenuse of a right angled triangle, where the lengths of the other two sides of the triangle are the inputs to the function. "
   ]
  },
  {
   "cell_type": "code",
   "execution_count": 13,
   "metadata": {},
   "outputs": [
    {
     "data": {
      "text/plain": [
       "1.4142135623730951"
      ]
     },
     "execution_count": 13,
     "metadata": {},
     "output_type": "execute_result"
    }
   ],
   "source": [
    "import math\n",
    "\n",
    "def hyp(a,b):\n",
    "    return math.sqrt(a**2 + b**2)\n",
    "\n",
    "hyp(1,1)"
   ]
  },
  {
   "cell_type": "markdown",
   "metadata": {},
   "source": [
    "5) Write a function that calculates the volume of a cylinder, where the diameter and length are the inputs to the function. Compare how the solution varies when using the built-in value of pi from the math module compared to using approximations for pi that you store in a variable yourself."
   ]
  },
  {
   "cell_type": "code",
   "execution_count": 16,
   "metadata": {},
   "outputs": [
    {
     "data": {
      "text/plain": [
       "[157.0, 157.07963267948966]"
      ]
     },
     "execution_count": 16,
     "metadata": {},
     "output_type": "execute_result"
    }
   ],
   "source": [
    "import math\n",
    "\n",
    "def volCyl(dia,length):\n",
    "    pi = 3.14\n",
    "    math.pi\n",
    "\n",
    "    return [length*((dia/2)**2 * pi),length*((dia/2)**2 * math.pi)]\n",
    "\n",
    "volCyl(10,2)"
   ]
  },
  {
   "cell_type": "markdown",
   "metadata": {},
   "source": [
    "6) Generate a list of random integers using the random module. Write a function that takes this list of random integers and returns both the mean and median values. You may find some of the built-in Python functions useful to you again."
   ]
  },
  {
   "cell_type": "code",
   "execution_count": 21,
   "metadata": {},
   "outputs": [
    {
     "data": {
      "text/plain": [
       "'The mean is 6.1 and the median value is 6.5'"
      ]
     },
     "execution_count": 21,
     "metadata": {},
     "output_type": "execute_result"
    }
   ],
   "source": [
    "import random\n",
    "import numpy\n",
    "\n",
    "def meanAndMedian():\n",
    "    arr = []\n",
    "    for i in range(0,10):\n",
    "        x = random.randint(1,10)\n",
    "        arr.append(x)\n",
    "\n",
    "    return \"The mean is \" + str(sum(arr)/len(arr)) + \" and the median value is \" + str(numpy.median(arr))\n",
    "\n",
    "meanAndMedian()"
   ]
  },
  {
   "cell_type": "markdown",
   "metadata": {},
   "source": [
    "7) Implement a function called `coinToss`. The function should take a variable `n` as input, which represents the number of times to flip a coin. The function should return the number of heads, the number of tails, and the length of the longest streak of the same result. You should use a random number generator to implement your coin.\n",
    "\n",
    "E.g. If the input was 15 and sequence of coin flips was HHTHTTHTTHHHTTH then we should return 8,7,3 as we flipped 8 heads, 7 tails, and there was a longest streak of 3 heads in a row."
   ]
  },
  {
   "cell_type": "code",
   "execution_count": 45,
   "metadata": {},
   "outputs": [
    {
     "name": "stdout",
     "output_type": "stream",
     "text": [
      "[59, 41, 8]\n"
     ]
    }
   ],
   "source": [
    "import random\n",
    "\n",
    "def coinToss(n):\n",
    "    heads = 0\n",
    "    tails = 0\n",
    "    currentStreak = 0\n",
    "    maxStreak = 0\n",
    "    lastFlip = None\n",
    "    \n",
    "    for i in range(n):\n",
    "        flip = random.choice([\"heads\", \"tails\"])\n",
    "        \n",
    "        if flip == \"heads\":\n",
    "            heads += 1\n",
    "        else:\n",
    "            tails += 1\n",
    "        \n",
    "        if flip == lastFlip:\n",
    "            currentStreak += 1\n",
    "        else:\n",
    "            currentStreak = 1  \n",
    "\n",
    "        if maxStreak < currentStreak:\n",
    "            maxStreak = currentStreak\n",
    "        lastFlip = flip\n",
    "    \n",
    "    return [heads, tails, maxStreak]\n",
    "\n",
    "print(coinToss(100))\n"
   ]
  },
  {
   "cell_type": "markdown",
   "metadata": {},
   "source": [
    "8) Using the copy module, make a copy of the list L. Change some values in your new list, and print both lists out to ensure they are both different."
   ]
  },
  {
   "cell_type": "code",
   "execution_count": 46,
   "metadata": {},
   "outputs": [
    {
     "name": "stdout",
     "output_type": "stream",
     "text": [
      "[5, 4, 6, 8, 10, 9, 7, 5, 3, 1]\n",
      "[2, 4, 6, 8, 10, 9, 7, 5, 3, 1]\n"
     ]
    }
   ],
   "source": [
    "L = [2,4,6,8,10,9,7,5,3,1]\n",
    "\n",
    "L1 = L.copy()\n",
    "\n",
    "L[0] = 5\n",
    "\n",
    "print(L)\n",
    "print(L1)"
   ]
  },
  {
   "cell_type": "code",
   "execution_count": null,
   "metadata": {},
   "outputs": [],
   "source": []
  },
  {
   "cell_type": "code",
   "execution_count": null,
   "metadata": {},
   "outputs": [],
   "source": []
  },
  {
   "cell_type": "code",
   "execution_count": null,
   "metadata": {},
   "outputs": [],
   "source": []
  }
 ],
 "metadata": {
  "kernelspec": {
   "display_name": "Python 3 (ipykernel)",
   "language": "python",
   "name": "python3"
  },
  "language_info": {
   "codemirror_mode": {
    "name": "ipython",
    "version": 3
   },
   "file_extension": ".py",
   "mimetype": "text/x-python",
   "name": "python",
   "nbconvert_exporter": "python",
   "pygments_lexer": "ipython3",
   "version": "3.13.5"
  }
 },
 "nbformat": 4,
 "nbformat_minor": 4
}
