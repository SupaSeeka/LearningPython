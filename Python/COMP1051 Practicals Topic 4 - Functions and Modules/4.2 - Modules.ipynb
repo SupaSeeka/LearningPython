{
 "cells": [
  {
   "cell_type": "markdown",
   "metadata": {},
   "source": [
    "## Modules\n",
    "\n",
    "Modules can be considered an extension of functions in Python. They are generally collections of functions that focus on a particular problem domain. For example, the module called `random`, that we will look at shortly, provides a collection of functions that perform useful tasks for us such as generating random integers and floats. Often these are designed in order to provide improved computational performance for common tasks, with a number of modules actually being written in the C programming language, which tends to be very computationally efficient.\n",
    "\n",
    "You will also see references made to 'packages' in Python, and these are collections of modules. In reality, most people use the terms modules and packages interchangeably, despite the fact they are technically different. \n",
    "\n",
    "Python provides a number of 'built-in' modules, and we will look briefly at how to use some of the most useful ones in this notebook such as `random`, `math`, and `copy`. If you're interested you can see the full list of built-in modules here: https://docs.python.org/3/py-modindex.html\n",
    "\n",
    "One of the key advantages of Python however is the huge number of third party packages available! As you work through your degree you are likely to use a large number of these third party packages, such as matplotlib, NumPy, SciPy, Pygame, PyTorch and TensorFlow to name just a few. The standard repository for these packages is the Python Package Index (PyPI) which you can find here: https://pypi.org/\n",
    "\n",
    "Using this Jupyter notebook server on NCC you won't be able to install your own additional packages, that is controlled by the system admin. However, if you are using the generic NCC Jupyter server http://ncc1.clients.dur.ac.uk/COMP0000 or running Python locally on your own machine you will be able to use virtual environments and \"pip install\" packages of your choice, but we won't cover that in this particular topic. If you want to know more about installing packages on your own machine the demonstrators should be able to point you in the right direction. \n",
    "\n",
    "Instructions will be provided for using external packages on NCC and your own machines in a later topic. For now let us take a look at some of the built-in modules provided by default.\n",
    "\n"
   ]
  },
  {
   "cell_type": "markdown",
   "metadata": {},
   "source": [
    "### The `random` module\n",
    "\n",
    "In order to use any modules, we must first import them. Generally we want to minimise the number of modules we import, and only import those that are essential for our task. Importing unneccessary packages just adds overhead to executing our code, hence why they are not all imported by default!\n",
    "\n",
    "We'll start by looking at the `random` module, and in the code block below we just import it. Once imported we can use the functions provided by this module anywhere in this notebook."
   ]
  },
  {
   "cell_type": "code",
   "execution_count": 1,
   "metadata": {},
   "outputs": [],
   "source": [
    "import random"
   ]
  },
  {
   "cell_type": "markdown",
   "metadata": {},
   "source": [
    "Once we have imported a module we can use any of the functions that are available in the module by referring to them in the format:\n",
    "\n",
    "`<moduleName>.<functionName>`\n",
    "\n",
    "There are four really useful functions of random that we'll explore here. The first is the `randrange` function, which will generate a random integer for us in the range from 0 to the value provided as an argument, in this case 10 (though not including 10). Try running the code block below multiple times and you should get a selection of random numbers."
   ]
  },
  {
   "cell_type": "code",
   "execution_count": 3,
   "metadata": {},
   "outputs": [
    {
     "name": "stdout",
     "output_type": "stream",
     "text": [
      "3\n"
     ]
    }
   ],
   "source": [
    "x = random.randrange(10)\n",
    "print(x)"
   ]
  },
  {
   "cell_type": "markdown",
   "metadata": {},
   "source": [
    "You can actually provide `randrange` with more arguments, and much like we did for slicing lists, we can provide a start, stop and step value. In the example above we just provided a stop value, and Python will assume start = 0 and step = 1. Take a look at the examples below to see this in action. "
   ]
  },
  {
   "cell_type": "code",
   "execution_count": 4,
   "metadata": {},
   "outputs": [
    {
     "name": "stdout",
     "output_type": "stream",
     "text": [
      "6\n",
      "4\n"
     ]
    }
   ],
   "source": [
    "# Output a random number in the range 2 <= x < 10, and x = 2 + 2*i for some value i\n",
    "\n",
    "x = random.randrange(2,10,2)\n",
    "print(x)\n",
    "\n",
    "\n",
    "# Lets change the start and step\n",
    "# Output a random number in the range 1 <= x < 10, and x = 1 + 3*i for some value i\n",
    "\n",
    "x = random.randrange(1,10,3)\n",
    "print(x)"
   ]
  },
  {
   "cell_type": "markdown",
   "metadata": {},
   "source": [
    "Hopefully the examples make clear how the step works in this function. If we're using this function format with three arguments, we know our random numbers will satisfy these conditions:\n",
    "\n",
    "$$start \\leq x < stop$$\n",
    "$$x = start + step*i$$  for any integer $i$.\n",
    "\n",
    "<br>\n",
    "\n",
    "Confusingly, there is a second function for generating random integers in a range, that is almost identical to `randrange`, except it has no step option, and it changes the first condition to:\n",
    "$$start \\leq x \\leq stop$$\n",
    "\n",
    "That function is called `randint`, and you can see an example of using this below. If you run this code block enough times you will see that it can return the value 10, which the previous function wouldn't do."
   ]
  },
  {
   "cell_type": "code",
   "execution_count": 6,
   "metadata": {},
   "outputs": [
    {
     "name": "stdout",
     "output_type": "stream",
     "text": [
      "7\n"
     ]
    }
   ],
   "source": [
    "x = random.randint(1,10)\n",
    "print(x)"
   ]
  },
  {
   "cell_type": "markdown",
   "metadata": {},
   "source": [
    "Maybe we don't want to generate random integer values, but instead we'd prefer to have random floating point values. Quite often you would use random floats in the range from 0 to 1 to simulate events occuring with a given probability. For example, if you're interested in simulating the flip of a coin, you might say that random floats above 0.5 represent a head, whereas values below 0.5 represent a tail. You should be careful with the exact conditions to make sure the chances of each event occuring are fair! To generate such random floats we can use the `random` function within the `random` module, and yes, as strange as it may look, our code will end up being `random.random`:"
   ]
  },
  {
   "cell_type": "code",
   "execution_count": null,
   "metadata": {},
   "outputs": [],
   "source": [
    "x = random.random()\n",
    "print(x)"
   ]
  },
  {
   "cell_type": "markdown",
   "metadata": {},
   "source": [
    "By this point you might be wondering, how does Python actually provide us with random numbers? The answer is that it doesn't really.... What Python actually returns are pseudo-random numbers, so numbers that look and behave like random numbers, but they are infact generated by a mathematical function. If that function uses the same input value, it would produce the same random number every time, as strange as that sounds. This input value is generally provided by the operating system, and the classical method is to use the current time from the system clock. If we want to we can override this behaviour, and provide our own seed. This allows us to generate a reproducible random number, which can often be useful if we're trying to test various algorithms on the same random input list for example. To do this we can provide an argument to the `seed` function of the random module."
   ]
  },
  {
   "cell_type": "code",
   "execution_count": 11,
   "metadata": {},
   "outputs": [
    {
     "name": "stdout",
     "output_type": "stream",
     "text": [
      "0.13436424411240122\n"
     ]
    }
   ],
   "source": [
    "random.seed(1)\n",
    "x = random.random()\n",
    "print(x)"
   ]
  },
  {
   "cell_type": "markdown",
   "metadata": {},
   "source": [
    "The number is \"random\", but it is the same random number every time. If you try changing the seed you'll see that you get a different random number, but still the same number every time you execute the code block with that seed.\n",
    "\n",
    "Thats everything we will cover here on the random module. If you're interested in looking at the other functions provided by the random module you can check out the documentation here: https://docs.python.org/3/library/random.html#module-random\n",
    "\n",
    "<br>"
   ]
  },
  {
   "cell_type": "markdown",
   "metadata": {},
   "source": [
    "### The `math` module\n",
    "\n",
    "This module is probably quite self-explanatory. It provides us with a variety of useful functions for basic mathematical operations, such as computing square roots, powers and logarithms, trigonometric functions, and some special constant values such as `pi` and `e`. We won't go into as much detail on this module, as we've seen the basics of how modules work already. Below are a series of examples that show some of the useful functions available to us in the math module:"
   ]
  },
  {
   "cell_type": "code",
   "execution_count": 12,
   "metadata": {},
   "outputs": [],
   "source": [
    "import math"
   ]
  },
  {
   "cell_type": "code",
   "execution_count": 13,
   "metadata": {},
   "outputs": [
    {
     "name": "stdout",
     "output_type": "stream",
     "text": [
      "36.0\n",
      "42.540042248725975\n"
     ]
    }
   ],
   "source": [
    "x = 6\n",
    "y = 2\n",
    "\n",
    "# Calculate x to the power y. This will work for floats and ints, so the solution is always a float\n",
    "z = math.pow(x,y)\n",
    "print(z)\n",
    "\n",
    "\n",
    "a = math.pow(5.5,2.2)\n",
    "print(a)"
   ]
  },
  {
   "cell_type": "code",
   "execution_count": 14,
   "metadata": {},
   "outputs": [
    {
     "name": "stdout",
     "output_type": "stream",
     "text": [
      "4.0\n",
      "4.47213595499958\n"
     ]
    }
   ],
   "source": [
    "# Calculate the square root of a number - the answer is always a float, even if the answer could be an integer\n",
    "z = math.sqrt(16)\n",
    "print(z)\n",
    "\n",
    "z = math.sqrt(20)\n",
    "print(z)"
   ]
  },
  {
   "cell_type": "code",
   "execution_count": 15,
   "metadata": {},
   "outputs": [
    {
     "name": "stdout",
     "output_type": "stream",
     "text": [
      "0.8414709848078965\n",
      "0.9999999792586128\n"
     ]
    }
   ],
   "source": [
    "# Calculate the sin of an input given in radians\n",
    "z = math.sin(1)\n",
    "print(z)\n",
    "\n",
    "#Roughly the sin of pi/2\n",
    "z = math.sin(3.142/2)\n",
    "print(z)"
   ]
  },
  {
   "cell_type": "markdown",
   "metadata": {},
   "source": [
    "In the code above it would be really useful if we had an accurate representation of pi. As we've already mentioned, the math module provides us with this special constant value, as you can see in the example below:"
   ]
  },
  {
   "cell_type": "code",
   "execution_count": 16,
   "metadata": {},
   "outputs": [
    {
     "name": "stdout",
     "output_type": "stream",
     "text": [
      "3.141592653589793\n",
      "1.0\n"
     ]
    }
   ],
   "source": [
    "pi = math.pi\n",
    "print(pi)\n",
    "\n",
    "#Calculate the sin of pi/2 using the provided constant pi\n",
    "z = math.sin(pi/2)\n",
    "print(z)"
   ]
  },
  {
   "cell_type": "markdown",
   "metadata": {},
   "source": [
    "For all of the details of the functions and special constants available in the math module you can find the documentation here: https://docs.python.org/3/library/math.html#module-math\n",
    "\n",
    "<br>"
   ]
  },
  {
   "cell_type": "markdown",
   "metadata": {},
   "source": [
    "### The `copy` module\n",
    "\n",
    "The final useful module we will very briefly consider is the `copy` module. This is actually a tiny module, with just a handful of functions avaiable, which you can see if you look at the documentation: https://docs.python.org/3/library/copy.html#module-copy\n",
    "\n",
    "Despite that, we're only going to look at one particular method at the moment, and that is the `copy` function. This function is designed to help us overcome the issues we saw all the way back in Topic 1 when we tried to make a copy of a list using assignment, and things didn't work as we'd hoped."
   ]
  },
  {
   "cell_type": "code",
   "execution_count": 17,
   "metadata": {},
   "outputs": [],
   "source": [
    "import copy"
   ]
  },
  {
   "cell_type": "code",
   "execution_count": 18,
   "metadata": {},
   "outputs": [
    {
     "name": "stdout",
     "output_type": "stream",
     "text": [
      "[10, 8, 6, 4, 2]\n"
     ]
    }
   ],
   "source": [
    "L = [10,8,6,4,2]\n",
    "\n",
    "L1 = copy.copy(L)\n",
    "print(L1)"
   ]
  },
  {
   "cell_type": "markdown",
   "metadata": {},
   "source": [
    "You'll have to trust that this has worked correctly, unlike when we tried to copy a list back in Topic 1. One of the exercises for this topic is to prove to yourself that this has worked by trying to edit some of the values in both lists and proving that changing a value in one list doesn't change the corresponding value in the other list."
   ]
  },
  {
   "cell_type": "markdown",
   "metadata": {},
   "source": [
    "Now we've covered all of the material we need to know on how to define our own functions and using the functions provided to us by Python modules. We can't possibly look at every available function in these notebooks, but hopefully we've seen enough examples that you can now look at the Python documentation and understand how to use the majority of the functions that you find there. Move on now and take a look at the exercises in the final notebook of this topic, where you will have the chance to practice some of the things we've learnt here."
   ]
  }
 ],
 "metadata": {
  "kernelspec": {
   "display_name": "Python 3 (ipykernel)",
   "language": "python",
   "name": "python3"
  },
  "language_info": {
   "codemirror_mode": {
    "name": "ipython",
    "version": 3
   },
   "file_extension": ".py",
   "mimetype": "text/x-python",
   "name": "python",
   "nbconvert_exporter": "python",
   "pygments_lexer": "ipython3",
   "version": "3.13.5"
  }
 },
 "nbformat": 4,
 "nbformat_minor": 4
}
