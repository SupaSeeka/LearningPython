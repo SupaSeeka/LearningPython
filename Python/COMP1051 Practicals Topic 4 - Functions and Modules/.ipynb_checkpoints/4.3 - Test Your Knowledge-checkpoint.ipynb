{
 "cells": [
  {
   "cell_type": "markdown",
   "metadata": {},
   "source": [
    "## Test Your Knowledge\n",
    "\n",
    "In the blocks below you will find a range of questions that cover the material we've looked at in the previous notebooks. Make sure you can do these tasks before you move on to the next topic, which will cover modules and functions in Python. \n",
    "<br>"
   ]
  },
  {
   "cell_type": "markdown",
   "metadata": {},
   "source": [
    "1) Take a look at the built-in `round` and `sorted` functions in the Python documentation. Use them, with any other functions you think might be useful, to convert the unsorted list of floats into a sorted list of floats that are all rounded to 2 decimal places."
   ]
  },
  {
   "cell_type": "code",
   "execution_count": null,
   "metadata": {},
   "outputs": [],
   "source": [
    "L = [3.765, 2.094, -5.092, -2.43, 2.51, 1.02]\n",
    "\n",
    "#YOUR CODE GOES HERE"
   ]
  },
  {
   "cell_type": "markdown",
   "metadata": {},
   "source": [
    "2) Define your own function that calculates and returns the value of the expression a*b+c for three variables `a`,`b`, and `c`."
   ]
  },
  {
   "cell_type": "code",
   "execution_count": null,
   "metadata": {},
   "outputs": [],
   "source": [
    "#YOUR CODE GOES HERE"
   ]
  },
  {
   "cell_type": "markdown",
   "metadata": {},
   "source": [
    "3) Define your own function that will print out all prime numbers between 3 and an input `p`. It will probably be helpful to reuse a significant portion of code you developed for a similar question in the previous topic."
   ]
  },
  {
   "cell_type": "code",
   "execution_count": null,
   "metadata": {},
   "outputs": [],
   "source": [
    "#YOUR CODE GOES HERE"
   ]
  },
  {
   "cell_type": "markdown",
   "metadata": {},
   "source": [
    "4) Using the square root function of the math module, write a function to calculate and return the hypotenuse of a right angled triangle, where the lengths of the other two sides of the triangle are the inputs to the function. "
   ]
  },
  {
   "cell_type": "code",
   "execution_count": null,
   "metadata": {},
   "outputs": [],
   "source": [
    "#YOUR CODE GOES HERE"
   ]
  },
  {
   "cell_type": "markdown",
   "metadata": {},
   "source": [
    "5) Write a function that calculates the volume of a cylinder, where the diameter and length are the inputs to the function. Compare how the solution varies when using the built-in value of pi from the math module compared to using approximations for pi that you store in a variable yourself."
   ]
  },
  {
   "cell_type": "code",
   "execution_count": null,
   "metadata": {},
   "outputs": [],
   "source": [
    "#YOU CODE GOES HERE"
   ]
  },
  {
   "cell_type": "markdown",
   "metadata": {},
   "source": [
    "6) Generate a list of random integers using the random module. Write a function that takes this list of random integers and returns both the mean and median values. You may find some of the built-in Python functions useful to you again."
   ]
  },
  {
   "cell_type": "code",
   "execution_count": null,
   "metadata": {},
   "outputs": [],
   "source": [
    "#YOUR CODE GOES HERE"
   ]
  },
  {
   "cell_type": "markdown",
   "metadata": {},
   "source": [
    "7) Implement a function called `coinToss`. The function should take a variable `n` as input, which represents the number of times to flip a coin. The function should return the number of heads, the number of tails, and the length of the longest streak of the same result. You should use a random number generator to implement your coin.\n",
    "\n",
    "E.g. If the input was 15 and sequence of coin flips was HHTHTTHTTHHHTTH then we should return 8,7,3 as we flipped 8 heads, 7 tails, and there was a longest streak of 3 heads in a row."
   ]
  },
  {
   "cell_type": "code",
   "execution_count": null,
   "metadata": {},
   "outputs": [],
   "source": [
    "#YOUR CODE GOES HERE"
   ]
  },
  {
   "cell_type": "markdown",
   "metadata": {},
   "source": [
    "8) Using the copy module, make a copy of the list L. Change some values in your new list, and print both lists out to ensure they are both different."
   ]
  },
  {
   "cell_type": "code",
   "execution_count": null,
   "metadata": {},
   "outputs": [],
   "source": [
    "L = [2,4,6,8,10,9,7,5,3,1]\n",
    "\n",
    "#YOUR CODE GOES HERE"
   ]
  }
 ],
 "metadata": {
  "kernelspec": {
   "display_name": "Python 3 (ipykernel)",
   "language": "python",
   "name": "python3"
  },
  "language_info": {
   "codemirror_mode": {
    "name": "ipython",
    "version": 3
   },
   "file_extension": ".py",
   "mimetype": "text/x-python",
   "name": "python",
   "nbconvert_exporter": "python",
   "pygments_lexer": "ipython3",
   "version": "3.12.2"
  }
 },
 "nbformat": 4,
 "nbformat_minor": 4
}
