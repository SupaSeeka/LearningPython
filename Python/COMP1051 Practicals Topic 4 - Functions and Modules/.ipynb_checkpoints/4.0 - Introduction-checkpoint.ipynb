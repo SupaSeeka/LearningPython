{
 "cells": [
  {
   "cell_type": "markdown",
   "metadata": {},
   "source": [
    "<br>\n",
    "\n",
    "## Topic 4: Functions and Modules\n",
    "\n",
    "In the previous topic we started to look at developing slightly longer segments of code, building on the single line statements we had seen previously. We introduced conditionals and loops which allowed us to develop much more complex code involving decision making. As our code segments grow in size we need to try to keep our programs organised, which brings us neatly on to the first aspects of this topic where we will learn how to use functions. Python provides us with a number of built-in functions, some of which we've already seen, but we can also define our own functions using the `def` keyword. Functions are fantastic tools for code maintainance, as they allow us to write a piece of code and reuse it multiple times. We'll see some examples of this later on.\n",
    "\n",
    "In the second part of this topic we'll introduce Python modules, and get some practice with the most common and useful modules available. In particular we will look at the modules `math`, `copy`, and `random`, and some of the vast number of handy functions they provide us with!\n",
    "\n",
    "As always, if you encounter errors that you cannot figure out, or you want something explaining, then please ask you lab demonstrator or discuss things between yourselves in the lab. \n"
   ]
  },
  {
   "cell_type": "markdown",
   "metadata": {},
   "source": [
    "\n",
    "\n",
    "### Learning Objectives\n",
    "\n",
    "By the end of this topic you should be confident in writing your own functions and using them in your code. You should also have an understanding of how to import modules and use the most common functions in your code. As usual we'll look at lots of examples to help you practice and reinforce your knowledge. You should work through these notebooks in your own time:\n",
    "* 4.1 - Functions\n",
    "* 4.2 - Modules\n",
    "* 4.3 - Test Your Knowledge\n",
    "\n",
    "Beyond the content given in these notebooks you will also find useful information in Chapter 3 of the Perkovic text book, and notebooks 8 and 13 of the Whirlwind Tour of Python. If you've studied Python before, and you are confident in your knowledge, you should take a glance at the first two notebooks, and make sure you can complete the exercises in the third notebook. "
   ]
  }
 ],
 "metadata": {
  "kernelspec": {
   "display_name": "Python 3 (ipykernel)",
   "language": "python",
   "name": "python3"
  },
  "language_info": {
   "codemirror_mode": {
    "name": "ipython",
    "version": 3
   },
   "file_extension": ".py",
   "mimetype": "text/x-python",
   "name": "python",
   "nbconvert_exporter": "python",
   "pygments_lexer": "ipython3",
   "version": "3.12.2"
  }
 },
 "nbformat": 4,
 "nbformat_minor": 4
}
