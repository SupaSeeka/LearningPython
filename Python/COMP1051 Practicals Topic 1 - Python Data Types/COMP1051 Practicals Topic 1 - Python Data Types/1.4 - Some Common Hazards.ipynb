{
 "cells": [
  {
   "cell_type": "markdown",
   "metadata": {},
   "source": [
    "## Some Common Hazards\n",
    "\n",
    "In this final notebook we will look briefly at some of the pitfalls that new programmers in Python may encounter. We cover these now in order to try and avoid falling victim to these problems in the future.\n",
    "\n",
    "The two hazards that we will discuss here both come about because Python variables are actually pointers that point to Python objects, as we saw in Notebook 1.1 - Variables and Types. "
   ]
  },
  {
   "cell_type": "markdown",
   "metadata": {},
   "source": [
    "<br>\n",
    "\n",
    "### Variables can change type in Python\n",
    "\n",
    "You may wonder why we refer to this as a hazard, as some programmers will see this as a handy feature of Python. It can however cause trouble if we do any type checks in our code, or if we accidentally program two different variables the same name one will replace the other without Python telling us!\n",
    "\n",
    "In many programming languages, if I try to create two variables with the same name they will give an error and tell us that a variable with that name already exists. Python however will allow you to have what looks like two variables with the same name, as what is does is just replace the original pointer with a new pointer! "
   ]
  },
  {
   "cell_type": "code",
   "execution_count": 1,
   "metadata": {},
   "outputs": [
    {
     "name": "stdout",
     "output_type": "stream",
     "text": [
      "Hello Hello \n",
      "False\n"
     ]
    }
   ],
   "source": [
    "x = 1\n",
    "#Some other code in here, and I forgot that I previously had a variable called x\n",
    "x = \"Hello \"\n",
    "#Some more code here, and I now try to use x, which I think should have the value 1 in it.\n",
    "x = x * 2\n",
    "\n",
    "print(x)\n",
    "print(type(x) is int)"
   ]
  },
  {
   "cell_type": "markdown",
   "metadata": {},
   "source": [
    "Hello Hello?! That's not what I expected! In other languages this error would be picked up, often at compile time, that this shouldn't be allowed. We've changed the type of the variable from an integer to a string, but in Python this is perfectly allowed, because the variable is just a pointer to an object. All thats happened is it now points to an object that contains a string, rather than the original object that contained an integer. This feature of Python is known as \"dynamic typing\", but if you've programmed in other languages before you may miss the safety net of variables being statically typed."
   ]
  },
  {
   "cell_type": "markdown",
   "metadata": {},
   "source": [
    "<br>\n",
    "\n",
    "### Mutable and Immutable objects\n",
    "\n",
    "This is an easy pitfall to fall victim to early on in your programming career in Python, and is usually encountered the first time you try to make a copy of some data. Say you have a variable `x` that contains a value, and you would like to make a copy of that data in another variable `y`. The mistake most of you would make (and most experienced programmers have made in the past) is to try to do `y = x`. Lets see the issue with that below: "
   ]
  },
  {
   "cell_type": "code",
   "execution_count": 2,
   "metadata": {},
   "outputs": [
    {
     "name": "stdout",
     "output_type": "stream",
     "text": [
      "x =  5\n",
      "y =  5\n"
     ]
    }
   ],
   "source": [
    "x = 5\n",
    "y = x\n",
    "\n",
    "print(\"x = \", x)\n",
    "print(\"y = \", y)"
   ]
  },
  {
   "cell_type": "markdown",
   "metadata": {},
   "source": [
    "Now lets try to change the value of `x`, but leave the value of `y` as it is."
   ]
  },
  {
   "cell_type": "code",
   "execution_count": 3,
   "metadata": {},
   "outputs": [
    {
     "name": "stdout",
     "output_type": "stream",
     "text": [
      "x =  1\n",
      "y =  5\n"
     ]
    }
   ],
   "source": [
    "x = 1\n",
    "\n",
    "print(\"x = \", x)\n",
    "print(\"y = \", y)"
   ]
  },
  {
   "cell_type": "markdown",
   "metadata": {},
   "source": [
    "Perfect thats worked exactly as we'd hoped. In fact, this will always work for integers, floats, booleans and strings, and these object types are called immutable, which means they cannot be changed. If I want to change the value pointed to by a variable, as I cannot change the value of an immutable object, I must instead create an entirely new object with the new value, and point my variable at that new object. However, you should be careful, not all objects are immutable...."
   ]
  },
  {
   "cell_type": "code",
   "execution_count": 4,
   "metadata": {},
   "outputs": [
    {
     "name": "stdout",
     "output_type": "stream",
     "text": [
      "x =  [1, 2, 3, 4, 5]\n",
      "y =  [1, 2, 3, 4, 5]\n"
     ]
    }
   ],
   "source": [
    "# x is a list that contains 5 values, 1 through 5.\n",
    "x = [1,2,3,4,5]\n",
    "y = x\n",
    "\n",
    "print(\"x = \", x)\n",
    "print(\"y = \", y)"
   ]
  },
  {
   "cell_type": "markdown",
   "metadata": {},
   "source": [
    "All good you say! They both have the data as we wanted, so everything is fine! Not so fast..."
   ]
  },
  {
   "cell_type": "code",
   "execution_count": 5,
   "metadata": {},
   "outputs": [
    {
     "name": "stdout",
     "output_type": "stream",
     "text": [
      "x =  [1, 2, 3, 4, 5, 6]\n",
      "y =  [1, 2, 3, 4, 5, 6]\n"
     ]
    }
   ],
   "source": [
    "#Now lets add another element to the list x, but leave y unchanged\n",
    "x.append(6)\n",
    "\n",
    "print(\"x = \", x)\n",
    "print(\"y = \", y)"
   ]
  },
  {
   "cell_type": "markdown",
   "metadata": {},
   "source": [
    "Noooooo! We changed the data in `x`, but it also changed the data in `y`. That didn't happen last time! The reason is that lists are mutable objects, that means that we can update them without needing to create a new object. Now things start to make sense when you consider x and y as pointers, and they point to the same data because of the `y = x` assignment. So if we change the data in the object, then the two variables that point at that object will both see the change.\n",
    "\n",
    "Thankfully all of the objects that we've looked at in this topic are immutable: Booleans, integers, floats, and strings can happily be copied using assignment such as `y = x` to copy the value of the variable `x` into `y`. If we try to change either variable, an entirely new object is created, and the pointer is updated to point at that new object. However, when we start to work with lists in the next topic, this is something we need to be aware of and remember!"
   ]
  },
  {
   "cell_type": "markdown",
   "metadata": {},
   "source": [
    "If you would like more detail on how mutable and immutable objects work in Python, I suggest you head to this webpage: \n",
    "<br><a href=\"https://realpython.com/pointers-in-python/\">https://realpython.com/pointers-in-python/</a>.  "
   ]
  }
 ],
 "metadata": {
  "kernelspec": {
   "display_name": "Python 3 (ipykernel)",
   "language": "python",
   "name": "python3"
  },
  "language_info": {
   "codemirror_mode": {
    "name": "ipython",
    "version": 3
   },
   "file_extension": ".py",
   "mimetype": "text/x-python",
   "name": "python",
   "nbconvert_exporter": "python",
   "pygments_lexer": "ipython3",
   "version": "3.12.2"
  }
 },
 "nbformat": 4,
 "nbformat_minor": 4
}
