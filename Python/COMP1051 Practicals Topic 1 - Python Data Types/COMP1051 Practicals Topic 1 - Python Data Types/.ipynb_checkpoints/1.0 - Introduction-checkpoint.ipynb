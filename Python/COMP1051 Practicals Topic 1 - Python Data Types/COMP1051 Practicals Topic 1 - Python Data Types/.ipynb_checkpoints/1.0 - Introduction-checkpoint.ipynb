{
 "cells": [
  {
   "cell_type": "markdown",
   "metadata": {},
   "source": [
    "<br>\n",
    "\n",
    "## Topic 1: Python Data Types\n",
    "\n",
    "In this Topic we'll cover the basic aspects of Python in order to get you started. There will be lots of chance to practice, and the notebooks will provide you with instant feedback information through print statements and error messages. Don't be afraid to make mistakes! The best way to learn how to program for the first time is to try things and see what works!\n",
    "If you encounter errors that you cannot figure out, or you want something explaining, then please ask the demonstrators in the lab session and they will get to you as soon as they can. \n"
   ]
  },
  {
   "cell_type": "markdown",
   "metadata": {},
   "source": [
    "\n",
    "\n",
    "### Learning Objectives\n",
    "\n",
    "By the end of this topic you should be confident in using the Jupyter notebook, and the basic aspects of Python variables. This includes how to assign values to variables, determine the type of a variable, understand the various operators, and be able to use them to construct expressions. You should work through these notebooks in your own time:\n",
    "* 1.1 - Variables and Types\n",
    "* 1.2 - Expressions and Operators\n",
    "* 1.3 - Test Your Knowledge\n",
    "* 1.4 - Some Common Hazards\n",
    "\n",
    "Beyond the content given in these notebooks you will also find useful information in notebooks 3, 4 & 5 of the Whirlwind Tour of Python. If you've studied Python before, and you are confident in your knowledge, you should take a glance at the first two notebooks, make sure you can complete the exercises in the third notebook and look at the final notebook in a little more detail. "
   ]
  },
  {
   "cell_type": "markdown",
   "metadata": {},
   "source": [
    "<br>\n",
    "\n",
    "### Using the Jupyter Notebook\n",
    "\n",
    "If you're running on your own machine, the you can leave the Jupyter Notebook running and come back to it at any time. If you're using NCC provided by the Department of Computer Science, then you should be aware that your Jupyter sessions last for 8 hours. After 8 hours you will need to click the Jupyterhub logo in the top left and restart your server if you wish to continue working.\n",
    "\n",
    "When you want to run code in a code block in Jupyter, you can should click in the box to turn it blue, and then either hit the run button above, or you can use the keyboard shortcut. On Windows that is Ctrl+Enter, the default for Mac should be Command+Enter, though I have seen different shortcuts on Mac. \n",
    "\n",
    "#### Try it now on the block below."
   ]
  },
  {
   "cell_type": "code",
   "execution_count": null,
   "metadata": {},
   "outputs": [],
   "source": [
    "1 + 2"
   ]
  },
  {
   "cell_type": "markdown",
   "metadata": {},
   "source": [
    "Jupyter should have printed an output message that says `Out[1]: 3`\n",
    "\n",
    "Also notice that the input line changed from `In [ ]` to `In [1]`\n",
    "\n",
    "This means that the notebook has run that code block, and it is the first code block in this notebook that has been run. The order of the code blocks can be important, some will depend on earlier blocks to work correctly. \n",
    "\n",
    "For example, to prove the point, I have purposefully put the two code blocks below in the incorrect order. If I run the top one first I will encounter an error. Don't be afraid of errors! Read the information carefully and it will generally tell you whats gone wrong, and the line of code that caused the error."
   ]
  },
  {
   "cell_type": "code",
   "execution_count": null,
   "metadata": {},
   "outputs": [],
   "source": [
    "print(x)"
   ]
  },
  {
   "cell_type": "markdown",
   "metadata": {},
   "source": [
    "If I run the code below, and then I run the code above again, this time it will work! Its all to do with the order of execution, as you can see from the numbers in the square brackets."
   ]
  },
  {
   "cell_type": "code",
   "execution_count": null,
   "metadata": {},
   "outputs": [],
   "source": [
    "x = \"Hello\""
   ]
  },
  {
   "cell_type": "markdown",
   "metadata": {},
   "source": [
    "You should try to ensure that you only run code blocks in order from the top of the page down to the bottom. You can check the numbers in the square brackets to make sure you've run the code in order. If you're unsure then the best thing to do is clear the values of all of the variables and start running the code afresh. You can do this from the `Kernel` menu at the top of the page. `Restart Kernel and Clear Outputs of All Cells` will clear the values of all variables and clear all of the output boxes, whereas `Restart Kernel and Run All Cells` goes one step further by running every code block on this page again in order from top to bottom. You can try these options now before moving on, though do remember to `Restart Kernel and Clear Outputs of All Cells` before looking at the next section.     "
   ]
  },
  {
   "cell_type": "markdown",
   "metadata": {},
   "source": [
    "### Writing comments"
   ]
  },
  {
   "cell_type": "markdown",
   "metadata": {},
   "source": [
    "Comments are a way in which you can document your code, in order to help you remember (or explain to others) how certain aspects of your code work. You can use comments for any purpose you like, but my general advice is simply to add comments to your code. There are a few different ways in which you can add comments to your code, and below we offer a variety of examples."
   ]
  },
  {
   "cell_type": "code",
   "execution_count": null,
   "metadata": {},
   "outputs": [],
   "source": [
    "#We can use the hash key to write a comment. Below we print the word Hello\n",
    "print(\"Hello\")"
   ]
  },
  {
   "cell_type": "code",
   "execution_count": null,
   "metadata": {},
   "outputs": [],
   "source": [
    "print(\"Hello\") #We can also put a comment on the same line as Python code, but it must come afterwards "
   ]
  },
  {
   "cell_type": "code",
   "execution_count": null,
   "metadata": {},
   "outputs": [],
   "source": [
    "#Comments can be spread\n",
    "#over multiple lines\n",
    "#just by starting each line\n",
    "#with the hash key\n",
    "\n",
    "print(\"Hello\")"
   ]
  },
  {
   "cell_type": "code",
   "execution_count": null,
   "metadata": {},
   "outputs": [],
   "source": [
    "#Comments can be used to quickly test what happens if we remove lines of code from our program\n",
    "\n",
    "#print(\"Hello\")\n",
    "print(\"Goodbye\")"
   ]
  },
  {
   "cell_type": "markdown",
   "metadata": {},
   "source": [
    "Try removing the hash from infront of the first print statement and then run the code block again"
   ]
  },
  {
   "cell_type": "markdown",
   "metadata": {},
   "source": [
    "There is also an alternative way of adding multiline comments which you may find neater. You can use the triple quotes notation like this:"
   ]
  },
  {
   "cell_type": "code",
   "execution_count": null,
   "metadata": {},
   "outputs": [],
   "source": [
    "\"\"\"\n",
    "This is a multiline comment,\n",
    "but I don't need to use a \n",
    "hash on every line\n",
    "\"\"\"\n",
    "\n",
    "print(\"Hello\")"
   ]
  },
  {
   "cell_type": "markdown",
   "metadata": {},
   "source": [
    "<br>\n",
    "\n",
    "### To print, or not to print\n",
    "\n",
    "As we start to work through the notebooks, you may find yourself asking why sometimes things are printed as output, and why at other times the same line of code prints nothing. This is a common mistake when first using Jupyter Notebooks. Run the following examples and lets take a look at what happens."
   ]
  },
  {
   "cell_type": "code",
   "execution_count": null,
   "metadata": {},
   "outputs": [],
   "source": [
    "1+2"
   ]
  },
  {
   "cell_type": "code",
   "execution_count": null,
   "metadata": {},
   "outputs": [],
   "source": [
    "1+2\n",
    "2+3"
   ]
  },
  {
   "cell_type": "markdown",
   "metadata": {},
   "source": [
    "In the first case the sum was calculated and the solution printed out. In the second example we had two lines of code, each requiring a calculation. However, we only got a single line of output, showing the solution to the second calculation. This is a feature of how Jupyter Notebooks work, and not a bug.\n",
    "\n",
    "In Jupyter, if the final line of code in a block can return some information, then it can print that information out under the code block. However, any other line of code that can return some information doesn't get given the same privilege! The safest thing to do if you want to display the result of some code is to always print it out. Python has to print out the information you tell it to print.  "
   ]
  },
  {
   "cell_type": "code",
   "execution_count": null,
   "metadata": {},
   "outputs": [],
   "source": [
    "print(1+2)\n",
    "print(2+3)"
   ]
  },
  {
   "cell_type": "markdown",
   "metadata": {},
   "source": [
    "In the example above we have used our first function - the print function. As we'll see in later notebooks, functions can take in information provided in the round brackets. The computation of the code given in those round brackets is executed first, and the result of that computation is then printed to the console. \n",
    "\n",
    "Printing is a very handy tool when starting to debug any issues in your code! You can ask Python to print out values at any point throughout the execution of a program, thus allowing you to check if the computation is progressing as you expected. "
   ]
  },
  {
   "cell_type": "markdown",
   "metadata": {},
   "source": [
    "<br>\n",
    "\n",
    "### I think I've broken it...\n",
    "\n",
    "Sometimes your notebook might get stuck, and there could be a couple of reasons for this. If you're working on NCC, maybe you've had some Internet problems for instance. The most common cause however is that you've got yourself stuck in some infinite computation! The example below will just print the number 1 until the end of time.... or until we hit the stop button at the top of the screen."
   ]
  },
  {
   "cell_type": "code",
   "execution_count": null,
   "metadata": {},
   "outputs": [],
   "source": [
    "while True:\n",
    "    print(1)"
   ]
  },
  {
   "cell_type": "markdown",
   "metadata": {},
   "source": [
    "In you don't see a number in the input box such as `In [8]`, but instead you're getting a star like `In [*]`, this means that your notebook is still trying to do something. If it seems to be taking much longer than expected and you think you've got a problem, just hit the stop button and ask a demonstrator for help if you can't spot the issue yourself.\n",
    "\n"
   ]
  },
  {
   "cell_type": "markdown",
   "metadata": {},
   "source": [
    "That covers all of the basics of the Jupyter Notebook system itself. Don't worry about pressing the buttons, you cannot break things! If in doubt, just hit the stop button, `Restart Kernel and Clear Outputs of All Cells`, and try again."
   ]
  }
 ],
 "metadata": {
  "kernelspec": {
   "display_name": "Python 3 (ipykernel)",
   "language": "python",
   "name": "python3"
  },
  "language_info": {
   "codemirror_mode": {
    "name": "ipython",
    "version": 3
   },
   "file_extension": ".py",
   "mimetype": "text/x-python",
   "name": "python",
   "nbconvert_exporter": "python",
   "pygments_lexer": "ipython3",
   "version": "3.12.2"
  }
 },
 "nbformat": 4,
 "nbformat_minor": 4
}
