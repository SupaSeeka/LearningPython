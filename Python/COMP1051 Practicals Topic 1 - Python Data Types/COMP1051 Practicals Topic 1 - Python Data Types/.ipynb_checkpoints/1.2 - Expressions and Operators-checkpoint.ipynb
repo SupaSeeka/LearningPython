{
 "cells": [
  {
   "cell_type": "markdown",
   "metadata": {},
   "source": [
    "## Expressions and Operators\n",
    "\n",
    "Now we know how to define variables and assign values to them, but there isn't much point in defining variables unless we can do something useful with them! In this section we will see how to use those variables in expressions and as operands to simple operators. This will allow us to do useful computation for the first time in our code. Once you have read through this notebook there will be some exercises for you to complete to test your understanding of the material so far.\n"
   ]
  },
  {
   "cell_type": "markdown",
   "metadata": {},
   "source": [
    "<br>\n",
    "\n",
    "### Algebraic Expressions and Operators\n",
    "\n",
    "Let us start with basic algebraic expressions - these involve the simple mathematical operators that you've been using your entire life. You can do all of the basic mathematical operations you would expect to be able to do in Python, using the notation you would expect. However there are a few standard operations that have some unusual syntax, and they are the ones we will concentrate most detail on in this section. "
   ]
  },
  {
   "cell_type": "code",
   "execution_count": null,
   "metadata": {},
   "outputs": [],
   "source": [
    "#Addition, with the result being stored in the variable x\n",
    "x = 1 + 2\n",
    "print(x)"
   ]
  },
  {
   "cell_type": "code",
   "execution_count": null,
   "metadata": {},
   "outputs": [],
   "source": [
    "#Subtraction and multiplication work in the same way, as do brackets.\n",
    "y = 20 - (3 * 6)\n",
    "print (y)"
   ]
  },
  {
   "cell_type": "markdown",
   "metadata": {},
   "source": [
    "Notice that in both cases above, all of the input values are integers, and the output values are also of integer type. If you change any of the values to a float, you will find that the output is also a float. Python does this to avoid losing any precision in the result, as adding a float to an int will likely result in a number that has a fractional element, and the only way to guarantee being able to output that number is to make it a float. Technically what happens is Python \"upcasts\" the int to a float, that is it changes the int value into a float, and adds together two floats to output a float.   "
   ]
  },
  {
   "cell_type": "code",
   "execution_count": null,
   "metadata": {},
   "outputs": [],
   "source": [
    "x = 1.5 + 2\n",
    "print(\"x = \", x)\n",
    "\n",
    "y = 1. + 2\n",
    "print(\"y = \", y)"
   ]
  },
  {
   "cell_type": "markdown",
   "metadata": {},
   "source": [
    "We can do powers (exponentiation) using the `**` notation. Again, if both inputs are integers we will get an integer back, or if one value is a float, Python will return us a float. "
   ]
  },
  {
   "cell_type": "code",
   "execution_count": null,
   "metadata": {},
   "outputs": [],
   "source": [
    "x = 5 ** 2\n",
    "print(x)"
   ]
  },
  {
   "cell_type": "code",
   "execution_count": null,
   "metadata": {},
   "outputs": [],
   "source": [
    "x = 2.5 ** 2\n",
    "print(x)"
   ]
  },
  {
   "cell_type": "markdown",
   "metadata": {},
   "source": [
    "Division is a little more complicated, as you can probably imagine. Most division operations will result in a fractional result, so Python assumes that the output of any division will be a float. However, there is a way to obtain only the integer part of the result, ignoring the fractional part, and Python will return an integer type. We can do this using the `//` operator."
   ]
  },
  {
   "cell_type": "code",
   "execution_count": null,
   "metadata": {},
   "outputs": [],
   "source": [
    "# Division will return a floating point number, even if the result could be an integer\n",
    "x = 7 / 2\n",
    "print(\"x = \", x)\n",
    "\n",
    "y = 4 / 2\n",
    "print(\"y = \", y)\n",
    "\n",
    "\n",
    "#In this case Python will do the division and just ignore the decimal part to return an integer\n",
    "#Sometimes referred to as integer division or floor division\n",
    "z = 7 // 2\n",
    "print(\"z = \", z)\n"
   ]
  },
  {
   "cell_type": "markdown",
   "metadata": {},
   "source": [
    "The final basic operator is the modulo or remainder operator, for which we use the percentage sign `%`. This gives us the remainder after integer division. We could combine the modulo operation with the integer division operator above to reconstruct our original number if we so wished. \n",
    "\n",
    "I.e. 7 = (2 * 3) + 1\n",
    "\n",
    "Where the 3 is the result of the floor division, and the 1 is the remainder."
   ]
  },
  {
   "cell_type": "code",
   "execution_count": null,
   "metadata": {},
   "outputs": [],
   "source": [
    "#Remainder after dividing 7 by 2\n",
    "x = 7 % 2\n",
    "print(\"x = \", x)\n"
   ]
  },
  {
   "cell_type": "markdown",
   "metadata": {},
   "source": [
    "<br>\n",
    "\n",
    "### Boolean Expressions and Operators\n",
    "\n",
    "Now we move on to Boolean expressions, and these involve the simple mathematical comparison operators. Again, you can do all of the basic mathematical comparisons you would expect to be able to do in Python, and when these are evaluated you get a Boolean value in return. You can also include any algebraic expressions within you Boolean expressions. The algebraic expressions will be evaluated first, and then the Boolean expressions. See the long list of examples below:"
   ]
  },
  {
   "cell_type": "code",
   "execution_count": null,
   "metadata": {},
   "outputs": [],
   "source": [
    "#Check if one value is greater than another\n",
    "a = (3 > 2)\n",
    "print(\"a = \", a)\n",
    "\n",
    "b = (2 > 3)\n",
    "print(\"b = \", b)\n",
    "\n",
    "#Check if two values are the same\n",
    "c = (3 == 3)\n",
    "print(\"c = \", c)\n",
    "\n",
    "#Check if two values are different\n",
    "d = (3 != 2)\n",
    "print(\"d = \", d)\n",
    "\n",
    "#Check for less than or equal to\n",
    "e = (3 <= 2)\n",
    "print(\"e = \", e)\n",
    "\n",
    "#Use algebraic expressions \n",
    "f = ((20-2) >= (3*5))\n",
    "print(\"f = \", f)"
   ]
  },
  {
   "cell_type": "markdown",
   "metadata": {},
   "source": [
    "As before, these expressions will work with floats too. Python will also happily compare floats and integers by upcasting any integers to floats. This is important to note if you're using the equality `==` operator, or the disequality `!=` operator in particular. You can see in the example below, if we take a float and an integer that represent the same number, Python will be able to recognise them as being equal."
   ]
  },
  {
   "cell_type": "code",
   "execution_count": null,
   "metadata": {},
   "outputs": [],
   "source": [
    "#Check if two values are the same, where one is a float and the other an int\n",
    "a = (3.0 == 3)\n",
    "print(\"a = \", a)"
   ]
  },
  {
   "cell_type": "markdown",
   "metadata": {},
   "source": [
    "Moving beyond the Boolean expressions above, we also have Boolean operators in Python. These allow us to take Boolean values and do Boolean logic with them. The basic Boolean operators are `and`, `or`, and `not`. The output of a Boolean operation is a Boolean value, that is either `True` or `False`. Our Boolean operators may be operating on Boolean expressions, which in turn could contain algebraic expressions, so we have to be clear on the order of operations. Things will happen in this order:\n",
    "1. First the algebraic expressions are evaluated.\n",
    "2. Next the Boolean expressions are evaluated.\n",
    "3. Finally the Boolean operators are evaluated.\n",
    "4. We output our final Boolean value."
   ]
  },
  {
   "cell_type": "code",
   "execution_count": null,
   "metadata": {},
   "outputs": [],
   "source": [
    "a = True and False\n",
    "print(\"a = \", a)\n",
    "\n",
    "b = True or False\n",
    "print(\"b = \", b)\n",
    "\n",
    "c = not True\n",
    "print(\"c = \", c)\n",
    "\n",
    "d = (5 > 4) and (2 >= 2)\n",
    "print(\"d = \", d)\n",
    "\n",
    "e = ((20-2) >= (3*5)) or not (2 < 3)\n",
    "print(\"e = \", e)"
   ]
  },
  {
   "cell_type": "markdown",
   "metadata": {},
   "source": [
    "<br>\n",
    "\n",
    "### Operator Precedence\n",
    "\n",
    "If we are given an expression containing a mix of algebraic and boolean operators it may not be obvious in what order the instructions will be obvious. This does change occasionally, so it's always best to check the Python documentation for the version you are running. For example, here is the documentation for Python 3.12 - https://docs.python.org/3.12/reference/expressions.html#operator-precedence\n",
    "\n",
    "Be careful if you are aware of the simplified operator precedence known as `PEMDAS`, which stands for Parentheses, Exponentiation, Multiplication, Division, Addition and Subtraction. It is important to remember that Multiplication and Division have the same precedence, as do Addition and Subtraction, so `PEMDAS` should be read as `P`, `E`, `MD`, `AS`. Where, for example, an expression contains both multiplication and division, the operations occur from left to right. \n",
    "\n",
    "Consider the two examples below:"
   ]
  },
  {
   "cell_type": "code",
   "execution_count": null,
   "metadata": {},
   "outputs": [],
   "source": [
    "3+2*5//2\n",
    "\n",
    "#The order of operations is:\n",
    "#  2*5 = 10\n",
    "# (2*5)//2 = 5\n",
    "# Finally add the 3 to get the answer 8"
   ]
  },
  {
   "cell_type": "code",
   "execution_count": null,
   "metadata": {},
   "outputs": [],
   "source": [
    "3+4//2*5\n",
    "\n",
    "#The order of operations is:\n",
    "#  4//2 = 2\n",
    "# (4//2)*5 = 10\n",
    "# Finally add the 3 to get the answer 13"
   ]
  },
  {
   "cell_type": "markdown",
   "metadata": {},
   "source": [
    "If you're happy with all of the content so far then you've mastered the basics of programming in Python! In the next notebook you will find some exercises to attempt. These will check that you've understood and can remember the different operators, and how to construct expressions."
   ]
  }
 ],
 "metadata": {
  "kernelspec": {
   "display_name": "Python 3 (ipykernel)",
   "language": "python",
   "name": "python3"
  },
  "language_info": {
   "codemirror_mode": {
    "name": "ipython",
    "version": 3
   },
   "file_extension": ".py",
   "mimetype": "text/x-python",
   "name": "python",
   "nbconvert_exporter": "python",
   "pygments_lexer": "ipython3",
   "version": "3.12.2"
  }
 },
 "nbformat": 4,
 "nbformat_minor": 4
}
