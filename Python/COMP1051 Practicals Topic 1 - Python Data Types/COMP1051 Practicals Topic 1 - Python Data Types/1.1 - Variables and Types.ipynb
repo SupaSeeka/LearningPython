{
 "cells": [
  {
   "cell_type": "markdown",
   "metadata": {},
   "source": [
    "## Variables and Types\n",
    "\n",
    "So now we should understand how our Jupyter notebook works, and we're ready to get our teeth into learning some Python. If you've learnt some programming previously in languages other than Python, you may find the way it does some things unusual. Please work through these notebooks at your own pace, there is no rush, and you can (and should) refer back to earlier notebooks at any point to help your understanding. "
   ]
  },
  {
   "cell_type": "markdown",
   "metadata": {},
   "source": [
    "<br>\n",
    "\n",
    "### Python Variables and Assignment\n",
    "\n",
    "Here we will cover the basic semantics (meanings) of variables (or names for the pedantic) and objects in Python. These refer to the way in which we can store and manipulate data in Python. If we want to assign some data to a variable in Python, we use the equals sign (`=`), you will often see this referred to as assigning a value to a variable. \n",
    "\n",
    "   ```python \n",
    "       x = 2337  : This assigns the value 2337 to the variable x.\n",
    "``` \n",
    "    \n",
    "Python is different to other languages in how data is stored. In this case `x` is actually a pointer that points to an object that itself contains the value 2337. Notice how the object also contains the \"type\" of the data, which in this case is an integer. This is different to many other programming languages where the variable has to be given a type.\n",
    "\n",
    "<img align=\"centre\" style=\"padding-right:50px;\" src=\"images/PythonPointer.png\" width=\"400\">\n",
    "Image source: https://realpython.com/pointers-in-python/\n",
    "\n",
    "<br>\n",
    "    \n",
    "In the code below we assign the value 2337 to the variable x, and then we use the built-in `type` function to ask Python what the type of this object is."
   ]
  },
  {
   "cell_type": "code",
   "execution_count": null,
   "metadata": {},
   "outputs": [],
   "source": [
    "x = 2337\n",
    "type(x)"
   ]
  },
  {
   "cell_type": "markdown",
   "metadata": {},
   "source": [
    "### Variable Names\n",
    "\n",
    "There are just a couple of simple rules you must follow for naming variables in Python. They can contain any of the following characters:\n",
    "* a-z\n",
    "* A-Z\n",
    "* 0-9\n",
    "* The underscore character _\n",
    "\n",
    "Your variable names cannot start with a number however, they must start with a letter or the underscore. Otherwise you have free choice over the words you use for variable names. There are a couple of common conventions in programming when you want a variable with a multi-word name:\n",
    "* Use the underscore to join words together\n",
    "* Use camelCase capitalisation\n"
   ]
  },
  {
   "cell_type": "code",
   "execution_count": null,
   "metadata": {},
   "outputs": [],
   "source": [
    "#Using an underscore to join words\n",
    "my_Variable = 1\n",
    "\n",
    "#Using camelCase, where each word starts with a capital letter.\n",
    "#Generally the first word starts with lower case, but that is up to you.\n",
    "myVariable = 1     "
   ]
  },
  {
   "cell_type": "markdown",
   "metadata": {},
   "source": [
    "Capitalisation is very important when it comes to naming variables. The two variables in the code block below are unique, different variables."
   ]
  },
  {
   "cell_type": "code",
   "execution_count": null,
   "metadata": {},
   "outputs": [],
   "source": [
    "myvariable = 1\n",
    "myVariable = 2"
   ]
  },
  {
   "cell_type": "markdown",
   "metadata": {},
   "source": [
    "<br>\n",
    "\n",
    "### Python Types\n",
    "\n",
    "As we can see from the example above, an integer is one of the object types available to us in Python. The main object types you will see in the this course are described in the table below: \n",
    "\n",
    "| Type             | Description                                                               |\n",
    "|------------------|---------------------------------------------------------------------------|\n",
    "| ``int``          | integers (i.e., whole numbers), both positive and negative                |\n",
    "| ``float``        | floating-point numbers (i.e., real numbers), both positive and negative   |\n",
    "| ``bool``         | Boolean: True/False values                                                |\n",
    "| ``str``          | String: characters or text                                                |\n",
    "\n",
    "Lets take a look at these in a bit more detail."
   ]
  },
  {
   "cell_type": "markdown",
   "metadata": {},
   "source": [
    "### Integer\n",
    "\n",
    "Python will class any number without a decimal point as an integer. You don't have to worry about integers overflowing in Python as you may have done in other languages. Python supports arbitrary precision integers, so you can make them as large as you like, such as in the example below! The print lines below each variable print out the value of the variable, and check if the type is an int, printing `True` if it is. Don't worry about how those print statements work just yet, we'll come to that in a later notebook."
   ]
  },
  {
   "cell_type": "code",
   "execution_count": null,
   "metadata": {},
   "outputs": [],
   "source": [
    "a = 1           #This is an integer (int)\n",
    "print(\"a = \", a)\n",
    "print(type(a) is int)\n",
    "\n",
    "b = -5          #This is also an integer\n",
    "print(\"b = \", b)\n",
    "print(type(b) is int)\n",
    "\n",
    "c = 2 ** 100    #This is still an integer, though a really large one, 2^100.\n",
    "print(\"c = \", c)\n",
    "print(type(c) is int)\n",
    "\n",
    "d = 2 ** 750    #Still an integer, so large it prints over multiple lines.\n",
    "print(\"d = \", d)\n",
    "print(type(d) is int)"
   ]
  },
  {
   "cell_type": "markdown",
   "metadata": {},
   "source": [
    "### Float\n",
    "\n",
    "Python will class any number with a decimal point as a floating point number, which we often refer to as a float. We can also use the scientific exponential number form to assign a floating point value to a variable.  "
   ]
  },
  {
   "cell_type": "code",
   "execution_count": null,
   "metadata": {},
   "outputs": [],
   "source": [
    "a = 2.5\n",
    "print(\"a = \", a)\n",
    "print(type(a) is float)\n",
    "\n",
    "b = 2.5e3\n",
    "print(\"b = \", b)\n",
    "print(type(b) is float)\n",
    "\n",
    "c = 2.5e-3\n",
    "print(\"c = \", c)\n",
    "print(type(c) is float)"
   ]
  },
  {
   "cell_type": "markdown",
   "metadata": {},
   "source": [
    "In fact, we don't even need to put any digits after the decimal point, and Python will still interpret our number as a float."
   ]
  },
  {
   "cell_type": "code",
   "execution_count": null,
   "metadata": {},
   "outputs": [],
   "source": [
    "a = 2.         \n",
    "print(\"a = \", a)\n",
    "print(type(a) is float)"
   ]
  },
  {
   "cell_type": "markdown",
   "metadata": {},
   "source": [
    "### Boolean\n",
    "\n",
    "This is a very simple type as there are only two values, `True` and `False`. We can either assign one of these values to a variable, or the value can be calculated from an expression (which we will cover later in this topic). The key thing to remember with Python is that `True` and `False` must start with capital letters, which is different to a lot of other languages. "
   ]
  },
  {
   "cell_type": "code",
   "execution_count": null,
   "metadata": {},
   "outputs": [],
   "source": [
    "a = True\n",
    "print(\"a = \", a)\n",
    "print(type(a) is bool)\n",
    "\n",
    "b = (1 > 0)     #This is an expression, we compare the values 1 and 0, and if the inequality holds then b will be True\n",
    "print(\"b = \", b)\n",
    "print(type(b) is bool)\n"
   ]
  },
  {
   "cell_type": "markdown",
   "metadata": {},
   "source": [
    "### String\n",
    "\n",
    "Any text data in Python must be stored as a string. We can tell Python that data should be interpreted as a string by wrapping the data in single `' '` or double `\" \"` speech/quotation marks. It doesn't matter which convention you use, it is entirely your choice. Jupyter will usually give you a pair of such quotation marks when you first press the key, for you to write your string inside."
   ]
  },
  {
   "cell_type": "code",
   "execution_count": null,
   "metadata": {},
   "outputs": [],
   "source": [
    "a = \"Hello\"\n",
    "print(\"a = \", a)\n",
    "print(type(a) is str)\n",
    "\n",
    "b = 'Hi'\n",
    "print(\"b = \", b)\n",
    "print(type(b) is str)"
   ]
  },
  {
   "cell_type": "markdown",
   "metadata": {},
   "source": [
    "This completes the basic knowledge of Python types that we will need for getting started. If you're interested you will be able to find significantly more information online about these types, and the various other types provided by Python. The official Python documentation is often a good place to look for additional information: <a href=\"https://docs.python.org/3.12/\">https://docs.python.org/3.12/</a>\n",
    "\n",
    "You should be careful to use the appropriate documentation for the version of Python you are running. We are currently running Python 3.12 on NCC."
   ]
  },
  {
   "cell_type": "markdown",
   "metadata": {},
   "source": [
    "\n"
   ]
  }
 ],
 "metadata": {
  "kernelspec": {
   "display_name": "Python 3 (ipykernel)",
   "language": "python",
   "name": "python3"
  },
  "language_info": {
   "codemirror_mode": {
    "name": "ipython",
    "version": 3
   },
   "file_extension": ".py",
   "mimetype": "text/x-python",
   "name": "python",
   "nbconvert_exporter": "python",
   "pygments_lexer": "ipython3",
   "version": "3.12.2"
  }
 },
 "nbformat": 4,
 "nbformat_minor": 4
}
