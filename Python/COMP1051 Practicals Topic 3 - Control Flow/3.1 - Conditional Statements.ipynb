{
 "cells": [
  {
   "cell_type": "markdown",
   "metadata": {},
   "source": [
    "## Conditional Statements\n",
    "\n",
    "Conditional statements in programming give us an option on what code should be executed and what shouldn't, given a certain condition. This allows us to make decisions in our code based on the data that we encounter. A common phrase you'll see when learning conditionals is: \"if this, then that\".  \n",
    "\n",
    "This would be an example of a one-way if statement as they are referred to in the Perkovic text book. We will see through the course of this notebook that not only can we use one-way if statements like these in Python, but also two-way if statements, and the nesting of if statements inside one another to allow for more complex decision making. Key to all of this is the use of indentation in Python, as it explicitly describes what code is inside a conditional and therefore what code should be executed if the condition is met.\n",
    "\n",
    "Let us start with a simple example:"
   ]
  },
  {
   "cell_type": "code",
   "execution_count": null,
   "metadata": {},
   "outputs": [],
   "source": [
    "temp = 2\n",
    "\n",
    "if (temp < 5):\n",
    "    print(\"Its very cold today!\")\n",
    "print(\"Have a good day.\")"
   ]
  },
  {
   "cell_type": "markdown",
   "metadata": {},
   "source": [
    "When we run this code block we should get two print statements back, but if you change the variable `temp` to have the value 10, you will notice you only get a single message printed out. This is the basic concept of a conditional statement, the statement `print(\"Its very cold today!\")` will only print if the condition is met. The condition in this case is a comparison operation between the variable `temp` and the integer `5`. This comparison will evaluate to a boolean, either `True` or `False`. \n",
    "\n",
    "Our code follows this notation: <br>\n",
    "```python\n",
    "if <condition>:\n",
    "    <indented code block>\n",
    "<non-indented code>\n",
    "```\n",
    " \n",
    "The statements in the indented code block are only executed if the condition evaluates to `True`. Otherwise we ignore the indented code block and continue to the next piece of non-indented code. In our example we only had a single statement in our indented code block, though we could have as many statements as we like in here, including more if statements as we'll see later on!\n",
    "\n",
    "You might be asking now, what do we mean by indentation? In Python, indentation is a language feature, rather than being purely cosmetic like in most other programming languages. It identifies blocks of code, in the same way as curly brackets do in other languages.\n",
    "There are two conventions for indentation in Python:\n",
    "1. Use the tab key.\n",
    "2. Use spaces - generally 4 spaces, though any fixed number will work.\n",
    "\n",
    "In the example above we used the tab key to indent the print statement. We could similarly write the same code using space-based indentation, lets use a single space.\n",
    " "
   ]
  },
  {
   "cell_type": "code",
   "execution_count": null,
   "metadata": {},
   "outputs": [],
   "source": [
    "temp = 2\n",
    "\n",
    "if (temp < 5):\n",
    " print(\"Its very cold today!\")\n",
    "print(\"Have a good day.\")"
   ]
  },
  {
   "cell_type": "markdown",
   "metadata": {},
   "source": [
    "The code will still run, however it generally looks less clear which code is indented, and which is not. Above all it is best to be consistent with your method of indenting code. Pick your preferred method, and stick to it throughout your programming. We'll see, and mention, more about indentation as we work through more examples."
   ]
  },
  {
   "cell_type": "markdown",
   "metadata": {},
   "source": [
    "Ok, so lets take a closer look at the conditional statement itself. We said earlier that this is an example of a one-way if statement, but what does that actually mean? Let's take a look at the image below:\n",
    "\n",
    "<img align=\"centre\" style=\"padding-right:50px;\" src=\"images/OneWayIf.png\" width=\"600\">\n",
    "\n",
    "If the condition is true, we have a code block to execute, in our case it is just a single statement. Otherwise, we skip past the indented section of code, and continue to the next statement. There is only one branch in this diagram, hence calling it a one-way if statement.\n",
    "\n",
    "Using this format of diagram, we can easily see what happens if we get our indentation wrong. Consider the code block below:"
   ]
  },
  {
   "cell_type": "code",
   "execution_count": null,
   "metadata": {},
   "outputs": [],
   "source": [
    "temp = 10\n",
    "\n",
    "if (temp < 5):\n",
    "    print(\"Its very cold today!\")\n",
    "    print(\"Have a good day.\")"
   ]
  },
  {
   "cell_type": "markdown",
   "metadata": {},
   "source": [
    "If we run this code nothing happens! Due to our indentation, both of the print statements are now inside the indented code block. Our diagram would now look like this:\n",
    "\n",
    "<img align=\"centre\" style=\"padding-right:50px;\" src=\"images/OneWayIfIndent.png\" width=\"450\">\n",
    "\n",
    "Hopefully the images help make the situation clearer with regards to how we should indent our code. If you change the value of `temp` you should be able to make both of the print statements execute. "
   ]
  },
  {
   "cell_type": "markdown",
   "metadata": {},
   "source": [
    "Let us now introduce the Python keyword `else`. This will allow us to build what the Perkovic textbook refers to as two-way if statements, so we can execute a specific code block if the condition is true, or a different code block if the condition is false. Again, our indentation will be important to tell Python what statements are in each code block. \n",
    "\n",
    "Our code will now follow this notation:<br>\n",
    "```python\n",
    "if <condition>:\n",
    "    <indented code block>\n",
    "else:\n",
    "    <indented code block>\n",
    "<non-indented code>\n",
    "```\n",
    "    \n",
    "We take our earlier example, and now provide an `else` statement, which tells our program to explicitly do something if the condition is False."
   ]
  },
  {
   "cell_type": "code",
   "execution_count": null,
   "metadata": {},
   "outputs": [],
   "source": [
    "temp = 10\n",
    "\n",
    "if (temp < 5):\n",
    "    print(\"Its very cold today!\")\n",
    "else:\n",
    "    print(\"Its warm for Durham!\")\n",
    "print(\"Have a good day.\")"
   ]
  },
  {
   "cell_type": "markdown",
   "metadata": {},
   "source": [
    "We can represent this code using the image below:\n",
    "\n",
    "<img align=\"centre\" style=\"padding-right:50px;\" src=\"images/TwoWayIf.png\" width=\"700\">\n",
    "\n",
    "In this situation, you must take one branch or the other, and execute the code associated with that branch. You could say that the one-way if statement is a special case of the two-way if statement, where the false branch just contains no statements to execute.\n",
    "\n",
    "It is important to remember that there can be no non-indented code between an if statement and its corresponding else statement. Hopefully it is reasonably obvious that trying to do something like this would be impossible to represent in the format of the image above. If you try to run the code below you will see that Python returns an error if we try this!"
   ]
  },
  {
   "cell_type": "code",
   "execution_count": 1,
   "metadata": {},
   "outputs": [
    {
     "ename": "SyntaxError",
     "evalue": "invalid syntax (3086662898.py, line 6)",
     "output_type": "error",
     "traceback": [
      "  \u001b[36mCell\u001b[39m\u001b[36m \u001b[39m\u001b[32mIn[1]\u001b[39m\u001b[32m, line 6\u001b[39m\n\u001b[31m    \u001b[39m\u001b[31melse:\u001b[39m\n    ^\n\u001b[31mSyntaxError\u001b[39m\u001b[31m:\u001b[39m invalid syntax\n"
     ]
    }
   ],
   "source": [
    "temp = 2\n",
    "\n",
    "if (temp < 5):\n",
    "    print(\"Its very cold today!\")\n",
    "print(\"I want to execute some code here between the if and else\")\n",
    "else:\n",
    "    print(\"Its warm for Durham!\")\n",
    "print(\"Have a good day.\")"
   ]
  },
  {
   "cell_type": "markdown",
   "metadata": {},
   "source": [
    "Python thinks that is has found an else statement that doesn't have a corresponding if statement preceeding it, so returns a syntax error."
   ]
  },
  {
   "cell_type": "markdown",
   "metadata": {},
   "source": [
    "Congratulations, you've learnt the basics of conditional statements and indentation now. Let us take things one step further. Imagine you want to simulate a decision tree in Python, that is we want to make multiple decisions, where the answer to one question decides which question we want to ask ourselves next. Take the following decision tree as an example:\n",
    "\n",
    "<img align=\"centre\" style=\"padding-right:50px;\" src=\"images/DecisionTree.png\" width=\"500\">\n",
    "\n",
    "We can simulate this decision tree with the following Python code:"
   ]
  },
  {
   "cell_type": "code",
   "execution_count": 2,
   "metadata": {},
   "outputs": [
    {
     "name": "stdout",
     "output_type": "stream",
     "text": [
      "Order\n"
     ]
    }
   ],
   "source": [
    "hungry = True\n",
    "lunch = False\n",
    "month = False\n",
    "\n",
    "if (hungry):\n",
    "    if (lunch):\n",
    "        print(\"No order\")\n",
    "    else:\n",
    "        if (month):\n",
    "            print(\"No order\")\n",
    "        else:\n",
    "            print(\"Order\")\n",
    "else:\n",
    "    print(\"No order\")"
   ]
  },
  {
   "cell_type": "markdown",
   "metadata": {},
   "source": [
    "Try changing the boolean variables and follow the decision tree to make sure you can see how these link together. Notice we only ask ourselves the question \"Brought Lunch?\" if the answer to \"Hungry?\" was True. We simulate this in our Python code by nesting if statements, that is putting one if statement inside another. This is done with our indentation. You might read some of the code in this way: \"If the answer to the question Hungry is True, then ask if we Brought Lunch, if we did, then don't order, otherwise ask the question is it Month End?\" Every time we nest statements, we must remember to indent our code again. The statement `if(lunch)` is indented to show it is only executed when `if(hungry)` is True. The statement `print(\"No order\")` is then indented again, to show it is only executed when `if(lunch)` is True. \n",
    "\n",
    "You should spend some time to make sure you understand the example above, particularly why the code is indented in the way that it is. When you come to write more complicated code yourselves, you will need to use indentation in this way, so it is vital you understand this now before we move on.\n",
    "\n",
    "<br>"
   ]
  },
  {
   "cell_type": "markdown",
   "metadata": {},
   "source": [
    "### Nearly Done\n",
    "\n",
    "This is actually enough information on conditional statements for you to program anything that requires decision making. However, Python does have one final keyword for us, and it is up to you if you are comfortable to use it or not. That keyword is `elif` which is just a shortening of else-if. You can use this when you want to make a cascading list of if statements, where if you fail the first check, you perform a second check, and if you fail that you complete a third check and so on.\n",
    "\n",
    "The previous example actually contains one such situation where we could use the `elif` keyword. You can see that we have an `else` statement where the next line of code is an `if` statement, and we can replace this with an `elif` statement instead, as per the code below:"
   ]
  },
  {
   "cell_type": "code",
   "execution_count": null,
   "metadata": {},
   "outputs": [],
   "source": [
    "hungry = True\n",
    "lunch = False\n",
    "month = False\n",
    "\n",
    "if (hungry):\n",
    "    if (lunch):\n",
    "        print(\"No order\")\n",
    "    elif (month):\n",
    "        print(\"No order\")\n",
    "    else:\n",
    "        print(\"Order\")\n",
    "else:\n",
    "    print(\"No order\")"
   ]
  },
  {
   "cell_type": "markdown",
   "metadata": {},
   "source": [
    "That is everything we need to know about conditional statements in Python. Move on now to the second notebook in this topic which looks at loops, and then test your knowledge by trying the problems in the final notebook."
   ]
  }
 ],
 "metadata": {
  "kernelspec": {
   "display_name": "Python 3 (ipykernel)",
   "language": "python",
   "name": "python3"
  },
  "language_info": {
   "codemirror_mode": {
    "name": "ipython",
    "version": 3
   },
   "file_extension": ".py",
   "mimetype": "text/x-python",
   "name": "python",
   "nbconvert_exporter": "python",
   "pygments_lexer": "ipython3",
   "version": "3.13.5"
  }
 },
 "nbformat": 4,
 "nbformat_minor": 4
}
