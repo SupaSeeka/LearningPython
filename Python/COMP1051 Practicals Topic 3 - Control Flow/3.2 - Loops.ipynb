{
 "cells": [
  {
   "cell_type": "markdown",
   "metadata": {},
   "source": [
    "## Loops\n",
    "\n",
    "Loops in programming give us an option to repeat a section of code, either for a fixed number of times, or more generally until a certain condition is met. Python gives us two keywords for creating loops in our code, and they are `for` and `while`. In most situations you can use these interchangeably, however the usual convention is to use a for loop when you know how many times you want to repeat the execution of your code block (i.e. you repeat things a fixed number of times) and use a while loop when repeating a code block for an unknown number of times, until a condition is met.\n"
   ]
  },
  {
   "cell_type": "markdown",
   "metadata": {},
   "source": [
    "### For Loops\n",
    "\n",
    "We'll start by looking at for loops. In the example below, we take a list of integers, and we want to print them all out. We could do this just using the indexing operator that we have seen previously, but that requires us knowing the size of the list in advance to make sure we have enough print statements to print out every element. However, using a for loop it won't matter how many elements are in our list, Python will handle things for us."
   ]
  },
  {
   "cell_type": "code",
   "execution_count": null,
   "metadata": {},
   "outputs": [],
   "source": [
    "L = [5,8,2,6,1,7,3,4]\n",
    "\n",
    "for e in L:\n",
    "    print(e)"
   ]
  },
  {
   "cell_type": "markdown",
   "metadata": {},
   "source": [
    "In this notation the variable `e` only exists inside this loop, and it will hold one element from the list `L` at a time. The keyword `in` makes the statement read sensibly, and gives you some intuition in to what Python is trying to do. The object to the right of `in` in our code is a list, and a list is an example of an iterable object in Python. We're not going to go into any details on Iterators and iterable objects - but we should be aware that of the data types and data structures we have already seen, the following are iterable objects:\n",
    "1. Lists\n",
    "2. Tuples\n",
    "3. Dictionaries\n",
    "4. Sets\n",
    "5. Strings\n",
    "\n",
    "<br>\n",
    "\n",
    "When using a for loop, we should always have the general structure:<br>\n",
    "```python\n",
    "for <variable> in <sequence>:\n",
    "    <indented code block>\n",
    "<non-indented code>\n",
    "```\n",
    " \n",
    "The sequence always has to be an iterable object, so our code example worked because a list is an iterable data structure. The general idea is that the code looks at each element of the list in turn, and temporarily stores that element in the variable `e`. We can use that variable in the indented code within our loop, and then once we have finished all of the indented code, we return to the for loop, grab the next element of our list, place that in the variable `e` and continue. Once we've used all of the elements of the list, we move on to the non-indented code that follows the for loop.\n",
    " \n",
    "If I wanted to do something slightly more interesting, I could take all of the elements of the list, sum them up, and print the sum as in the example below:"
   ]
  },
  {
   "cell_type": "code",
   "execution_count": null,
   "metadata": {},
   "outputs": [],
   "source": [
    "L = [5,8,2,6,1,7,3,4]\n",
    "sum = 0\n",
    "\n",
    "for e in L:\n",
    "    sum = sum + e\n",
    "    \n",
    "print(sum)"
   ]
  },
  {
   "cell_type": "markdown",
   "metadata": {},
   "source": [
    "We take each element of the list in turn, store it in the variable `e` and then add it to `sum`. Once we have used all of the values in the list, the loop will end, and the print statement will be executed, telling us the sum of all of the numbers in our input list.\n",
    "\n",
    "<br>\n",
    "\n",
    "You will notice above we said that a string is an iterable object. It is iterable in the sense that each character can be treated as an individual element, so the code we used originally on a list, we can also use on a string."
   ]
  },
  {
   "cell_type": "code",
   "execution_count": null,
   "metadata": {},
   "outputs": [],
   "source": [
    "S = \"Hello World\"\n",
    "\n",
    "for s in S:\n",
    "    print(s)"
   ]
  },
  {
   "cell_type": "markdown",
   "metadata": {},
   "source": [
    "For loops don't really get any more complicated than that! However, there is one more iterable object you should be aware of, as it is particularly useful, and that is the range object. We can use the `range` function to generate a range object, which we can consider as a sequence of values that are iterable. Below we create a range object using the `range` function. If we print out the variable `x`, and the type of `x` we see the information returned isn't all that useful."
   ]
  },
  {
   "cell_type": "code",
   "execution_count": null,
   "metadata": {},
   "outputs": [],
   "source": [
    "x = range(0,10)\n",
    "print(x)\n",
    "type(x)"
   ]
  },
  {
   "cell_type": "markdown",
   "metadata": {},
   "source": [
    "If we use `x` in a for loop however, it suddenly starts to do useful things for us!"
   ]
  },
  {
   "cell_type": "code",
   "execution_count": null,
   "metadata": {},
   "outputs": [],
   "source": [
    "for i in x:\n",
    "    print(i)"
   ]
  },
  {
   "cell_type": "markdown",
   "metadata": {},
   "source": [
    "Now we can see that `x` is an object pretty similar to a list, and for our purposes we can consider it as a list. In this case the range function has given us a sequence of values from 0 to 9 to use in any way we wish. A common use of the range function is to access elements of a list via their index, with the indexes produced by range. See the example below:"
   ]
  },
  {
   "cell_type": "code",
   "execution_count": null,
   "metadata": {},
   "outputs": [],
   "source": [
    "L = [5,8,2,6,1,7,3,4]\n",
    "sum = 0\n",
    "\n",
    "for i in range(0,len(L)):\n",
    "    sum = sum + L[i]\n",
    "    \n",
    "print(sum)"
   ]
  },
  {
   "cell_type": "markdown",
   "metadata": {},
   "source": [
    "This example is almost identical to one we saw earlier, except now we access the elements of the list via their index, using the indexing operator. The range function is creating a sequence of values from 0 to 7, the variable `i` takes each of those values in turn, and we use `i` to obtain the data in that position in the list via `L[i]`.\n",
    "\n",
    "We can use the range function in a similar way to how slicing worked with lists. The notation is:\n",
    "`range(start, stop, step)`\n",
    "\n",
    "If we don't provide range with a start value Python will assume the value should be 0, and if we don't provide a step value Python will default to a step of 1. Take a look at the examples below and make sure you understand the sequences of numbers being produced."
   ]
  },
  {
   "cell_type": "code",
   "execution_count": null,
   "metadata": {},
   "outputs": [],
   "source": [
    "x = range(1,20,2)\n",
    "for i in x:\n",
    "    print(i)"
   ]
  },
  {
   "cell_type": "code",
   "execution_count": null,
   "metadata": {},
   "outputs": [],
   "source": [
    "x = range(20,0,-3)\n",
    "for i in x:\n",
    "    print(i)"
   ]
  },
  {
   "cell_type": "code",
   "execution_count": null,
   "metadata": {},
   "outputs": [],
   "source": [
    "x = range(-10,10)\n",
    "for i in x:\n",
    "    print(i)"
   ]
  },
  {
   "cell_type": "markdown",
   "metadata": {},
   "source": [
    "The important thing to notice is that the sequence generated by `range` will stop before the stop value you provide. This is a common mistake to make, so while you get used to using the range function is might be useful to you to print out the sequence generated by range before you start using those values in the rest of your code.\n",
    "\n",
    "By combining the range function with the for loops that we've seen before, you can now solve the vast majority of programming problems that you might encounter! However, we don't always have the convenience of knowing how many times a loop needs to be run as we did in all of the examples above, or we may be too lazy to figure it out. In either case, we could use a while loop instead of a for loop. \n",
    "\n",
    "<br>"
   ]
  },
  {
   "cell_type": "markdown",
   "metadata": {},
   "source": [
    "### While Loops\n",
    "\n",
    "We can start by looking at the same example we saw previously - summing up all of the numbers in a list. As we mentioned previously, we can often use for and while loops interchangeably, and below is an example of how we might adapt our code to work with a while loop instead."
   ]
  },
  {
   "cell_type": "code",
   "execution_count": null,
   "metadata": {},
   "outputs": [],
   "source": [
    "L = [5,8,2,6,1,7,3,4]\n",
    "sum = 0\n",
    "i=0\n",
    "\n",
    "while (i<len(L)):\n",
    "    sum = sum + L[i]\n",
    "    i = i+1\n",
    "    \n",
    "print(sum)"
   ]
  },
  {
   "cell_type": "markdown",
   "metadata": {},
   "source": [
    "We have replaced the for loop, with a while loop and a condition. The while loop will only continue to execute while the condition remains true. Once the condition becomes false, the loop will stop executing, and we move to the next piece of non-indented code. \n",
    "\n",
    "The general structure of a while loop looks like this:<br>\n",
    "```python\n",
    "while <condition>:\n",
    "    <indented code block>\n",
    " <non-indented code>\n",
    "```\n",
    "\n",
    "<br>\n",
    "\n",
    "If we want to visualise how the while loop works we can draw a diagram similar to those we saw for if statements:\n",
    "\n",
    "<img align=\"centre\" style=\"padding-right:50px;\" src=\"images/WhileLoop.png\" width=\"450\">\n",
    "\n"
   ]
  },
  {
   "cell_type": "markdown",
   "metadata": {},
   "source": [
    "The example above is important to demonstrate that quite often problems can be solved easily with either a for loop or a while loop, depending on which you are more comfortable to use. The example below is another problem that could be solved with either a for loop or a while loop, but in this case it is much more natural to use a while loop. We could work out how many time this loop would execute, and use a for loop that executes that fixed number of times, but that would require a lot of extra work on our part! "
   ]
  },
  {
   "cell_type": "code",
   "execution_count": null,
   "metadata": {},
   "outputs": [],
   "source": [
    "i=1\n",
    "\n",
    "while (i<1000000):\n",
    "    i = i*2\n",
    "    print(i)    "
   ]
  },
  {
   "cell_type": "markdown",
   "metadata": {},
   "source": [
    "Now we can introduce our final Python keyword for this topic, the keyword `break`. We can use `break` to escape from a loop, either a for loop or a while loop, and move on to the next section of non-indented code. For example, we can move the condition on our while loop inside the loop instead, and use an if statement and the `break` keyword to do the same job. Let's tackle the same problem as above, but this time using `break`."
   ]
  },
  {
   "cell_type": "code",
   "execution_count": null,
   "metadata": {},
   "outputs": [],
   "source": [
    "i=1\n",
    "\n",
    "while True:\n",
    "    i = i*2\n",
    "    print(i)\n",
    "    if (i>=1000000):\n",
    "        break"
   ]
  },
  {
   "cell_type": "markdown",
   "metadata": {},
   "source": [
    "This may not look as neat in this particular case, however it can often be useful to deal with the condition inside the loop. Notice that we still have a condition on our while loop, but the condition this time is just the boolean value `True`. This implies that this loop will run forever, as the condition will always be true! So the only way we can end this while loop is to trigger the break. You should take care using this method, as this is often how people end up with loops that never terminate! You have to make sure that at some point in time the break will eventually be triggered. In this example we know that `i` will definitely grow on every iteration of the loop, so eventually it must grow larger than 1000000. "
   ]
  },
  {
   "cell_type": "markdown",
   "metadata": {},
   "source": [
    "That covers everything we need to know about loops! You might feel that we've not covered many examples on using while loops in particular, but thats because they are surprisingly simple structures and there isn't really anything else to show you. As ever, when learning to program it is all about practice. The more you practice with these techniques the more you will understand them. So let us get some practice! Move on to the final notebook in this topic and test your knowledge of conditionals and loops."
   ]
  }
 ],
 "metadata": {
  "kernelspec": {
   "display_name": "Python 3 (ipykernel)",
   "language": "python",
   "name": "python3"
  },
  "language_info": {
   "codemirror_mode": {
    "name": "ipython",
    "version": 3
   },
   "file_extension": ".py",
   "mimetype": "text/x-python",
   "name": "python",
   "nbconvert_exporter": "python",
   "pygments_lexer": "ipython3",
   "version": "3.12.2"
  }
 },
 "nbformat": 4,
 "nbformat_minor": 4
}
