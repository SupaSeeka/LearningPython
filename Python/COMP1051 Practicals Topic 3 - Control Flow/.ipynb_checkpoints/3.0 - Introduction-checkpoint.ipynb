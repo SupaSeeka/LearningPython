{
 "cells": [
  {
   "cell_type": "markdown",
   "metadata": {},
   "source": [
    "<br>\n",
    "\n",
    "## Topic 3: Control Flow\n",
    "\n",
    "So far everything we've seen in Python has involved either a single line of code, or a short sequence of statements. In this Topic we'll learn how to use conditional statements and loops to develop more sophisticated code. In fact, combining these new techniques with the content we've learnt previously, we can make programs almost as complex as we can imagine, such is their power.    \n",
    "\n",
    "We will start by looking at conditional statements, using the Python keywords `if`, `elif` and `else`. These allow us to make decisions in our code, and therefore we can choose to execute some code only if a particular condition, or set of conditions is met. Using conditional statements we can simulate a decision tree, or a flowchart-like structure, where each node is a question we can ask in Python code, and the branch we take controls what operation we do next. \n",
    "\n",
    "Afterwards we will consider loops, using the Python keywords `for` and `while`. We will also meet the Python function `range` and keyword `break` which are particularly important when working with loops. Loops allow us to repeat sections of code, either a fixed number of times, or in the case of a `while` loop, until a certain condition is met. Be careful though, if the condition is never met, your loop may go on... and on... and on... until the end of time. Just remember where the stop button is at the top of the page! Don't worry though, you can't break anything.\n",
    "\n",
    "\n",
    "As always, if you encounter errors that you cannot figure out, or you want something explaining, then please ask you lab demonstrator or discuss things between yourselves in your lab.\n"
   ]
  },
  {
   "cell_type": "markdown",
   "metadata": {},
   "source": [
    "\n",
    "\n",
    "### Learning Objectives\n",
    "\n",
    "By the end of this topic you should be confident in using conditional statements and the different types of loops to solve more complex problems. We'll look at plenty of examples that use the data types and data structures you've seen previously to help reinforce your knowledge. You should work through these notebooks in your own time:\n",
    "* 3.1 - Conditional Statements\n",
    "* 3.2 - Loops\n",
    "* 3.3 - Test Your Knowledge\n",
    "\n",
    "Beyond the content given in these notebooks you will also find useful information in Chapters 3 and 5 of the Perkovic text book, and notebook 7 of the Whirlwind Tour of Python. If you've studied Python before, and you are confident in your knowledge, you should take a glance at the first two notebooks, and make sure you can complete the exercises in the third notebook. "
   ]
  }
 ],
 "metadata": {
  "kernelspec": {
   "display_name": "Python 3 (ipykernel)",
   "language": "python",
   "name": "python3"
  },
  "language_info": {
   "codemirror_mode": {
    "name": "ipython",
    "version": 3
   },
   "file_extension": ".py",
   "mimetype": "text/x-python",
   "name": "python",
   "nbconvert_exporter": "python",
   "pygments_lexer": "ipython3",
   "version": "3.12.2"
  }
 },
 "nbformat": 4,
 "nbformat_minor": 4
}
