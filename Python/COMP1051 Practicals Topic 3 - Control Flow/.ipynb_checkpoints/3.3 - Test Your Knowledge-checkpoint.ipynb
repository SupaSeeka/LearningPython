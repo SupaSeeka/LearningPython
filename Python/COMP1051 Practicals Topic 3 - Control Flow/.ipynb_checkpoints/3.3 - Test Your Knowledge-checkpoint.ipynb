{
 "cells": [
  {
   "cell_type": "markdown",
   "metadata": {},
   "source": [
    "## Test Your Knowledge\n",
    "\n",
    "In the blocks below you will find a range of questions that cover the material we've looked at in the previous notebooks. Make sure you can do these tasks before you move on to the next topic, which will cover modules and functions in Python. "
   ]
  },
  {
   "cell_type": "markdown",
   "metadata": {},
   "source": [
    "1) Using conditionals, check if a number is positive, negative or zero, and print out an appropriate message in each case."
   ]
  },
  {
   "cell_type": "code",
   "execution_count": null,
   "metadata": {},
   "outputs": [],
   "source": [
    "#YOUR CODE GOES HERE"
   ]
  },
  {
   "cell_type": "markdown",
   "metadata": {},
   "source": [
    "2) Using a for loop and conditional statements, find and print the minimum value in a list of integers. Your list of integers can be anything of your choosing."
   ]
  },
  {
   "cell_type": "code",
   "execution_count": null,
   "metadata": {},
   "outputs": [],
   "source": [
    "#YOUR CODE GOES HERE"
   ]
  },
  {
   "cell_type": "markdown",
   "metadata": {},
   "source": [
    "3) Using a while loop and conditional statements, find and print the maximum value in your list of integers."
   ]
  },
  {
   "cell_type": "code",
   "execution_count": null,
   "metadata": {},
   "outputs": [],
   "source": [
    "#YOUR CODE GOES HERE"
   ]
  },
  {
   "cell_type": "markdown",
   "metadata": {},
   "source": [
    "4) Using a loop, calculate the sum of all the elements in odd index positions in a list.\n",
    "\n",
    "E.g. if my list L = [324,76,12,34,97,47,23,89] then the output should be 246."
   ]
  },
  {
   "cell_type": "code",
   "execution_count": null,
   "metadata": {},
   "outputs": [],
   "source": [
    "#YOUR CODE GOES HERE"
   ]
  },
  {
   "cell_type": "markdown",
   "metadata": {},
   "source": [
    "5) Using a loop and conditional statements, calculate the sum of all of the positive values in a list.\n",
    "\n",
    "E.g. if my list L = [34,-14,10,45,-2,-39,17,-32] then the output should be 106."
   ]
  },
  {
   "cell_type": "code",
   "execution_count": null,
   "metadata": {},
   "outputs": [],
   "source": [
    "#YOUR CODE GOES HERE"
   ]
  },
  {
   "cell_type": "markdown",
   "metadata": {},
   "source": [
    "6) The code below generates a random number and asks the user to provide an input number. Using conditionals, compare the input provided by the user to the random number and give the user some feedback. If their input was greater than the random number, then print a message saying their guess was too large. If their input was less than the random number, print a message saying so. If the number was the same then print a message out saying their guess was correct. "
   ]
  },
  {
   "cell_type": "code",
   "execution_count": null,
   "metadata": {},
   "outputs": [],
   "source": [
    "import random\n",
    "x = random.randint(0,10)    #This generates a random integer between 0 and 10 (inclusive)\n",
    "\n",
    "y = int(input(\"Please enter a number:\"))    #This asks the user to input a number and casts it to an integer\n",
    "print(\"You guessed\", y)\n",
    "\n",
    "#YOUR CODE GOES HERE"
   ]
  },
  {
   "cell_type": "markdown",
   "metadata": {},
   "source": [
    "7) Lets edit your code from above to allow the user to have multiple guesses at the number. Wrap your conditionals in a while loop in such a way that the user can keep guessing numbers until they correctly identify the random number."
   ]
  },
  {
   "cell_type": "code",
   "execution_count": null,
   "metadata": {},
   "outputs": [],
   "source": [
    "#YOUR CODE GOES HERE"
   ]
  },
  {
   "cell_type": "markdown",
   "metadata": {},
   "source": [
    "8) Using for loops and conditionals, print out all of the prime numbers between 5 and 25. Remember that a prime number is a number only divisible by 1 and itself. You will likely find the module (%) operator very useful. Have a think about how to make your code more efficient (Hint: think about using range function with a different step). "
   ]
  },
  {
   "cell_type": "code",
   "execution_count": null,
   "metadata": {},
   "outputs": [],
   "source": [
    "#YOUR CODE GOES HERE"
   ]
  },
  {
   "cell_type": "markdown",
   "metadata": {},
   "source": [
    "### ADVANCED - If this is your first time programming, or studying any Computer Science, I don't expect you to tackle this problem just yet. \n",
    "\n",
    "9) Consider the previous problem - the complexity of a standard solution is generally O(n^2), even with some simple improvements your code will probably still need O(n^3/2) operations to calculate all primes below n. There is however a way to solve this problem with O(n*log(log(n))) operations. See if you can construct such an algorithm. If you can't figure it out yourselves after some thinking time, head to this URL for some hints, and then try to implement the algorithm you find there: https://bit.ly/383d2Y3"
   ]
  },
  {
   "cell_type": "code",
   "execution_count": null,
   "metadata": {},
   "outputs": [],
   "source": [
    "#YOUR CODE GOES HERE"
   ]
  },
  {
   "cell_type": "markdown",
   "metadata": {},
   "source": [
    "<br>\n",
    "\n",
    "If you're not confident with your solutions, you should ask a demonstrator to explain any concepts you don't fully understand. You should show the demonstrators your solutions to check if they are correct. Once you've completed this and you're confident you have the correct answers, feel free to move on to the next topic if it is available."
   ]
  }
 ],
 "metadata": {
  "kernelspec": {
   "display_name": "Python 3 (ipykernel)",
   "language": "python",
   "name": "python3"
  },
  "language_info": {
   "codemirror_mode": {
    "name": "ipython",
    "version": 3
   },
   "file_extension": ".py",
   "mimetype": "text/x-python",
   "name": "python",
   "nbconvert_exporter": "python",
   "pygments_lexer": "ipython3",
   "version": "3.12.2"
  }
 },
 "nbformat": 4,
 "nbformat_minor": 4
}
