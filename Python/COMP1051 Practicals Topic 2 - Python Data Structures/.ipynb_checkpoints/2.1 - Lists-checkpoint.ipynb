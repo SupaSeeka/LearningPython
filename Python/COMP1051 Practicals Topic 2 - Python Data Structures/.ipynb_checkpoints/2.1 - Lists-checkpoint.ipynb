{
 "cells": [
  {
   "cell_type": "markdown",
   "metadata": {},
   "source": [
    "## Lists\n",
    "\n",
    "Lists are the most important data structure available to you in Python. You should make sure you are comfortable and confident with using lists before you continue with the remainder of the course. This is a long notebook, and may take you the majority of the practical session if this is your first time learning Python. Take your time, and make sure you understand everything.\n",
    "\n",
    "A list is an ordered collection of data, and each element can be any of the types we have seen in the previous topic, so a list can contain any combination of `int`, `float`, `bool` or `str` elements. Lists are ordered data structures, which means the order of the elements contained in the list is fixed, unless you explicitly change the order of elements yourself.  \n",
    "\n",
    "We saw in the previous topic that all of the basic data types are immutable, but the list is a mutable data structure - so we can edit them without creating a new Python object! We can modify the individual elements of a list, we can add and remove elements and manually change the order of elements if we wish. We'll see examples of each of these operations in this notebook. \n",
    "\n",
    "Let us first start by creating a new list - we define a list as a sequence of comma separated values enclosed in square brackets. We use the `=` sign to assign the list to the variable `L`."
   ]
  },
  {
   "cell_type": "code",
   "execution_count": null,
   "metadata": {},
   "outputs": [],
   "source": [
    "L = [1, \"Two\", -3, True]\n",
    "type(L)"
   ]
  },
  {
   "cell_type": "markdown",
   "metadata": {},
   "source": [
    "As a check, we ask Python to tell us the type of `L`, which confirms this is indeed a list.\n",
    "\n",
    "<br>\n",
    "\n",
    "Lists (and all mutable data structures) have a number of useful methods available to help you perform basic operations. Here are some of the methods for manipulating lists that you'll find most useful as you start to develop Python programs:"
   ]
  },
  {
   "cell_type": "code",
   "execution_count": null,
   "metadata": {},
   "outputs": [],
   "source": [
    "# Finding the length of a list\n",
    "L = [5,4,3,2]\n",
    "len(L)"
   ]
  },
  {
   "cell_type": "code",
   "execution_count": null,
   "metadata": {},
   "outputs": [],
   "source": [
    "# Adding an element to the end of a list\n",
    "L.append(1)\n",
    "print(L)"
   ]
  },
  {
   "cell_type": "code",
   "execution_count": null,
   "metadata": {},
   "outputs": [],
   "source": [
    "# Remove an element by value, i.e remove the first instance of value 2 from the list\n",
    "L.remove(2)\n",
    "print(L)"
   ]
  },
  {
   "cell_type": "code",
   "execution_count": null,
   "metadata": {},
   "outputs": [],
   "source": [
    "# Check if an element is in a list\n",
    "3 in L"
   ]
  },
  {
   "cell_type": "markdown",
   "metadata": {},
   "source": [
    "However, you can only remove an element from a list if it exists! If you try to remove an element that doesn't exist, Python will give you one of its friendly errors."
   ]
  },
  {
   "cell_type": "code",
   "execution_count": null,
   "metadata": {},
   "outputs": [],
   "source": [
    "# Try to remove an element that doesn't exist\n",
    "L.remove(10)"
   ]
  },
  {
   "cell_type": "code",
   "execution_count": null,
   "metadata": {},
   "outputs": [],
   "source": [
    "# Remove the final element of the list, and assign it to a variable\n",
    "x = L.pop()\n",
    "print(L)\n",
    "print(x)"
   ]
  },
  {
   "cell_type": "code",
   "execution_count": null,
   "metadata": {},
   "outputs": [],
   "source": [
    "# Concatenate (combine) two lists together\n",
    "L + [9,8,7,6]"
   ]
  },
  {
   "cell_type": "markdown",
   "metadata": {},
   "source": [
    "We didn't go into much detail when looking at strings in the previous topic. In some ways a string behaves like a list of characters, so we can use some of the methods above to manipulate strings."
   ]
  },
  {
   "cell_type": "code",
   "execution_count": null,
   "metadata": {},
   "outputs": [],
   "source": [
    "# Get the length of a string\n",
    "s = \"Hello\"\n",
    "len(s)"
   ]
  },
  {
   "cell_type": "code",
   "execution_count": null,
   "metadata": {},
   "outputs": [],
   "source": [
    "# Concatenate two strings together\n",
    "s = \"Hello \"\n",
    "t = s + \"World\"\n",
    "print(t)"
   ]
  },
  {
   "cell_type": "markdown",
   "metadata": {},
   "source": [
    "However, remember that a string is immutable, whereas lists are mutable objects. So we cannot modify a string in the same way that we can modify lists, as the example below shows."
   ]
  },
  {
   "cell_type": "code",
   "execution_count": null,
   "metadata": {},
   "outputs": [],
   "source": [
    "pet = \"Dog\"\n",
    "pet.append(s)\n",
    "print(pet)"
   ]
  },
  {
   "cell_type": "markdown",
   "metadata": {},
   "source": [
    "<br>\n",
    "\n",
    "Lists also have a sort method, however you need to make sure that the data types in the list can be compared. For example, if you try to run the code below, Python will inform you that you cannot compare strings and integers, which you may well have expected!"
   ]
  },
  {
   "cell_type": "code",
   "execution_count": null,
   "metadata": {},
   "outputs": [],
   "source": [
    "L = [1,2,\"Hi\",True]\n",
    "L.sort()\n",
    "print(L)"
   ]
  },
  {
   "cell_type": "markdown",
   "metadata": {},
   "source": [
    "However, we can sort a list that contains all numerical values. There could be a mixture of integers and floats in this list, and the sort method will still work. For simplicity, we'll stick with just integers for now."
   ]
  },
  {
   "cell_type": "code",
   "execution_count": null,
   "metadata": {},
   "outputs": [],
   "source": [
    "# Sort a list\n",
    "L = [6,2,4,1,5,3]\n",
    "L.sort()\n",
    "print(L)"
   ]
  },
  {
   "cell_type": "code",
   "execution_count": null,
   "metadata": {},
   "outputs": [],
   "source": [
    "# Reverse a list\n",
    "L.reverse()\n",
    "print(L)"
   ]
  },
  {
   "cell_type": "markdown",
   "metadata": {},
   "source": [
    "Finally we have some basic Python functions available to complete simple mathematical tasks involving lists."
   ]
  },
  {
   "cell_type": "code",
   "execution_count": null,
   "metadata": {},
   "outputs": [],
   "source": [
    "# Find the minimum element in a list\n",
    "min(L)"
   ]
  },
  {
   "cell_type": "code",
   "execution_count": null,
   "metadata": {},
   "outputs": [],
   "source": [
    "# Find the maximum element in a list\n",
    "max(L)"
   ]
  },
  {
   "cell_type": "code",
   "execution_count": null,
   "metadata": {},
   "outputs": [],
   "source": [
    "# Calculate the sum of all elements in a list\n",
    "sum(L)"
   ]
  },
  {
   "cell_type": "markdown",
   "metadata": {},
   "source": [
    "As we've already seen, a Python list can contain elements of any of the data types we've seen previously. What's more, a list can also contain other lists!"
   ]
  },
  {
   "cell_type": "code",
   "execution_count": null,
   "metadata": {},
   "outputs": [],
   "source": [
    "# A list that contains a list as one of its elements\n",
    "L = [1,2,3,[4,5,6]]"
   ]
  },
  {
   "cell_type": "markdown",
   "metadata": {},
   "source": [
    "We can utilise this flexibility of lists to create interesting data structures of our own. For instance, if we wanted to create a matrix, we can simulate this with a list that contains lists."
   ]
  },
  {
   "cell_type": "code",
   "execution_count": null,
   "metadata": {},
   "outputs": [],
   "source": [
    "L = [[0,1,2],[3,4,5],[6,7,8]]\n",
    "print(*L, sep='\\n')            #Don't worry about this notation - I just wanted to make this List look like a matrix!"
   ]
  },
  {
   "cell_type": "markdown",
   "metadata": {},
   "source": [
    "<br>\n",
    "\n",
    "## Indexing, sublists and slices\n",
    "\n",
    "All of the operations above operate on a whole list. Whether we are sorting the elements of a list, or concatenating lists together, or appending an element to a list, we're using the whole list. \n",
    "However, we will often want to access individual elements of a list, or utilise a sublist in our programs. In order to access elements from a list we need to first understand the indexing system of Python.\n",
    "\n",
    "Take the List \n",
    "```python \n",
    "L = [\"Hello\", \"Rob\", 2, True, \"4\"]\n",
    "```\n",
    "The diagram below shows us the index of each element of the list. In Python, all indexing begins from zero, so the first element of a list has index zero. The last element of the list will have index `len(L)-1`. In this example we have 5 elements in our list, so the final element has index 4.\n",
    "\n",
    "<br>\n",
    "\n",
    "<img align=\"centre\" style=\"padding-right:50px;\" src=\"images/Indexing.png\" width=\"700\">\n",
    "\n",
    "<br>\n",
    "\n",
    "Python also allows us to index elements using negative indexes. The final element of the list has index `-1`, and as we work towards the start of the list we use more negative indexes, as in the image above.\n",
    "\n",
    "If we want to access a single element from a list, we use the indexing operator `[]` with an integer index `i`, as in the examples below:"
   ]
  },
  {
   "cell_type": "code",
   "execution_count": null,
   "metadata": {},
   "outputs": [],
   "source": [
    "# Access the first element of the list L\n",
    "L = [\"Hello\",\"Rob\",2,True,\"4\"]\n",
    "L[0]"
   ]
  },
  {
   "cell_type": "code",
   "execution_count": null,
   "metadata": {},
   "outputs": [],
   "source": [
    "# Access the last element of the list L\n",
    "L[4]"
   ]
  },
  {
   "cell_type": "code",
   "execution_count": null,
   "metadata": {},
   "outputs": [],
   "source": [
    "# Or alternatively we could use the length of the list in our indexing operator to get the last element\n",
    "L[len(L)-1]"
   ]
  },
  {
   "cell_type": "code",
   "execution_count": null,
   "metadata": {},
   "outputs": [],
   "source": [
    "# A third option to achieve the same thing, this time using the negative index to get the last element\n",
    "L[-1]"
   ]
  },
  {
   "cell_type": "markdown",
   "metadata": {},
   "source": [
    "We can also use this indexing operator to replace the data in a particular index of a list, as in the example below:"
   ]
  },
  {
   "cell_type": "code",
   "execution_count": null,
   "metadata": {},
   "outputs": [],
   "source": [
    "L[0] = \"New\"\n",
    "print(L)"
   ]
  },
  {
   "cell_type": "markdown",
   "metadata": {},
   "source": [
    "If we have a list that contains lists as we saw a little earlier in this notebook, we can use the indexing operator to obtain one of those lists back, or even a particular element of one of those lists. Lets take the example we had before:"
   ]
  },
  {
   "cell_type": "code",
   "execution_count": null,
   "metadata": {},
   "outputs": [],
   "source": [
    "# Return the first list from a list of lists\n",
    "L = [[0,1,2],[3,4,5],[6,7,8]]\n",
    "L[0]"
   ]
  },
  {
   "cell_type": "code",
   "execution_count": null,
   "metadata": {},
   "outputs": [],
   "source": [
    "# Return the second element from the second list of this example, i.e. the element at the centre of this matrix\n",
    "L[1][1]"
   ]
  },
  {
   "cell_type": "markdown",
   "metadata": {},
   "source": [
    "When we use a double indexing operator like in the example above, we can think of this as being broken down into multiple operations. First we look at `L[1]` which returns us the list `[3,4,5]` and then the second indexing operator looks for the element in index 1 of that list, which is the element `4`.\n",
    "\n",
    "In the same way as we did above, we can modify the value of an element in a list of lists:"
   ]
  },
  {
   "cell_type": "code",
   "execution_count": null,
   "metadata": {},
   "outputs": [],
   "source": [
    "L[1][1] = 50\n",
    "print(*L, sep='\\n')"
   ]
  },
  {
   "cell_type": "markdown",
   "metadata": {},
   "source": [
    "The final thing to cover regarding lists is how to obtain a sublist. In the previous examples we saw how we could obtain a single element from a list, but what if we wanted to obtain multiple elements instead, and still keep them in a list datatype? This is where we need to introduce the notion of *slicing*, which is a technique in Python for achieving exactly this.\n",
    "\n",
    "We still use the square brackets indexing operator, but this time we give it more information. We can use it in this form:\n",
    "`L[start:stop:step]`.\n",
    "Notice that we use a colon as the separator, a regular mistake is to try to use a comma instead! This will return to us a sublist of `L` that begins at the index `start`, ends before the index `stop`, with increments of `step`. Again, its much easier to see this in action with some examples:"
   ]
  },
  {
   "cell_type": "code",
   "execution_count": null,
   "metadata": {},
   "outputs": [],
   "source": [
    "L = [10,9,8,7,6,5,4,3,2,1]\n",
    "L[1:3:1]"
   ]
  },
  {
   "cell_type": "markdown",
   "metadata": {},
   "source": [
    "Notice that we obtained the sublist that contained the elements in index positions 1 and 2, but not the element in index 3. This is why we said previously that the sublist will end *before* the index `stop`.\n",
    "\n",
    "In the next example we try changing the step value, to make clear why it might be useful to you."
   ]
  },
  {
   "cell_type": "code",
   "execution_count": null,
   "metadata": {},
   "outputs": [],
   "source": [
    "# Return a sublist containing every element in an even index position\n",
    "L[0:len(L):2]"
   ]
  },
  {
   "cell_type": "code",
   "execution_count": null,
   "metadata": {},
   "outputs": [],
   "source": [
    "# Return a sublist containing every element in an odd index position\n",
    "L[1:len(L):2]"
   ]
  },
  {
   "cell_type": "markdown",
   "metadata": {},
   "source": [
    "As we saw when trying to access individual elements earlier, we are allowed to use negative index values in Python. When considering slicing and sublists we can also use negative indexes and negative steps! This can lead to some confusion, and is not an ideal way to access elements from a list unless you are very confident that you know what you're doing! However, here are a few examples where using negative indexes and steps may be useful to you."
   ]
  },
  {
   "cell_type": "code",
   "execution_count": null,
   "metadata": {},
   "outputs": [],
   "source": [
    "# A sublist of elements in reverse order using a negative step\n",
    "L[7:3:-1]"
   ]
  },
  {
   "cell_type": "code",
   "execution_count": null,
   "metadata": {},
   "outputs": [],
   "source": [
    "# Accessing the last n elements of a list using a negative index. In this case the last 4 elements.\n",
    "L[-4:len(L):1]"
   ]
  },
  {
   "cell_type": "markdown",
   "metadata": {},
   "source": [
    "All of these slicing operations above have been defined very formally, always giving a value for each of `start`, `stop` and `step`. This isn't always necessary as Python will try to make some assumptions if you leave one of these values blank. For example, if we leave out the `start` value, Python will default this to `0`. If we leave out the `stop` value, Python will default this to `len(L)`, and if we leave out the `step` value, Python will default this to `1`. We can even leave two of these values blank, and Python will fill them in with defaults. Go back and edit some of the previous code blocks and remove some of the start, stop and step values to convince yourself."
   ]
  },
  {
   "cell_type": "markdown",
   "metadata": {},
   "source": [
    "However, be careful when using negative steps! The same rules don't quite apply, and we won't go into the technicalities here, but we will provide one example below that is probably useful to you."
   ]
  },
  {
   "cell_type": "code",
   "execution_count": null,
   "metadata": {},
   "outputs": [],
   "source": [
    "# Reverse a list\n",
    "L[::-1]"
   ]
  },
  {
   "cell_type": "markdown",
   "metadata": {},
   "source": [
    "Spend some time now editing the examples above. Try different values for `start`, `stop` and `step` to see how Python reacts. As ever, you can't break anything! If Python doesn't like your syntax it will give you an error message pointing you in the direction of what went wrong. \n",
    "\n",
    "<br>\n",
    "\n",
    "Make sure that you are confident using lists and slicing before moving on. These are some of the most important things you will learn in Python, as the list is such a useful data structure when you come to write Python code. There will be an opportunity to test your knowledge in the final notebook of this topic. If you have any questions, please speak to your demonstrators now before moving on. "
   ]
  }
 ],
 "metadata": {
  "kernelspec": {
   "display_name": "Python 3 (ipykernel)",
   "language": "python",
   "name": "python3"
  },
  "language_info": {
   "codemirror_mode": {
    "name": "ipython",
    "version": 3
   },
   "file_extension": ".py",
   "mimetype": "text/x-python",
   "name": "python",
   "nbconvert_exporter": "python",
   "pygments_lexer": "ipython3",
   "version": "3.12.2"
  }
 },
 "nbformat": 4,
 "nbformat_minor": 4
}
