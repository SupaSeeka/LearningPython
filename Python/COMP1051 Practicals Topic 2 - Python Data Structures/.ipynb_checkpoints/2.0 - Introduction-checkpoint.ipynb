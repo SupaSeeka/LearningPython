{
 "cells": [
  {
   "cell_type": "markdown",
   "metadata": {},
   "source": [
    "<br>\n",
    "\n",
    "## Topic 2: Python Data Structures\n",
    "\n",
    "In this Topic we'll cover the basic and most useful data structures available to us in Python. We should already know how to assign values to variables from the previous topic, and have a good understanding of the different object types we are likely to use. We saw how to build expressions and evaluate them, and had some practice to make sure we understand how they work. \n",
    "\n",
    "Now we move on to look at how we can store collections of data using containers provided by Python, and how we can interact with the data. \n",
    "\n",
    "As before, if you encounter errors that you cannot figure out, or you want something explaining, then please ask you lab demonstrator. \n"
   ]
  },
  {
   "cell_type": "markdown",
   "metadata": {},
   "source": [
    "\n",
    "\n",
    "### Learning Objectives\n",
    "\n",
    "By the end of this topic you should be confident in using the built-in data containers of Python. We will look at how to construct these data structures, and some of the important methods provided by Python to help you interact with these data structures. You should work through these notebooks in your own time:\n",
    "* 2.1 - Lists\n",
    "* 2.2 - Tuples\n",
    "* 2.3 - Dictionaries\n",
    "* 2.4 - Sets\n",
    "* 2.5 - Test Your Knowledge\n",
    "\n",
    "Beyond the content given in these notebooks you will also find useful information in Chapter 2 of the Perkovic text book, and notebook 6 of the Whirlwind Tour of Python. If you've studied Python before, and you are confident in your knowledge, you should take a glance at the first four notebooks, then make sure you can complete the exercises in the fifth notebook. "
   ]
  },
  {
   "cell_type": "markdown",
   "metadata": {},
   "source": [
    "<br>\n",
    "\n",
    "### Introduction to Built-In Data Structures\n",
    "\n",
    "Python has a large number of built-in data structures, and in this topic we cover the four most important data structures that you will see most often in this course.\n",
    "\n",
    "| Type Name | Example                         |Description                            |\n",
    "|-----------|---------------------------------|---------------------------------------|\n",
    "| ``list``  | ``[1, \"Hi\", True]``             | Ordered collection                    |\n",
    "| ``tuple`` | ``(1, \"Hi\", True)``             | Immutable ordered collection          |\n",
    "| ``dict``  | ``{'a':1, 'b':\"Hi\", 'c':True}`` | (Un)ordered (key,value) mapping       |\n",
    "| ``set``   | ``{1, \"Hi\", True}``             | Unordered collection of unique values |\n",
    "\n",
    "<br>\n",
    "\n",
    "Notice the use of different brackets in each of these data types. It's very important you take a little time to learn and remember which type of bracket is associated with each data structure. Each of these data structures can contain either all elements of a single data type, or, as in the examples above, they can contain any mixture of variable types.\n",
    "\n",
    "We describe dictionaries as (un)ordered - the reason for this is that historically dictionaries in Python have always been unordered, however, since Python 3.7 this has changed and by default dictionaries are now ordered data structures. \n",
    "\n",
    "In the following notebooks we will work through each of these data structures in turn and consider when and why we would use each of them."
   ]
  }
 ],
 "metadata": {
  "kernelspec": {
   "display_name": "Python 3 (ipykernel)",
   "language": "python",
   "name": "python3"
  },
  "language_info": {
   "codemirror_mode": {
    "name": "ipython",
    "version": 3
   },
   "file_extension": ".py",
   "mimetype": "text/x-python",
   "name": "python",
   "nbconvert_exporter": "python",
   "pygments_lexer": "ipython3",
   "version": "3.12.2"
  }
 },
 "nbformat": 4,
 "nbformat_minor": 4
}
