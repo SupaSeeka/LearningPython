{
 "cells": [
  {
   "cell_type": "markdown",
   "metadata": {},
   "source": [
    "## Tuples\n",
    "\n",
    "Our second useful data structure provided to us by Python is the tuple. Now that we understand how lists work we'll be able to cover tuples in a fraction of the time, as they are very similar data structures.\n",
    "\n",
    "As with a list, a tuple is an ordered collection of data, where each element can be any of the basic Python object types, such as a `str`, `int`, `bool` or `float`. As we saw with lists, a tuple could also contain a tuple or a list. However, a tuple is immutable, so once you have created a tuple, you cannot modify its contents.\n",
    "\n",
    "\n",
    "Let us first start by creating a new tuple. Again, we use a sequence of comma separated values, but this time enclosed in round brackets. We use the `=` sign to assign the tuple to the variable `T`."
   ]
  },
  {
   "cell_type": "code",
   "execution_count": null,
   "metadata": {},
   "outputs": [],
   "source": [
    "T = (1, \"Two\", -3, True)\n",
    "type(T)"
   ]
  },
  {
   "cell_type": "markdown",
   "metadata": {},
   "source": [
    "If we want to, we can be very lazy, and use no brackets at all when defining a tuple!"
   ]
  },
  {
   "cell_type": "code",
   "execution_count": null,
   "metadata": {},
   "outputs": [],
   "source": [
    "T = 1, \"Two\", -3, True\n",
    "type(T)"
   ]
  },
  {
   "cell_type": "markdown",
   "metadata": {},
   "source": [
    "Indexing and slicing works in exactly the same way as it did with lists, by using the indexing operator `[ ]`. Therefore we won't go into the same level of detail, but there are a couple of examples below just to convince you that this is true."
   ]
  },
  {
   "cell_type": "code",
   "execution_count": null,
   "metadata": {},
   "outputs": [],
   "source": [
    "T = 10,9,8,7,6,5,4,3,2,1\n",
    "len(T)"
   ]
  },
  {
   "cell_type": "code",
   "execution_count": null,
   "metadata": {},
   "outputs": [],
   "source": [
    "T[1]"
   ]
  },
  {
   "cell_type": "code",
   "execution_count": null,
   "metadata": {},
   "outputs": [],
   "source": [
    "T[2:6:1]"
   ]
  },
  {
   "cell_type": "code",
   "execution_count": null,
   "metadata": {},
   "outputs": [],
   "source": [
    "T[0:len(T):2]"
   ]
  },
  {
   "cell_type": "code",
   "execution_count": null,
   "metadata": {},
   "outputs": [],
   "source": [
    "T[::-1]"
   ]
  },
  {
   "cell_type": "markdown",
   "metadata": {},
   "source": [
    "As the tuple is an immutable data structure, we can't use any of the methods that we used to modify lists. If you try to run the examples below they will give you errors. "
   ]
  },
  {
   "cell_type": "code",
   "execution_count": null,
   "metadata": {},
   "outputs": [],
   "source": [
    "T.append(11)"
   ]
  },
  {
   "cell_type": "code",
   "execution_count": null,
   "metadata": {},
   "outputs": [],
   "source": [
    "T.sort()"
   ]
  },
  {
   "cell_type": "markdown",
   "metadata": {},
   "source": [
    "Other than the modification methods, almost every method or function that works on lists will work on tuples. For example we can still use the basic Python functions such as `min`, `max` and `sum`, as these don't try to modify our tuple."
   ]
  },
  {
   "cell_type": "code",
   "execution_count": null,
   "metadata": {},
   "outputs": [],
   "source": [
    "min(T)"
   ]
  },
  {
   "cell_type": "code",
   "execution_count": null,
   "metadata": {},
   "outputs": [],
   "source": [
    "max(T)"
   ]
  },
  {
   "cell_type": "code",
   "execution_count": null,
   "metadata": {},
   "outputs": [],
   "source": [
    "sum(T)"
   ]
  },
  {
   "cell_type": "markdown",
   "metadata": {},
   "source": [
    "You may now be wondering why would we ever use a tuple! Surely a list is much more useful to us as we can modify it's contents whenever we please. One of the reasons is that a tuple provides some level of \"write protection\", though this only works if the tuple only contains immutable objects. I could, for instance, have a list in my tuple, and I would be able to edit the values in the list, as it is a mutable object itself.  "
   ]
  },
  {
   "cell_type": "code",
   "execution_count": null,
   "metadata": {},
   "outputs": [],
   "source": [
    "# We're not allowed to modify the values within a tuple...\n",
    "T = (1,2,[3,4,5])\n",
    "T[0] = 10"
   ]
  },
  {
   "cell_type": "code",
   "execution_count": null,
   "metadata": {},
   "outputs": [],
   "source": [
    "# ...but we can modify the values in a list that is stored in a tuple.\n",
    "T[2][0] = 20\n",
    "print(T)"
   ]
  },
  {
   "cell_type": "markdown",
   "metadata": {},
   "source": [
    "Another popular use of tuples is to return multiple pieces of data from a function. We'll see this when we cover functions later in the course.\n",
    "\n",
    "Hopefully you found this notebook much quicker to cover as there was little new to learn. As ever, direct any questions about tuples towards your demonstrators now, otherwise let us move on to our third data structure in the next notebook."
   ]
  }
 ],
 "metadata": {
  "kernelspec": {
   "display_name": "Python 3 (ipykernel)",
   "language": "python",
   "name": "python3"
  },
  "language_info": {
   "codemirror_mode": {
    "name": "ipython",
    "version": 3
   },
   "file_extension": ".py",
   "mimetype": "text/x-python",
   "name": "python",
   "nbconvert_exporter": "python",
   "pygments_lexer": "ipython3",
   "version": "3.12.2"
  }
 },
 "nbformat": 4,
 "nbformat_minor": 4
}
