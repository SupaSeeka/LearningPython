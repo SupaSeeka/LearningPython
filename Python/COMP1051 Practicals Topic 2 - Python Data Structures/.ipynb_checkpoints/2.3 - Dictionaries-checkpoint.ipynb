{
 "cells": [
  {
   "cell_type": "markdown",
   "metadata": {},
   "source": [
    "## Dictionaries\n",
    "\n",
    "Our third useful data structure provided to us by Python is the dictionary. This again is very similar to a list, both data structures are mutable, so we can add, remove and modify data as we please. Both data types can be nested, so a dictionary can contain another dictionary as one of its elements, or a list or tuple for that matter too.\n",
    "\n",
    "Until recently, the main difference between these data structures was that a dictionary was not ordered, so it made no difference to us in which order we added elements to a dictionary. However, in Python version 3.7 and later, this has changed, and a dictionary will now preserve the order in which you add elements. In general this is nothing to worry about, so much so, that we will not mention this again.\n",
    "\n",
    "The key difference for us between a list and a dictionary is in how we access data. With lists we provided an integer index value, however with a dictionary we provide a key in order to access our value, as we'll see shortly.\n",
    "\n",
    "Let us start by creating a new dictionary. \n"
   ]
  },
  {
   "cell_type": "code",
   "execution_count": null,
   "metadata": {},
   "outputs": [],
   "source": [
    "D = {\n",
    "    \"Darlington\" : 92363,\n",
    "    \"Hartlepool\" : 88855,\n",
    "    \"Stockton-on-Tees\" : 82729,\n",
    "    \"Durham\" : 47785,\n",
    "    \"Billingham\" : 35392\n",
    "}"
   ]
  },
  {
   "cell_type": "markdown",
   "metadata": {},
   "source": [
    "The data in the dictionary above is the population of the largest settlements in County Durham as of 2011. \n",
    "\n",
    "We define a dictionary using curly brackets `{ }`, where each element is a key-value pair such as `\"Durham\" : 47785`, separated by commas. Take a moment just to look at the example above to make sure you are happy this is a comma separated list of key-value pairs. You can imagine this data a little like an Excel spreadsheet, where you have two columns. In the first column is the name of the settlement, and in the second column is its population. If you wanted to know the population of a particular settlement, you would look for its name in the first column, and read the value from the second column. We can do exactly this with a dictionary in Python."
   ]
  },
  {
   "cell_type": "code",
   "execution_count": null,
   "metadata": {},
   "outputs": [],
   "source": [
    "D[\"Durham\"]"
   ]
  },
  {
   "cell_type": "markdown",
   "metadata": {},
   "source": [
    "We are using \"keys\" to access our data instead of an index value. We cannot access our values via the indexing operator with an index value (at least in Python 3.12 as we run here, this may change in future updates of Python). Try the example below to prove it to yourself:"
   ]
  },
  {
   "cell_type": "code",
   "execution_count": null,
   "metadata": {},
   "outputs": [],
   "source": [
    "# This will only work if one of the key-value pairs in D has the key 3.\n",
    "\n",
    "D[3]"
   ]
  },
  {
   "cell_type": "markdown",
   "metadata": {},
   "source": [
    "As the dictionary is a mutable data type, we can add, remove and modify elements as in the examples below:"
   ]
  },
  {
   "cell_type": "code",
   "execution_count": null,
   "metadata": {},
   "outputs": [],
   "source": [
    "# Add a new key-value pair. The key goes in the square brackets, the value after the equals sign.\n",
    "D[\"Peterlee\"] = 27871\n",
    "print(D)"
   ]
  },
  {
   "cell_type": "code",
   "execution_count": null,
   "metadata": {},
   "outputs": [],
   "source": [
    "# Remove a key-value pair from the dictionary by specifying the key to remove\n",
    "D.pop(\"Hartlepool\")\n",
    "print(D)"
   ]
  },
  {
   "cell_type": "code",
   "execution_count": null,
   "metadata": {},
   "outputs": [],
   "source": [
    "# Modify the population of Durham as the students have returned!\n",
    "D.update({\"Durham\" : 100000})\n",
    "print(D)"
   ]
  },
  {
   "cell_type": "code",
   "execution_count": null,
   "metadata": {},
   "outputs": [],
   "source": [
    "# I can also use the first example as a way of updating a value if the key already exists in the dictionary\n",
    "D[\"Durham\"] = 200000\n",
    "print(D)"
   ]
  },
  {
   "cell_type": "markdown",
   "metadata": {},
   "source": [
    "Sometimes we might just want to check if a certain key exists in our dictionary, but we're not interested in accessing the value associated with that key at this moment in time. We can do this using the Python keyword `in`."
   ]
  },
  {
   "cell_type": "code",
   "execution_count": null,
   "metadata": {},
   "outputs": [],
   "source": [
    "\"Darlington\" in D"
   ]
  },
  {
   "cell_type": "code",
   "execution_count": null,
   "metadata": {},
   "outputs": [],
   "source": [
    "\"Newcastle\" in D"
   ]
  },
  {
   "cell_type": "markdown",
   "metadata": {},
   "source": [
    "<br>\n",
    "\n",
    "Again, you might be asking yourself, when would I ever use a dictionary when writing a Python program? The answer to this one is quite easy, there are two main reasons for using a dictionary:\n",
    "1. When I want to store related data, much like when we would use multiple columns in a spreadsheet. In my example the key and value are related, so this data structure makes much more sense than using two lists for example where one contains the settlement names and other other contains the populations. We could use a list of tuples, except...\n",
    "2. If I want to find some data in this key-value form it is much faster to search a dictionary than to search other data structures such as a list of tuples. This is due to the use of Hash Tables, which we won't go into here, but if you're studying Algorithms and Data Structures you will be learning all about them this term."
   ]
  }
 ],
 "metadata": {
  "kernelspec": {
   "display_name": "Python 3 (ipykernel)",
   "language": "python",
   "name": "python3"
  },
  "language_info": {
   "codemirror_mode": {
    "name": "ipython",
    "version": 3
   },
   "file_extension": ".py",
   "mimetype": "text/x-python",
   "name": "python",
   "nbconvert_exporter": "python",
   "pygments_lexer": "ipython3",
   "version": "3.12.2"
  }
 },
 "nbformat": 4,
 "nbformat_minor": 4
}
