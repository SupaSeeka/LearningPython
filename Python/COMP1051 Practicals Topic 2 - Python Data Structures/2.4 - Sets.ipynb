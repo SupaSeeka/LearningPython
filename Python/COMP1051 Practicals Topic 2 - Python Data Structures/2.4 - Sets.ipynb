{
 "cells": [
  {
   "cell_type": "markdown",
   "metadata": {},
   "source": [
    "## Sets\n",
    "\n",
    "The final data structure we will consider in this topic is the Python set. A set in Python is basically the same as the mathematical definition of a set - all elements must be distinct, and the elements are unordered. \n",
    "\n",
    "Lists allowed us to store repeated elements, go back and try adding repeated elements to some of the examples if you wish, but trying to add a repeat element to a set will result in no changes to your set. Python doesn't return an error in this case, it just doesn't add the repeated element.\n",
    "\n",
    "As with dictionaries, it is very quick to search a set for a particular element, so if you don't care about the order of your data, and you just want to be able to look up quickly whether an element appears in a collection of data, the set data structure is for you!\n",
    "\n",
    "Let us start by creating a new set. \n"
   ]
  },
  {
   "cell_type": "code",
   "execution_count": 2,
   "metadata": {},
   "outputs": [
    {
     "name": "stdout",
     "output_type": "stream",
     "text": [
      "{'Rob', True, 3, 'Hi', 7, 11}\n"
     ]
    }
   ],
   "source": [
    "S = {\"Hi\", True, 3, 'Rob',7,11}\n",
    "print(S)"
   ]
  },
  {
   "cell_type": "markdown",
   "metadata": {},
   "source": [
    "When you run this code you will most likely see that the order of elements printed is not the order in which we declared them. This is normal, and as the set data structure is unordered, it should not come as a surprise to us.\n",
    "\n",
    "Sets are mutable data structures, so we can add and remove data using built-in provided methods. There are two different methods to both add and remove data, depending on the exact result we want to achieve. "
   ]
  },
  {
   "cell_type": "code",
   "execution_count": 3,
   "metadata": {},
   "outputs": [
    {
     "name": "stdout",
     "output_type": "stream",
     "text": [
      "{'Rob', True, 3, 'Hi', 'Boo', 7, 11}\n"
     ]
    }
   ],
   "source": [
    "# Add a single element to our set\n",
    "S.add(\"Boo\")\n",
    "print(S)"
   ]
  },
  {
   "cell_type": "code",
   "execution_count": 4,
   "metadata": {},
   "outputs": [
    {
     "name": "stdout",
     "output_type": "stream",
     "text": [
      "{'Rob', True, 3, 'Boo', 7, 11, 15, 21, 'Hi'}\n"
     ]
    }
   ],
   "source": [
    "# Add multiple elements to our set at once from a list\n",
    "S.update([15, 21])\n",
    "print(S)"
   ]
  },
  {
   "cell_type": "code",
   "execution_count": 5,
   "metadata": {},
   "outputs": [
    {
     "name": "stdout",
     "output_type": "stream",
     "text": [
      "{'Rob', True, 'Halloween', 3, 'Boo', 7, 'Happy', 11, 15, 21, 'Hi'}\n"
     ]
    }
   ],
   "source": [
    "# Add multiple elements to our set at once from a tuple\n",
    "S.update((\"Happy\", \"Halloween\"))\n",
    "print(S)"
   ]
  },
  {
   "cell_type": "markdown",
   "metadata": {},
   "source": [
    "Be careful though, the update method tries to iterate through the objects you provide to add them to the set. If you provide a string that isn't in a list or tuple for instance, it will iterate through the characters of the string and add each one, rather than adding the word as a whole!"
   ]
  },
  {
   "cell_type": "code",
   "execution_count": 6,
   "metadata": {},
   "outputs": [
    {
     "name": "stdout",
     "output_type": "stream",
     "text": [
      "{'Rob', True, 'Halloween', 3, 'l', 'Boo', 7, 'v', 'Happy', 11, 'H', 15, 21, 'n', 'e', 'y', 'Hi', 'E', 'o', 'r'}\n"
     ]
    }
   ],
   "source": [
    "# Add multiple elements to our set at once.... not what we expected.\n",
    "S.update(\"Hello\", \"Everyone\")\n",
    "print(S)"
   ]
  },
  {
   "cell_type": "markdown",
   "metadata": {},
   "source": [
    "We have two methods to remove elements from a set. We can use either `discard` or `remove`. The former will search for the element you want to discard, but if it doesn't exist then nothing will happen. The latter will throw an error if you try to remove an element that does not exist in the set."
   ]
  },
  {
   "cell_type": "code",
   "execution_count": 7,
   "metadata": {},
   "outputs": [
    {
     "name": "stdout",
     "output_type": "stream",
     "text": [
      "{True, 'Halloween', 3, 'l', 'Boo', 7, 'v', 'Happy', 11, 'H', 15, 21, 'n', 'e', 'y', 'Hi', 'E', 'o', 'r'}\n"
     ]
    }
   ],
   "source": [
    "# Discard an element\n",
    "S.discard('Rob')\n",
    "print(S)"
   ]
  },
  {
   "cell_type": "code",
   "execution_count": 10,
   "metadata": {},
   "outputs": [
    {
     "name": "stdout",
     "output_type": "stream",
     "text": [
      "{True, 'Halloween', 3, 'l', 7, 'v', 'Happy', 11, 'H', 15, 21, 'n', 'e', 'y', 'Hi', 'E', 'o', 'r'}\n"
     ]
    }
   ],
   "source": [
    "# Try to discard an element that doesn't exist\n",
    "S.discard('100')\n",
    "print(S)"
   ]
  },
  {
   "cell_type": "code",
   "execution_count": 9,
   "metadata": {},
   "outputs": [
    {
     "name": "stdout",
     "output_type": "stream",
     "text": [
      "{True, 'Halloween', 3, 'l', 7, 'v', 'Happy', 11, 'H', 15, 21, 'n', 'e', 'y', 'Hi', 'E', 'o', 'r'}\n"
     ]
    }
   ],
   "source": [
    "# Remove an element\n",
    "S.remove('Boo')\n",
    "print(S)"
   ]
  },
  {
   "cell_type": "code",
   "execution_count": 11,
   "metadata": {},
   "outputs": [
    {
     "ename": "KeyError",
     "evalue": "'100'",
     "output_type": "error",
     "traceback": [
      "\u001b[31m---------------------------------------------------------------------------\u001b[39m",
      "\u001b[31mKeyError\u001b[39m                                  Traceback (most recent call last)",
      "\u001b[36mCell\u001b[39m\u001b[36m \u001b[39m\u001b[32mIn[11]\u001b[39m\u001b[32m, line 2\u001b[39m\n\u001b[32m      1\u001b[39m \u001b[38;5;66;03m# Try to remove an element that doesn't exist\u001b[39;00m\n\u001b[32m----> \u001b[39m\u001b[32m2\u001b[39m \u001b[43mS\u001b[49m\u001b[43m.\u001b[49m\u001b[43mremove\u001b[49m\u001b[43m(\u001b[49m\u001b[33;43m'\u001b[39;49m\u001b[33;43m100\u001b[39;49m\u001b[33;43m'\u001b[39;49m\u001b[43m)\u001b[49m\n\u001b[32m      3\u001b[39m \u001b[38;5;28mprint\u001b[39m(S)\n",
      "\u001b[31mKeyError\u001b[39m: '100'"
     ]
    }
   ],
   "source": [
    "# Try to remove an element that doesn't exist\n",
    "S.remove('100')\n",
    "print(S)"
   ]
  },
  {
   "cell_type": "markdown",
   "metadata": {},
   "source": [
    "As with the mathematical notion of a set, we can perform set operations on the set data structure in Python. All of the common mathematical set operations have built in methods and operators in Python, and it is up to you which technique you prefer to use. We'll show you both below: "
   ]
  },
  {
   "cell_type": "code",
   "execution_count": 12,
   "metadata": {},
   "outputs": [],
   "source": [
    "S1 = {1,3,6,10}\n",
    "S2 = {1,2,5,6,9}"
   ]
  },
  {
   "cell_type": "code",
   "execution_count": 13,
   "metadata": {},
   "outputs": [
    {
     "name": "stdout",
     "output_type": "stream",
     "text": [
      "{1, 2, 3, 5, 6, 9, 10}\n",
      "{1, 2, 3, 5, 6, 9, 10}\n"
     ]
    }
   ],
   "source": [
    "# Union of two sets - all elements that appear in either set\n",
    "S = S1 | S2 #Operator\n",
    "print(S)\n",
    "S = S1.union(S2) #Method\n",
    "print(S)"
   ]
  },
  {
   "cell_type": "code",
   "execution_count": 14,
   "metadata": {},
   "outputs": [
    {
     "name": "stdout",
     "output_type": "stream",
     "text": [
      "{1, 6}\n",
      "{1, 6}\n"
     ]
    }
   ],
   "source": [
    "# Intersection of two sets - any items that appear in both sets\n",
    "S = S1 & S2 #Operator\n",
    "print(S)\n",
    "S = S1.intersection(S2) #Method\n",
    "print(S)"
   ]
  },
  {
   "cell_type": "code",
   "execution_count": 15,
   "metadata": {},
   "outputs": [
    {
     "name": "stdout",
     "output_type": "stream",
     "text": [
      "{10, 3}\n",
      "{10, 3}\n",
      "{9, 2, 5}\n",
      "{9, 2, 5}\n"
     ]
    }
   ],
   "source": [
    "# Difference of two sets - items in one set but not in the other\n",
    "S = S1 - S2 #Operator\n",
    "print(S)\n",
    "S = S1.difference(S2) #Method\n",
    "print(S)\n",
    "\n",
    "#We could also check the items in S2 but not in S1\n",
    "S = S2 - S1 #Operator\n",
    "print(S)\n",
    "S = S2.difference(S1) #Method\n",
    "print(S)"
   ]
  },
  {
   "cell_type": "code",
   "execution_count": null,
   "metadata": {},
   "outputs": [],
   "source": [
    "# Symmetric difference - the items that appear only in one of the sets.\n",
    "# This is the same as the union of the two sets from the example above\n",
    "S = S1 ^ S2 #Operator\n",
    "print(S)\n",
    "S = S1.symmetric_difference(S2) #Method\n",
    "print(S)"
   ]
  },
  {
   "cell_type": "markdown",
   "metadata": {},
   "source": [
    "There are plenty more set operations provided by built-in methods, but these are the main ones that you are likely to want to use in your code. If you want to see more you should look at the Python documentation on sets, which can be found here: <a href=\"https://docs.python.org/3.12/library/stdtypes.html#set-types-set-frozenset\"> https://docs.python.org/3.12/library/stdtypes.html#set-types-set-frozenset </a>\n",
    "\n",
    "Congratulations on reaching the end of the content for Topic 2. This has been quite a deep dive into the data structures of Python, so don't worry if it's taken you a couple of practical sessions to get this far. Move on to the final notebook in this topic and try to put into practice the content you've learnt."
   ]
  }
 ],
 "metadata": {
  "kernelspec": {
   "display_name": "Python 3 (ipykernel)",
   "language": "python",
   "name": "python3"
  },
  "language_info": {
   "codemirror_mode": {
    "name": "ipython",
    "version": 3
   },
   "file_extension": ".py",
   "mimetype": "text/x-python",
   "name": "python",
   "nbconvert_exporter": "python",
   "pygments_lexer": "ipython3",
   "version": "3.13.5"
  }
 },
 "nbformat": 4,
 "nbformat_minor": 4
}
