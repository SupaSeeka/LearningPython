{
 "cells": [
  {
   "cell_type": "markdown",
   "metadata": {},
   "source": [
    "## Advanced Functions\n",
    "\n",
    "We saw in the previous topic how we could use the built-in functions provided by Python, how we could import third-party modules to use the functions they provide, and also how to define our own functions. Make sure you are comfortable with all of the content from the previous topic before moving on to this notebook, otherwise you will probably find this quite tough going!\n",
    "\n",
    "We will be covering three subtopics in this notebook. First we will look at default argument values, second we will consider writing recursive functions, and finally we will cover variable scope. \n",
    "\n",
    "As well as the usual code examples there are also some videos embedded into this notebook. These should all play successfully on any modern web browser.\n"
   ]
  },
  {
   "cell_type": "markdown",
   "metadata": {},
   "source": [
    "### Default argument values\n",
    "\n",
    "This is a fairly simple extension to the function notation that we considered in the previous topic. Maybe you have a situation in your code where the arguments passed to a function are almost always the same values, and are only occasionally different. We can provide those values that are almost always used to our function as default arguments, which simply tells our function to use these values unless you are told otherwise. You don't have to provide any default arguments if you choose not too, or you may provide default argument values for just a subset of the function arguments. \n",
    "\n",
    "Let us consider the example below, which is based on Q2 from the exercises in the previous topic:"
   ]
  },
  {
   "cell_type": "code",
   "execution_count": 1,
   "metadata": {},
   "outputs": [
    {
     "name": "stdout",
     "output_type": "stream",
     "text": [
      "7\n"
     ]
    }
   ],
   "source": [
    "def mad(a,b,c):\n",
    "    return (a*b)+c\n",
    "\n",
    "x = mad(2,3,1)\n",
    "print(x)"
   ]
  },
  {
   "cell_type": "markdown",
   "metadata": {},
   "source": [
    "This is just a normal function as we have seen previously. However, now let us consider the following information. We know that generally this function is used to multiple two numbers together and add one to the result. Occasionally we will want to add a different value, but most of the time the value of `c` will be 1. In this situation we can use a default value for the argument `c` as seen in the example below:"
   ]
  },
  {
   "cell_type": "code",
   "execution_count": 2,
   "metadata": {},
   "outputs": [
    {
     "name": "stdout",
     "output_type": "stream",
     "text": [
      "7\n"
     ]
    }
   ],
   "source": [
    "def mad(a,b,c=1):\n",
    "    return (a*b)+c\n",
    "\n",
    "x = mad(2,3)\n",
    "print(x)"
   ]
  },
  {
   "cell_type": "markdown",
   "metadata": {},
   "source": [
    "Notice that two things have changed in our code. First we have added the default value for the argument `c` into the function definition. We do this by writing `c=1`, and this tells the function to default to this value unless told otherwise. The second change is that we now call our function with just two arguments `mad(2,3)`. We have given the function values for `a` and `b`, but not for `c`, so it assumes it should use the default value for `c` in this case. \n",
    "\n",
    "If there is a situation where I want to use a different value for `c`, we can simply override the default by calling our function with three arguments again, as you can see below:"
   ]
  },
  {
   "cell_type": "code",
   "execution_count": null,
   "metadata": {},
   "outputs": [],
   "source": [
    "def mad(a,b,c=1):\n",
    "    return (a*b)+c\n",
    "\n",
    "x = mad(2,3,10)\n",
    "print(x)"
   ]
  },
  {
   "cell_type": "markdown",
   "metadata": {},
   "source": [
    "Hopefully this short example has easily proven to you how default argument values work, and how easy they are to implement. You may find that you never use these yourself, but it may be useful information to be aware of if you try to study any open source code in the future."
   ]
  },
  {
   "cell_type": "markdown",
   "metadata": {},
   "source": [
    "\n",
    "### Writing recursive functions\n",
    "\n",
    "We've seen from the previous topic that we can define our own functions and call them from anywhere in our code and as many time as we like, which is fantastic for avoiding code repetition. There are two obvious generalisations of this that we can consider. The first is that you can call one function from within a different function, and this sounds like quite a natural thing to want to do. The other useful aspects of functions is their ability to call themselves, or more specifically, you can call a function from within that function. This is known as a recursive function and tends to be a source of much confusion to those just starting out with programming. It is very easy to get recursion wrong, and end up with either very slow programs, or maybe one that never terminates. \n",
    "\n",
    "Let us look at such a silly example, just to understand the basics of calling a function from within itself."
   ]
  },
  {
   "cell_type": "code",
   "execution_count": null,
   "metadata": {},
   "outputs": [],
   "source": [
    "def recurse(n):\n",
    "    if (n<10):\n",
    "        print(n)\n",
    "        recurse(n+1)\n",
    "    \n",
    "recurse(1)"
   ]
  },
  {
   "cell_type": "markdown",
   "metadata": {},
   "source": [
    "We have a check in this code block to ensure that it will not run forever, without it we will have created an infinite loop in our code! The idea here was simple, you start the process off with a number, and the function prints that number, and calls itself with the next larger number. It prints that, and calls itself again. The process only stops once the value of `n` has incremented to 10 and we stop calling the function.\n",
    "\n",
    "You might now be thinking, well thats all well and good, but why would we ever want to do this? Surely we can just use a for loop to do the same thing! And the answer is both yes and no. Generally, any recursive function could be rewritten to use loops instead, but often it is much more natural to consider the solution to a problem in a recursive manner. This is easiest to see with an old game called the Tower of Hanoi, invented in the 19th century by French mathematician Édouard Lucas. \n",
    "\n",
    "The objective of the game is to move a stack of different sized disks from one rod to another rod following three simple rules:\n",
    "1. Only a single disk can be moved at a time\n",
    "2. You can only remove the top most disk from a rod and move it to a different rod\n",
    "3. You cannot place a larger disk on top of a smaller disk\n",
    "\n",
    "You can watch the video below to see how the game works with a starting stack of 3 disks."
   ]
  },
  {
   "cell_type": "markdown",
   "metadata": {},
   "source": [
    "<video width=\"600\" height=\"400\" controls src=\"media/Tower3.mp4\"></video>"
   ]
  },
  {
   "cell_type": "markdown",
   "metadata": {},
   "source": [
    "So the game looks pretty simple with just 3 disks. Let us play the same game again, but this time with 4 disks, which we can see in the video below."
   ]
  },
  {
   "cell_type": "markdown",
   "metadata": {},
   "source": [
    "<video width=\"600\" height=\"400\" controls src=\"media/Tower4.mp4\"></video>"
   ]
  },
  {
   "cell_type": "markdown",
   "metadata": {},
   "source": [
    "Now go back to the video, and pause it at 8 seconds. You should see 3 disks on the centre rod, and the largest disk on the rod to the right. This position looks very familiar to the position from the first video. We have 3 disks that we want to move onto the rod on the right. They are on the middle rod this time instead of the left rod, but that doesn't make a difference to us really. So in theory we are now dealing with the same problem from the first video, which is moving just 3 disks rather than 4. This is a classic example of where we can apply recursion because we try to solve the same problem multiple times, but the input changes slightly.\n",
    "\n",
    "We start off by trying to solve the problem with 4 disks, and we can say, as long as I can move the bottom disk into the correct place, what I have left is then solving the same problem with 3 disks, and swapping the middle and left rods over. If you stop the video at 12 seconds, now we are solving the same problem again but with just 2 disks this time. At the 15 second mark we're trying to solve the 1 disk problem, which is trivial, just move it to the correct rod.\n",
    "\n",
    "A recursive algorithm has 2 properties:\n",
    "1. We have a base case - something trivial to deal with, where we don't recursively call our function.\n",
    "2. We move towards that base case through our recursive function calls.\n",
    "\n",
    "In this example, the base case is the trivial moving of a 1 disk stack. We move towards our base case as we keep playing the same game but with less and less remaining disks at each step, so we are moving towards the case of only having a single disk left.\n",
    "\n",
    "We can program this in Python, take some time to work through the example below and convince yourself that it plays the game correctly."
   ]
  },
  {
   "cell_type": "code",
   "execution_count": 5,
   "metadata": {},
   "outputs": [
    {
     "name": "stdout",
     "output_type": "stream",
     "text": [
      "Move disk 1 from source A to destination C\n",
      "Move disk 2 from source A to destination B\n",
      "Move disk 1 from source C to destination B\n",
      "Move disk 3 from source A to destination C\n",
      "Move disk 1 from source B to destination A\n",
      "Move disk 2 from source B to destination C\n",
      "Move disk 1 from source A to destination C\n"
     ]
    }
   ],
   "source": [
    "def TowerOfHanoi(n , source, auxiliary, destination): \n",
    "    #This is the base case, move a single disk\n",
    "    if n==1: \n",
    "        print (\"Move disk 1 from source\",source,\"to destination\",destination) \n",
    "        return\n",
    "    #This moves a stack (except for the bottom disk, from the source rod to the auxiliary rod)\n",
    "    TowerOfHanoi(n-1, source, destination, auxiliary)\n",
    "    #Now we can access the largest disk still to be moved, we can move it to the destination\n",
    "    print (\"Move disk\",n,\"from source\",source,\"to destination\",destination) \n",
    "    #This moves a stack (except for the bottom disk, from the auxiliary rod to the source rod)\n",
    "    TowerOfHanoi(n-1, auxiliary, source, destination) \n",
    "          \n",
    "# Driver code \n",
    "n = 3\n",
    "TowerOfHanoi(n,'A','B','C')"
   ]
  },
  {
   "cell_type": "markdown",
   "metadata": {},
   "source": [
    "If you follow the instructions you should find that it plays the game successfully. If you're struggling to visualise the moves you can use the game shown in the video here: https://www.mathsisfun.com/games/towerofhanoi.html \n",
    "\n",
    "The order of instructions executed will appear unusual compared to what you have seen before. The function calls itself while there is still other code left to run in that function. This means that the new call will execute and complete before we return to where we were. The order of instructions actually executed looks like this for the `n=3` example:\n",
    "* `TowerOfHanoi(3,'A','B','C')`\n",
    "* `TowerOfHanoi(2,'A','C','B')`\n",
    "* `TowerOfHanoi(1,'A','B','C')`\n",
    "* `print (\"Move disk 1 from source A to destination C\")`\n",
    "* `print (\"Move disk 2 from source A to destination B\")`\n",
    "* `TowerOfHanoi(1,'C','A','B')`\n",
    "* `print (\"Move disk 1 from source C to destination B\")`\n",
    "* `print (\"Move disk 3 from source A to destination C\")`\n",
    "* `TowerOfHanoi(2,'B','A','C')`\n",
    "* `TowerOfHanoi(1,'B','C','A')`\n",
    "* `print (\"Move disk 1 from source B to destination A\")`\n",
    "* `print (\"Move disk 2 from source B to destination C\")`\n",
    "* `TowerOfHanoi(1,'A','B','C')`\n",
    "* `print (\"Move disk 1 from source A to destination C\")`\n",
    "\n",
    "\n",
    "Following a recursive program through its execution can often be non-trivial. Start with very small examples to make sure things seem to be working as you expect, and think about the problem in a more abstract way. In this case it is generally easier to think in a similar way to the comments in the code above. Move a stack from one place to another except for the bottom disk, then move that, then move the stack back except for the bottom disk again. If you code it as you say it, you should end up with code like the example above. This takes practice! It often won't come naturally, and you will struggle to get things perfect at the first attempt. \n",
    "\n",
    "If you want to see examples of some other recursive functions there is a useful list available here: https://inventwithpython.com/blog/22-examples-of-recursive-functions.html <br>\n",
    "Some of these examples are easier than others to understand, and some should be familiar to you (or at least will become familiar) such as QuickSort and MergeSort."
   ]
  },
  {
   "cell_type": "markdown",
   "metadata": {},
   "source": [
    "### Variable scope\n",
    "\n",
    "Finally in this notebook we are going to look at variable scope. This is very important to remember if you are using functions in your Python code, otherwise you can end up with a big mess!\n",
    "\n",
    "Python will allow you to declare variables both inside and outside of functions, and the scope of those variables relates to which parts of your code can see and use those variables. Generally variables declared inside a function are only available to that specific function call, and not to the rest of your code or subsequent function calls to that same function. We tend to refer to such variables as local variables, or say they have local scope. \n",
    "Variables declared outside of any functions are generally called global variables, or variables with global scope. These variables can be seen and used by all functions. \n",
    "\n",
    "Take a look at the two examples below to see this in action:\n",
    "\n"
   ]
  },
  {
   "cell_type": "code",
   "execution_count": 6,
   "metadata": {},
   "outputs": [
    {
     "name": "stdout",
     "output_type": "stream",
     "text": [
      "Inside f: 100\n",
      "Outside f: 100\n"
     ]
    }
   ],
   "source": [
    "#Global Scope: x is visible both inside and outside of the function f\n",
    "x = 100\n",
    "\n",
    "def f():\n",
    "    print(\"Inside f:\", x)\n",
    "    \n",
    "f()\n",
    "print(\"Outside f:\", x)"
   ]
  },
  {
   "cell_type": "code",
   "execution_count": 7,
   "metadata": {},
   "outputs": [
    {
     "name": "stdout",
     "output_type": "stream",
     "text": [
      "Inside f: 100\n"
     ]
    },
    {
     "ename": "NameError",
     "evalue": "name 'y' is not defined",
     "output_type": "error",
     "traceback": [
      "\u001b[31m---------------------------------------------------------------------------\u001b[39m",
      "\u001b[31mNameError\u001b[39m                                 Traceback (most recent call last)",
      "\u001b[36mCell\u001b[39m\u001b[36m \u001b[39m\u001b[32mIn[7]\u001b[39m\u001b[32m, line 7\u001b[39m\n\u001b[32m      4\u001b[39m     \u001b[38;5;28mprint\u001b[39m(\u001b[33m\"\u001b[39m\u001b[33mInside f:\u001b[39m\u001b[33m\"\u001b[39m, y)\n\u001b[32m      6\u001b[39m f()\n\u001b[32m----> \u001b[39m\u001b[32m7\u001b[39m \u001b[38;5;28mprint\u001b[39m(\u001b[33m\"\u001b[39m\u001b[33mOutside f:\u001b[39m\u001b[33m\"\u001b[39m, \u001b[43my\u001b[49m)\n",
      "\u001b[31mNameError\u001b[39m: name 'y' is not defined"
     ]
    }
   ],
   "source": [
    "#Local Scope: y is local to the function f, and can't be seen outside of f\n",
    "def f():\n",
    "    y = 100\n",
    "    print(\"Inside f:\", y)\n",
    "    \n",
    "f()\n",
    "print(\"Outside f:\", y)"
   ]
  },
  {
   "cell_type": "markdown",
   "metadata": {},
   "source": [
    "The variable `x` has global scope, and can be seen both inside and outside of the function `f`. The variable `y` on the other hand has local scope, and can only be seen inside the function.\n",
    "\n",
    "Whilst you can see variables with global scope from inside a function, you cannot edit them! If you try, strange things will start to happen. In this case below we try to add 100 to the variable `x`, and despite the fact it is global, and we could print it, Python will throw an error."
   ]
  },
  {
   "cell_type": "code",
   "execution_count": 8,
   "metadata": {},
   "outputs": [
    {
     "ename": "UnboundLocalError",
     "evalue": "cannot access local variable 'x' where it is not associated with a value",
     "output_type": "error",
     "traceback": [
      "\u001b[31m---------------------------------------------------------------------------\u001b[39m",
      "\u001b[31mUnboundLocalError\u001b[39m                         Traceback (most recent call last)",
      "\u001b[36mCell\u001b[39m\u001b[36m \u001b[39m\u001b[32mIn[8]\u001b[39m\u001b[32m, line 8\u001b[39m\n\u001b[32m      5\u001b[39m     x = x + \u001b[32m100\u001b[39m\n\u001b[32m      6\u001b[39m     \u001b[38;5;28mprint\u001b[39m(\u001b[33m\"\u001b[39m\u001b[33mInside f:\u001b[39m\u001b[33m\"\u001b[39m, x)\n\u001b[32m----> \u001b[39m\u001b[32m8\u001b[39m \u001b[43mf\u001b[49m\u001b[43m(\u001b[49m\u001b[43m)\u001b[49m\n\u001b[32m      9\u001b[39m \u001b[38;5;28mprint\u001b[39m(\u001b[33m\"\u001b[39m\u001b[33mOutside f:\u001b[39m\u001b[33m\"\u001b[39m, x)\n",
      "\u001b[36mCell\u001b[39m\u001b[36m \u001b[39m\u001b[32mIn[8]\u001b[39m\u001b[32m, line 5\u001b[39m, in \u001b[36mf\u001b[39m\u001b[34m()\u001b[39m\n\u001b[32m      4\u001b[39m \u001b[38;5;28;01mdef\u001b[39;00m\u001b[38;5;250m \u001b[39m\u001b[34mf\u001b[39m():\n\u001b[32m----> \u001b[39m\u001b[32m5\u001b[39m     x = \u001b[43mx\u001b[49m + \u001b[32m100\u001b[39m\n\u001b[32m      6\u001b[39m     \u001b[38;5;28mprint\u001b[39m(\u001b[33m\"\u001b[39m\u001b[33mInside f:\u001b[39m\u001b[33m\"\u001b[39m, x)\n",
      "\u001b[31mUnboundLocalError\u001b[39m: cannot access local variable 'x' where it is not associated with a value"
     ]
    }
   ],
   "source": [
    "#Global Scope: x is visible both inside and outside of the function f\n",
    "x = 100\n",
    "\n",
    "def f():\n",
    "    x = x + 100\n",
    "    print(\"Inside f:\", x)\n",
    "    \n",
    "f()\n",
    "print(\"Outside f:\", x)"
   ]
  },
  {
   "cell_type": "markdown",
   "metadata": {},
   "source": [
    "You might instead try doing the following:"
   ]
  },
  {
   "cell_type": "code",
   "execution_count": 9,
   "metadata": {},
   "outputs": [
    {
     "name": "stdout",
     "output_type": "stream",
     "text": [
      "Inside f: 200\n",
      "Outside f: 100\n"
     ]
    }
   ],
   "source": [
    "#Global Scope: x is visible both inside and outside of the function f\n",
    "x = 100\n",
    "\n",
    "def f():\n",
    "    x = 200\n",
    "    print(\"Inside f:\", x)\n",
    "    \n",
    "f()\n",
    "print(\"Outside f:\", x)"
   ]
  },
  {
   "cell_type": "markdown",
   "metadata": {},
   "source": [
    "This time we don't get an error, but we also don't have the expected result. Inside the function things appeared as we expected, but outside the function the value of `x` doesn't appear to have changed. The reason for this is that you've actually created a new variable `x` inside the function `f` which has local scope. These are treated as two separate variables, and once the function is complete, the variable `x` inside the function is gone forever. \n",
    "\n",
    "If you don't want to create a new variable with local scope, but you want to edit the value of a global variable inside a function you must use the `global` keyword. This explicitly tells Python that the variable you are referring to should have global scope. You can also use this for creating new global variables from within a function, and these become available to the rest of your code and don't vanish when the function is complete."
   ]
  },
  {
   "cell_type": "code",
   "execution_count": null,
   "metadata": {},
   "outputs": [],
   "source": [
    "#We can overcome the problem above by using the keyword \"global\". \n",
    "#This says that x belongs to the global scope, rather than the local scope of the function.\n",
    "#So we only have a single global variable x now, rather than both a local and a global variable both called x.\n",
    "x = 100\n",
    "\n",
    "def f():\n",
    "    global x\n",
    "    x = 200\n",
    "    \n",
    "f()\n",
    "print(x)"
   ]
  },
  {
   "cell_type": "code",
   "execution_count": null,
   "metadata": {},
   "outputs": [],
   "source": [
    "# We can also use this to define a global variable for the first time inside a function, \n",
    "# which we can then use in the rest of our code\n",
    "def f():\n",
    "    global z\n",
    "    z = 100\n",
    "    \n",
    "f()\n",
    "print(z)"
   ]
  },
  {
   "cell_type": "markdown",
   "metadata": {},
   "source": [
    "<br>\n",
    "\n",
    "That covers all of our advanced content on functions. Don't worry if you don't understand all of the material here at the first attempt, some of this is quite in depth. Take your time with the exercises and keep practicing. One of the best ways to learn can be by making mistakes, and then referring back to this information, or asking the demonstrators to explain to you what has gone wrong. "
   ]
  }
 ],
 "metadata": {
  "kernelspec": {
   "display_name": "Python 3 (ipykernel)",
   "language": "python",
   "name": "python3"
  },
  "language_info": {
   "codemirror_mode": {
    "name": "ipython",
    "version": 3
   },
   "file_extension": ".py",
   "mimetype": "text/x-python",
   "name": "python",
   "nbconvert_exporter": "python",
   "pygments_lexer": "ipython3",
   "version": "3.13.5"
  }
 },
 "nbformat": 4,
 "nbformat_minor": 4
}
