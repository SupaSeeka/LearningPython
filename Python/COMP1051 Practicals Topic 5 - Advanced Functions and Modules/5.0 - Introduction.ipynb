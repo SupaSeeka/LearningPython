{
 "cells": [
  {
   "cell_type": "markdown",
   "metadata": {},
   "source": [
    "<br>\n",
    "\n",
    "## Topic 5: Advanced Functions and Modules\n",
    "\n",
    "In the previous topic we started by looking at how to use the built-in functions of Python to perform useful tasks for us. We then moved on to see how to define our own Python functions using the `def` keyword, and briefly considered why this is useful. In the exercises there was plenty of opportunity to practice writing functions of your own. Finally we looked at some of the most commonly used Python modules, and how we could import them into our Python code to use the functions they contain. This is how most developers will work with Python. There is no point reinventing the wheel, and a lot of what we need is freely available in third-party open source modules that have often been well optimised.\n",
    "\n",
    "This topic follows on closely from the previous one, as you can probably tell from the title! This time however we will look at some more advanced concepts in our code such as recursion, and the scope of variables. Some of you may have already encountered some errors when trying to complete the exercises in the previous topic with trying to use variables which are deemed to be 'out of scope'.\n",
    "\n",
    "In our second look at modules we will take another look at `copy` and also introduce the `io` module and demonstrate how to do basic operations such as reading and writing data files. As an important aside to working with files we will also take a brief look at errors and exceptions in Python.\n",
    "\n",
    "As always, if you encounter errors that you cannot figure out, or you want something explaining, then please ask you lab demonstrator or discuss things between yourselves in the lab.\n"
   ]
  },
  {
   "cell_type": "markdown",
   "metadata": {},
   "source": [
    "\n",
    "\n",
    "### Learning Objectives\n",
    "\n",
    "By the end of this topic you should have gained some experience in how to write recursive functions. Having a working knowledge of recursion is essential if you want to write slightly more advanced algorithms such as QuickSort or MergeSort for sorting lists of data for example. You should also understand what it means for a variable to be local or global, and know which variables are in scope at various points in your code. You should know how to copy data using the `copy` module, and appreciate when to use the `copy` and `deepcopy` functions. Finally you should be able to use the Python keywords `try`, `except`, `else` and `finally` to deal with possible errors that may occur when a program runs, particularly with regards to file input and output.\n",
    "\n",
    "As usual we'll look at lots of examples to help you practice and reinforce your knowledge. You should work through these notebooks in your own time:\n",
    "* 5.1 - Advanced Functions\n",
    "* 5.2 - Advanced Modules\n",
    "* 5.3 - Test Your Knowledge\n",
    "\n",
    "Beyond the content given in these notebooks you will also find useful information in Chapter 4 of the Perkovic text book, and notebooks 8 and 9 of the Whirlwind Tour of Python. If you've studied Python before, and you are confident in your knowledge, you should take a glance at the first two notebooks, and make sure you can complete the exercises in the third notebook. "
   ]
  }
 ],
 "metadata": {
  "kernelspec": {
   "display_name": "Python 3 (ipykernel)",
   "language": "python",
   "name": "python3"
  },
  "language_info": {
   "codemirror_mode": {
    "name": "ipython",
    "version": 3
   },
   "file_extension": ".py",
   "mimetype": "text/x-python",
   "name": "python",
   "nbconvert_exporter": "python",
   "pygments_lexer": "ipython3",
   "version": "3.12.2"
  }
 },
 "nbformat": 4,
 "nbformat_minor": 4
}
