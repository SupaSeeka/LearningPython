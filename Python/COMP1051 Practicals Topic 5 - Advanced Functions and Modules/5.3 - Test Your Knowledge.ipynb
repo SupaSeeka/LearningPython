{
 "cells": [
  {
   "cell_type": "markdown",
   "metadata": {},
   "source": [
    "## Test Your Knowledge\n",
    "\n",
    "In the blocks below you will find a range of questions that cover the material we've looked at in the previous notebooks. Make sure you can do these tasks before you move on to the next topic. These questions might take you a little longer than some of the questions you've seen before, just take your time. If you've done a lot of Python before you might want to take a look at some more complex problems, such as those found here:\n",
    "\n",
    "https://www.python-course.eu/python3_file_management.php\n",
    "<br>"
   ]
  },
  {
   "cell_type": "markdown",
   "metadata": {},
   "source": [
    "1. Take your code from the fourth exercise from the previous topic which calculates the hypotenuse of a right angled triangle. Modify this function such that is has default arguments with the values 3 and 4. Try calling your function without any providing any arguments, and make sure you get the answer you would expect."
   ]
  },
  {
   "cell_type": "code",
   "execution_count": null,
   "metadata": {},
   "outputs": [],
   "source": [
    "## YOUR CODE GOES HERE"
   ]
  },
  {
   "cell_type": "markdown",
   "metadata": {},
   "source": [
    "2. Write a recursive function to calculate the factorial of a given input number `n`. As a reminder `4! = 4 * 3 * 2 * 1` for example, so should return `24`. To help with your recursive function, it is worth remembering that `n! = n * (n-1)!` "
   ]
  },
  {
   "cell_type": "code",
   "execution_count": null,
   "metadata": {},
   "outputs": [],
   "source": [
    "## YOUR CODE GOES HERE"
   ]
  },
  {
   "cell_type": "markdown",
   "metadata": {},
   "source": [
    "3. Explore how the copy and deepcopy functions work with a variety of the data structures that we saw in Topic 2. Lists, tuples, dictionaries and sets are all collection types, they can store other objects, including other collection types. We saw this in the content in notebook 5.2 looking at lists and lists of lists. Create examples of your own where you try to copy and edit these data structures. Make sure to consider compound data structures - we saw lists of lists in the content, so try for example copying and editing a tuple of lists, or a set of tuples."
   ]
  },
  {
   "cell_type": "code",
   "execution_count": null,
   "metadata": {},
   "outputs": [],
   "source": [
    "## YOUR CODE GOES HERE"
   ]
  },
  {
   "cell_type": "markdown",
   "metadata": {},
   "source": [
    "4. Write a function that continually asks a user for a filename until they provide a valid filename. If the filename the user provides is invalid you should print out a message to indicate this, and then request another filename. If the filename is valid then you should read in the file and print out its contents. You should use the `try` and `except` structure, and will probably need a `while` loop."
   ]
  },
  {
   "cell_type": "code",
   "execution_count": null,
   "metadata": {},
   "outputs": [],
   "source": [
    "## YOUR CODE GOES HERE"
   ]
  },
  {
   "cell_type": "markdown",
   "metadata": {},
   "source": [
    "5. There is a file containing words in the files folder called `dict.txt`. Write Python code that reads this file, checks through all of the words in the file, and identifies which words have 4 letters or more. Create a new file and write to it just those words that contain 4 letters or more."
   ]
  },
  {
   "cell_type": "code",
   "execution_count": null,
   "metadata": {},
   "outputs": [],
   "source": [
    "## YOUR CODE GOES HERE"
   ]
  }
 ],
 "metadata": {
  "kernelspec": {
   "display_name": "Python 3 (ipykernel)",
   "language": "python",
   "name": "python3"
  },
  "language_info": {
   "codemirror_mode": {
    "name": "ipython",
    "version": 3
   },
   "file_extension": ".py",
   "mimetype": "text/x-python",
   "name": "python",
   "nbconvert_exporter": "python",
   "pygments_lexer": "ipython3",
   "version": "3.12.2"
  }
 },
 "nbformat": 4,
 "nbformat_minor": 4
}
