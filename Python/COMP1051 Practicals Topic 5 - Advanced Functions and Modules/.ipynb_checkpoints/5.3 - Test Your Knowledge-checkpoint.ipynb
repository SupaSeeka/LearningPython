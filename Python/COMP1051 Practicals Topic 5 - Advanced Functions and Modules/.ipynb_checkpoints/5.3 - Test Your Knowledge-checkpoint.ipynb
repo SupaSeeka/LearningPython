{
 "cells": [
  {
   "cell_type": "markdown",
   "metadata": {},
   "source": [
    "## Test Your Knowledge\n",
    "\n",
    "In the blocks below you will find a range of questions that cover the material we've looked at in the previous notebooks. Make sure you can do these tasks before you move on to the next topic. These questions might take you a little longer than some of the questions you've seen before, just take your time. If you've done a lot of Python before you might want to take a look at some more complex problems, such as those found here:\n",
    "\n",
    "https://www.python-course.eu/python3_file_management.php\n",
    "<br>"
   ]
  },
  {
   "cell_type": "markdown",
   "metadata": {},
   "source": [
    "1. Take your code from the fourth exercise from the previous topic which calculates the hypotenuse of a right angled triangle. Modify this function such that is has default arguments with the values 3 and 4. Try calling your function without any providing any arguments, and make sure you get the answer you would expect."
   ]
  },
  {
   "cell_type": "code",
   "execution_count": 1,
   "metadata": {},
   "outputs": [
    {
     "data": {
      "text/plain": [
       "5.0"
      ]
     },
     "execution_count": 1,
     "metadata": {},
     "output_type": "execute_result"
    }
   ],
   "source": [
    "import math\n",
    "\n",
    "def hyp(a =3,b =4):\n",
    "    return math.sqrt(a**2 + b**2)\n",
    "\n",
    "hyp()"
   ]
  },
  {
   "cell_type": "markdown",
   "metadata": {},
   "source": [
    "2. Write a recursive function to calculate the factorial of a given input number `n`. As a reminder `4! = 4 * 3 * 2 * 1` for example, so should return `24`. To help with your recursive function, it is worth remembering that `n! = n * (n-1)!` "
   ]
  },
  {
   "cell_type": "code",
   "execution_count": 7,
   "metadata": {},
   "outputs": [
    {
     "name": "stdout",
     "output_type": "stream",
     "text": [
      "120\n"
     ]
    }
   ],
   "source": [
    "def recFactorial(n):\n",
    "    if (n > 1):\n",
    "        return n*recFactorial(n-1)\n",
    "    else:\n",
    "        return 1\n",
    "print(recFactorial(5))"
   ]
  },
  {
   "cell_type": "raw",
   "metadata": {},
   "source": [
    "3. Explore how the copy and deepcopy functions work with a variety of the data structures that we saw in Topic 2. Lists, tuples, dictionaries and sets are all collection types, they can store other objects, including other collection types. We saw this in the content in notebook 5.2 looking at lists and lists of lists. Create examples of your own where you try to copy and edit these data structures. Make sure to consider compound data structures - we saw lists of lists in the content, so try for example copying and editing a tuple of lists, or a set of tuples."
   ]
  },
  {
   "cell_type": "code",
   "execution_count": 14,
   "metadata": {},
   "outputs": [
    {
     "name": "stdout",
     "output_type": "stream",
     "text": [
      "[[0, 2], [1, 2], [2, 3], [4, 5]]\n",
      "[[0, 1], [1, 2], [2, 3], [4, 5]]\n"
     ]
    }
   ],
   "source": [
    "import copy\n",
    "L = [[0,1],[1,2],[2,3],[4,5]]\n",
    "\n",
    "L1 = copy.deepcopy(L)\n",
    "L[0][1] = 2\n",
    "print(L)\n",
    "print(L1)"
   ]
  },
  {
   "cell_type": "markdown",
   "metadata": {},
   "source": [
    "4. Write a function that continually asks a user for a filename until they provide a valid filename. If the filename the user provides is invalid you should print out a message to indicate this, and then request another filename. If the filename is valid then you should read in the file and print out its contents. You should use the `try` and `except` structure, and will probably need a `while` loop."
   ]
  },
  {
   "cell_type": "code",
   "execution_count": 21,
   "metadata": {},
   "outputs": [
    {
     "name": "stdout",
     "output_type": "stream",
     "text": [
      "Please give me a file name: \n"
     ]
    },
    {
     "name": "stdin",
     "output_type": "stream",
     "text": [
      ":  a\n"
     ]
    },
    {
     "name": "stdout",
     "output_type": "stream",
     "text": [
      "Invalid name\n",
      "Please give me a file name: \n"
     ]
    },
    {
     "name": "stdin",
     "output_type": "stream",
     "text": [
      ":  b\n"
     ]
    },
    {
     "name": "stdout",
     "output_type": "stream",
     "text": [
      "Invalid name\n",
      "Please give me a file name: \n"
     ]
    },
    {
     "name": "stdin",
     "output_type": "stream",
     "text": [
      ":  c\n"
     ]
    },
    {
     "name": "stdout",
     "output_type": "stream",
     "text": [
      "Invalid name\n",
      "Please give me a file name: \n"
     ]
    },
    {
     "name": "stdin",
     "output_type": "stream",
     "text": [
      ":  d\n"
     ]
    },
    {
     "name": "stdout",
     "output_type": "stream",
     "text": [
      "Invalid name\n",
      "Please give me a file name: \n"
     ]
    },
    {
     "name": "stdin",
     "output_type": "stream",
     "text": [
      ":  agraeg\n"
     ]
    },
    {
     "name": "stdout",
     "output_type": "stream",
     "text": [
      "Invalid name\n",
      "Please give me a file name: \n"
     ]
    },
    {
     "name": "stdin",
     "output_type": "stream",
     "text": [
      ":  test.txt\n"
     ]
    }
   ],
   "source": [
    "def findFileName():\n",
    "    fileFound = False\n",
    "    while (fileFound == False):\n",
    "        print(\"Please give me a file name: \")\n",
    "        userInput = input(\": \")\n",
    "\n",
    "        try:\n",
    "            file = open(userInput)\n",
    "        except:\n",
    "            print(\"Invalid name\")\n",
    "            continue\n",
    "\n",
    "        fileFound = True\n",
    "\n",
    "findFileName()\n",
    "    \n",
    "        "
   ]
  },
  {
   "cell_type": "markdown",
   "metadata": {},
   "source": [
    "5. There is a file containing words in the files folder called `dict.txt`. Write Python code that reads this file, checks through all of the words in the file, and identifies which words have 4 letters or more. Create a new file and write to it just those words that contain 4 letters or more."
   ]
  },
  {
   "cell_type": "code",
   "execution_count": 31,
   "metadata": {},
   "outputs": [],
   "source": [
    "dictFile = open(\"files/dict.txt\", \"r\")\n",
    "wordArr = dictFile.readlines()\n",
    "dictFile.close()\n",
    "\n",
    "wordsFile = open(\"files/longWords.txt\",\"w\")\n",
    "for i in wordArr:\n",
    "    if len(i) > 4:\n",
    "        wordsFile.write(i + \"\\n\")\n",
    "\n",
    "wordsFile.close()\n"
   ]
  },
  {
   "cell_type": "code",
   "execution_count": null,
   "metadata": {},
   "outputs": [],
   "source": []
  },
  {
   "cell_type": "code",
   "execution_count": null,
   "metadata": {},
   "outputs": [],
   "source": []
  }
 ],
 "metadata": {
  "kernelspec": {
   "display_name": "Python 3 (ipykernel)",
   "language": "python",
   "name": "python3"
  },
  "language_info": {
   "codemirror_mode": {
    "name": "ipython",
    "version": 3
   },
   "file_extension": ".py",
   "mimetype": "text/x-python",
   "name": "python",
   "nbconvert_exporter": "python",
   "pygments_lexer": "ipython3",
   "version": "3.13.5"
  }
 },
 "nbformat": 4,
 "nbformat_minor": 4
}
