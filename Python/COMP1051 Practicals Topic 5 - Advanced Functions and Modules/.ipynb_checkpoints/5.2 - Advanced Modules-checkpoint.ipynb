{
 "cells": [
  {
   "cell_type": "markdown",
   "metadata": {},
   "source": [
    "## Advanced Modules\n",
    "\n",
    "We saw in the previous topic how to import some different modules and make use of the functions contained within them. In this subtopic we will take a closer look at the `copy` module and also move on to discuss the `io` module and look at how to deal with files, which brings with it its own set of challenges. This will allow us to do some simple file manipulation such as reading and writing, which is essential for future work. Very few programs rely on data entered manually by the programmer, usually data is read into a program from a variety of different sources, so learning how to handle this now will stand you in good stead as you move on to use your programming skills for problem solving.\n",
    "Dealing with files is one of the first major areas where we are likely to run in to Python errors that may not be your fault. We will learn how to handle possible problems in a programmatic way using the Python keywords `try`, `except`, `else` and `finally`. This anticipation of potential problems should mean that our code doesn't just crash when something unexpected happens, but instead we catch the problems and deal with them gracefully. \n",
    "\n",
    "\n"
   ]
  },
  {
   "cell_type": "markdown",
   "metadata": {},
   "source": [
    "### The `copy` module\n",
    "\n",
    "In this subtopic we will start with our second look at the `copy` module. As we saw in the previous topic, this is a tiny module with just a handful of functions avaiable. In that topic we looked at the `copy` function and saw an example of copying a list successfully. One of the exercises was for you to copy a list using the `copy` function and try changing some values to prove to yourself things work as expected.\n",
    "\n",
    "In this topic we will take things one step further, and identify some more problems you might encounter when copying data structures, and how to resolve those issues using the `deepcopy` function. \n",
    "\n",
    "It is important you understand when you can use the `copy` function, and when you must use the `deepcopy` function, because the performance difference between them can be significant. When possible you should use `copy` and only use `deepcopy` as a last resort.\n",
    "\n",
    "Below is an example that proves that the `copy` function does indeed work for lists."
   ]
  },
  {
   "cell_type": "code",
   "execution_count": 1,
   "metadata": {},
   "outputs": [
    {
     "name": "stdout",
     "output_type": "stream",
     "text": [
      "[20, 8, 6, 4, 2]\n",
      "[10, 8, 6, 4, 2]\n"
     ]
    }
   ],
   "source": [
    "import copy\n",
    "\n",
    "L = [10,8,6,4,2]\n",
    "\n",
    "L1 = copy.copy(L)\n",
    "\n",
    "#Lets try changing an element in L\n",
    "L[0] = 20\n",
    "\n",
    "print(L)\n",
    "print(L1)"
   ]
  },
  {
   "cell_type": "markdown",
   "metadata": {},
   "source": [
    "However, the copy function doesn't always get the job done for us!"
   ]
  },
  {
   "cell_type": "code",
   "execution_count": 2,
   "metadata": {},
   "outputs": [
    {
     "name": "stdout",
     "output_type": "stream",
     "text": [
      "[[20, 2], [3, 4], [5, 6]]\n",
      "[[20, 2], [3, 4], [5, 6]]\n"
     ]
    }
   ],
   "source": [
    "import copy\n",
    "\n",
    "#L is a list of lists\n",
    "L = [[1,2],[3,4],[5,6]]\n",
    "\n",
    "L1 = copy.copy(L)\n",
    "\n",
    "#Lets change an element in L\n",
    "L[0][0] = 20\n",
    "\n",
    "print(L)\n",
    "print(L1)"
   ]
  },
  {
   "cell_type": "markdown",
   "metadata": {},
   "source": [
    "This time the copy function has let us down. We tried to make a copy of our list of lists, and when we changed an element in one list it changed across both variables. We often refer to the `copy` function as a shallow copy. In simple terms it copies just \"one level deep\", so if your data structure doesn't contain any nested data structures the shallow copy will work for your needs. In our first example the list `L` was just a simple collection of integer values, and because it is just one level deep it copies correctly.\n",
    "\n",
    "In the second example, the data is buried two layers down, stored in a list which is itself contained in a list, hence why the shallow copy is failing. Both `L` and `L1` share references to the same objects that represent the integer values. Hence, trying to change the values in one of these nested data structures, we end up editing both lists.\n",
    "\n",
    "To deal with this, we need to copy recursively, rather than just taking a shallow copy. The `copy` module provides a `deepcopy` function to recurse through your entire data structure all the way down to the base child objects and create a new copy of each child. This would allow `L` and `L1` to be totally independent, so we could change elements in either list without fear of impacting the other."
   ]
  },
  {
   "cell_type": "code",
   "execution_count": 3,
   "metadata": {},
   "outputs": [
    {
     "name": "stdout",
     "output_type": "stream",
     "text": [
      "[[20, 2], [3, 4], [5, 6]]\n",
      "[[1, 2], [3, 4], [5, 6]]\n"
     ]
    }
   ],
   "source": [
    "import copy\n",
    "\n",
    "#L is a list of lists\n",
    "L = [[1,2],[3,4],[5,6]]\n",
    "\n",
    "L1 = copy.deepcopy(L)\n",
    "\n",
    "#Lets change an element in L\n",
    "L[0][0] = 20\n",
    "\n",
    "print(L)\n",
    "print(L1)"
   ]
  },
  {
   "cell_type": "markdown",
   "metadata": {},
   "source": [
    "As the `deepcopy` function looks to recurse through data structures to locate the child objects it can be quite slow, and is often noticeably slower than `copy`. You should try to make sure that you use the appropriate copy function if you want your code to be performant. Below you'll find some examples which demonstrate the performance difference! There are some exercises for you to practice using the two copy functions with different data structures to ensure you know which function to use when and why.   "
   ]
  },
  {
   "cell_type": "code",
   "execution_count": 4,
   "metadata": {},
   "outputs": [
    {
     "name": "stdout",
     "output_type": "stream",
     "text": [
      "Shallow copy time: 9.9e-05 seconds\n",
      "Deep copy time: 0.04539 seconds\n"
     ]
    }
   ],
   "source": [
    "import copy\n",
    "import time\n",
    "\n",
    "# Create a large nested data structure\n",
    "nested_data = []\n",
    "\n",
    "for i in range(1000):\n",
    "    inner_list = []\n",
    "    for j in range(100):\n",
    "        inner_list.append(j)\n",
    "    nested_data.append(inner_list)\n",
    "\n",
    "# Measure shallow copy performance\n",
    "start = time.perf_counter()\n",
    "shallow = copy.copy(nested_data)\n",
    "shallow_time = time.perf_counter() - start\n",
    "\n",
    "# Measure deep copy performance\n",
    "start = time.perf_counter()\n",
    "deep = copy.deepcopy(nested_data)\n",
    "deep_time = time.perf_counter() - start\n",
    "\n",
    "# Print the results\n",
    "print(\"Shallow copy time:\", round(shallow_time, 6), \"seconds\")\n",
    "print(\"Deep copy time:\", round(deep_time, 6), \"seconds\")"
   ]
  },
  {
   "cell_type": "markdown",
   "metadata": {},
   "source": [
    "Numbers will vary with the underlying hardware, but for me this shows around a 50x performance difference! We may require a deep copy of our data for the functionality of our code, but it is important for performance that we select the correct method. This is particularly of concern when making copies of \"shallow\" data structures, where copy would be sufficient, but for safety you might use deepcopy. The example below shows that this is a bad idea for performance!"
   ]
  },
  {
   "cell_type": "code",
   "execution_count": 5,
   "metadata": {},
   "outputs": [
    {
     "name": "stdout",
     "output_type": "stream",
     "text": [
      "Shallow copy time: 0.000463 seconds\n",
      "Deep copy time: 0.039204 seconds\n"
     ]
    }
   ],
   "source": [
    "import copy\n",
    "import time\n",
    "\n",
    "# Create a large \"shallow\" data structure\n",
    "data = list(range(100000))\n",
    "\n",
    "# Measure shallow copy performance\n",
    "start = time.perf_counter()\n",
    "shallow = copy.copy(data)\n",
    "shallow_time = time.perf_counter() - start\n",
    "\n",
    "# Measure deep copy performance\n",
    "start = time.perf_counter()\n",
    "deep = copy.deepcopy(data)\n",
    "deep_time = time.perf_counter() - start\n",
    "\n",
    "# Print the results\n",
    "print(\"Shallow copy time:\", round(shallow_time, 6), \"seconds\")\n",
    "print(\"Deep copy time:\", round(deep_time, 6), \"seconds\")"
   ]
  },
  {
   "cell_type": "markdown",
   "metadata": {},
   "source": [
    "Deepcopy is still significantly slower, even though there are no nested data structures! The performance difference here can be around 10-100x over multiple runs."
   ]
  },
  {
   "cell_type": "markdown",
   "metadata": {},
   "source": [
    "### The `io` module\n",
    "\n",
    "Although we mention the `io` module in the title of this subtopic, we can actually do the majority of the file operations that we require without the module. Infact, most operations that needed the `io` module in previous versions of Python can now be done using built-in Python functions. So there is generally no need for us to import `io` even though we're doing input output tasks. This is a clear example of how Python evolves over time, and we have to try to keep up with these changes!"
   ]
  },
  {
   "cell_type": "markdown",
   "metadata": {},
   "source": [
    "#### Opening and closing files\n",
    "\n",
    "This is surprisingly simple, we can simply use the `open` and `close` functions built in to Python, such as in the following code:"
   ]
  },
  {
   "cell_type": "code",
   "execution_count": null,
   "metadata": {},
   "outputs": [],
   "source": [
    "infile = open(\"files/example.txt\")\n",
    "infile.close()"
   ]
  },
  {
   "cell_type": "markdown",
   "metadata": {},
   "source": [
    "If the file name we provide doesn't exist then Python will return an error. We'll see more about errors later on in this notebook."
   ]
  },
  {
   "cell_type": "code",
   "execution_count": null,
   "metadata": {},
   "outputs": [],
   "source": [
    "infile = open(\"files/missingExample.txt\")\n",
    "infile.close()"
   ]
  },
  {
   "cell_type": "markdown",
   "metadata": {},
   "source": [
    "This looks for a file called example.txt in a folder called files that should be in the same directory as this notebook. We generally use these relative pathnames that identify where a file is located in relation to where we are currently operating from. Imagine the file you're trying to open is in the folder one level above the folder we're running this notebook from. If we wanted to access that file our code would look like this:"
   ]
  },
  {
   "cell_type": "code",
   "execution_count": null,
   "metadata": {},
   "outputs": [],
   "source": [
    "infile = open(\"../example.txt\")"
   ]
  },
  {
   "cell_type": "markdown",
   "metadata": {},
   "source": [
    "There are actually a number of different ways in which we can open a file depending on how we want to interact with that file. Here is a non-exhaustive list of some different file modes:\n",
    "\n",
    "| Mode             | Description                                  |\n",
    "|------------------|----------------------------------------------|\n",
    "| `r`              | Reading (default)                            |\n",
    "| `w`              | Writing (if file exists, content is wiped)   |\n",
    "| `a`              | Append (if file exists, writes are appended) |\n",
    "| `r+`             | Reading and writing                          |\n",
    "| `a+`             | Appending and reading                        |\n",
    "| `t`              | Text (default)                               |\n",
    "| `b`              | Binary                                       |\n",
    "\n",
    "By default, if we open a file without specifying the mode it will be read-only in text format. If we want to be able to write data back to the file we will need to open that file for either reading and writing, or appending and reading. If we want to use these different file modes we can use them by providing the file mode as a parameter to the `open` function like this:"
   ]
  },
  {
   "cell_type": "code",
   "execution_count": null,
   "metadata": {},
   "outputs": [],
   "source": [
    "infile = open(\"files/example.txt\", \"a+\")\n",
    "infile.close()"
   ]
  },
  {
   "cell_type": "markdown",
   "metadata": {},
   "source": [
    "#### Reading data from a file\n",
    "Once we've opened a file we should probably do something with it! There are a number of different functions for reading data in from a file, and we'll look at some of them below. First however, we must understand the file *cursor*. Every opened file has an associated cursor, which points to a particular location in the file. If we opened the file for reading only then the cursor will be at the beginning of the file. Though if we open the file with mode 'a' or 'w' the cursor will be at the end of the file.\n",
    "\n",
    "Now that we understand where the cursor will be located, we can make sense of the following table which explains the four main ways of reading in data from a file:\n",
    "\n",
    "| Function     | Description                                                                      |\n",
    "|--------------|----------------------------------------------------------------------------------|\n",
    "| `read(n)`    | Read n characters starting from cursor; if fewer than n characters remain, read until the end of file |\n",
    "| `read()`     | Read starting from cursor up to the end of the file                              |\n",
    "| `readline()` | Read starting from cursor up to, and including, the end of line character        |\n",
    "| `readlines()`| Read starting from cursor up to the end of the file and return list of lines     |\n",
    "\n",
    "\n",
    "If we are using file modes 'a' or 'w' then the cursor is already at the end of the file. So if we want to read any data in from our file we will need to move the cursor. We can do this with the `seek` function and we will see this in an example below. For these first examples we will use the default file mode, so the cursor will be at the start of the file."
   ]
  },
  {
   "cell_type": "code",
   "execution_count": 6,
   "metadata": {},
   "outputs": [
    {
     "name": "stdout",
     "output_type": "stream",
     "text": [
      "This is an example t\n"
     ]
    }
   ],
   "source": [
    "#This will read in the first 20 characters of the file and stores it in a string\n",
    "\n",
    "infile = open(\"files/example.txt\")\n",
    "s = infile.read(20)\n",
    "print(s)\n",
    "infile.close()"
   ]
  },
  {
   "cell_type": "code",
   "execution_count": 7,
   "metadata": {},
   "outputs": [
    {
     "name": "stdout",
     "output_type": "stream",
     "text": [
      "This is an example text file.\n",
      "We will want to read this data in.\n"
     ]
    }
   ],
   "source": [
    "#This will read in the entire contents of the file and stores it in a string\n",
    "\n",
    "infile = open(\"files/example.txt\")\n",
    "s = infile.read()\n",
    "print(s)\n",
    "infile.close()"
   ]
  },
  {
   "cell_type": "code",
   "execution_count": 8,
   "metadata": {},
   "outputs": [
    {
     "name": "stdout",
     "output_type": "stream",
     "text": [
      "['This is an example text file.\\n', 'We will want to read this data in.']\n"
     ]
    }
   ],
   "source": [
    "#This will read in the entire contents of the file and store each line as a string in a list.\n",
    "\n",
    "infile = open(\"files/example.txt\")\n",
    "print(infile.readlines())\n",
    "infile.close()"
   ]
  },
  {
   "cell_type": "code",
   "execution_count": 9,
   "metadata": {},
   "outputs": [
    {
     "name": "stdout",
     "output_type": "stream",
     "text": [
      "This is an example text file.\n",
      "\n"
     ]
    }
   ],
   "source": [
    "#This will read in the a line from the start of the file\n",
    "\n",
    "infile = open(\"files/example.txt\")\n",
    "print(infile.readline())\n",
    "infile.close()"
   ]
  },
  {
   "cell_type": "code",
   "execution_count": 11,
   "metadata": {},
   "outputs": [
    {
     "name": "stdout",
     "output_type": "stream",
     "text": [
      "\n"
     ]
    }
   ],
   "source": [
    "#This will read in the a line from the cursor, which is at the end of the file in this case, so we read nothing!\n",
    "\n",
    "infile = open(\"files/example.txt\", \"a+\")\n",
    "print(infile.readline())\n",
    "infile.close()"
   ]
  },
  {
   "cell_type": "code",
   "execution_count": 14,
   "metadata": {},
   "outputs": [
    {
     "name": "stdout",
     "output_type": "stream",
     "text": [
      "e.\n",
      "\n"
     ]
    }
   ],
   "source": [
    "#We move the cursor to start of the file using the seek method.\n",
    "\n",
    "infile = open(\"files/example.txt\", \"a+\")\n",
    "infile.seek(27)\n",
    "print(infile.readline())\n",
    "infile.close()"
   ]
  },
  {
   "cell_type": "markdown",
   "metadata": {},
   "source": [
    "If we want to, we can change the value we give to the `seek` function to move the cursor into a different position in the file. Give it a try!"
   ]
  },
  {
   "cell_type": "markdown",
   "metadata": {},
   "source": [
    "#### Writing data to a file\n",
    "\n",
    "If we want to write information to a file, we must start as before by opening a file using the `open` function. If we want to create a new file we can simply provide a filename that doesn't already exist. To write to an existing file we just use its filename and set the file mode to either append or write.\n",
    "\n",
    "Lets create a new file for writing to:"
   ]
  },
  {
   "cell_type": "code",
   "execution_count": 18,
   "metadata": {},
   "outputs": [],
   "source": [
    "outfile = open(\"test.txt\", \"w\")\n",
    "outfile.write(\"Hello.\")\n",
    "outfile.close()"
   ]
  },
  {
   "cell_type": "markdown",
   "metadata": {},
   "source": [
    "We've just created our first output file, and written the string \"Hello\" into it. Head to your file explorer window on the left and the file `test.txt` should be visible in the same folder as this notebook. If you try changing the string and running this code block again you'll see that the file should contain only that new string. This is because we've set the file to write mode, so it always wipes the contents of the file before it starts to write. \n",
    "\n",
    "If we change the file mode now to be append, we can add some information to that file instead."
   ]
  },
  {
   "cell_type": "code",
   "execution_count": 19,
   "metadata": {},
   "outputs": [],
   "source": [
    "outfile = open(\"test.txt\", \"a\")\n",
    "outfile.write(\"Hello Again\")\n",
    "outfile.close()"
   ]
  },
  {
   "cell_type": "markdown",
   "metadata": {},
   "source": [
    "If you take a look at the file we've created you'll notice something looks a bit strange. All of the text is on the first line, with no spaces or breaks between the different strings that we asked Python to write to this file. This is something that you'll have to do manually! We can use the newline character `\\n` to introduce a line break like that we would normally expect when we hit the enter key."
   ]
  },
  {
   "cell_type": "code",
   "execution_count": null,
   "metadata": {},
   "outputs": [],
   "source": [
    "outfile = open(\"test.txt\", \"w\")\n",
    "outfile.write(\"Hello\\n\")\n",
    "outfile.write(\"Hello Again\")\n",
    "outfile.close()"
   ]
  },
  {
   "cell_type": "markdown",
   "metadata": {},
   "source": [
    "Remember though, if you open a file in write or append mode, it won't allow you to read data back in from the file. If you try this you'll be given an error."
   ]
  },
  {
   "cell_type": "code",
   "execution_count": null,
   "metadata": {},
   "outputs": [],
   "source": [
    "outfile = open(\"test.txt\", \"w\")\n",
    "outfile.write(\"Hello\\n\")\n",
    "outfile.write(\"Hello Again\")\n",
    "\n",
    "x = outfile.readlines()\n",
    "print(x)\n",
    "\n",
    "outfile.close()"
   ]
  },
  {
   "cell_type": "markdown",
   "metadata": {},
   "source": [
    "### Errors and Exceptions"
   ]
  },
  {
   "cell_type": "markdown",
   "metadata": {},
   "source": [
    "Errors are a normal part of programming - at some point all of you will make a mistake somewhere in your code, even the very best programmers will get things wrong. There are three types of errors that you might encounter, regardless of which programming language you are working in:\n",
    "1. Syntax errors - Errors where your code doesn't correctly follow the syntactic rules of Python. Maybe you have some indentation errors, or you've forgotten a colon for example.\n",
    "2. Runtime errors - Your code follows the syntactic rules of Python correctly, but encounters an issue while running, causing the code to fail.\n",
    "3. Semantic errors - Your code executes correctly, but the result is not as expected. This means you have made a mistake somewhere which has altered the meaning of your program. You have to track these down manually because Python cannot help you to locate these errors.\n",
    "\n",
    "Python generally gives you detailed information on syntax errors when you first try to run your code. It will usually identify a line number for you where it has found an error, though sometimes you might have to look to the line above the one identified to find the issue."
   ]
  },
  {
   "cell_type": "code",
   "execution_count": null,
   "metadata": {},
   "outputs": [],
   "source": [
    "def f(n)\n",
    "    if n > 0:\n",
    "        print(\"Positive\")\n",
    "    else\n",
    "        print(\"Negative\")"
   ]
  },
  {
   "cell_type": "markdown",
   "metadata": {},
   "source": [
    "Python kindly tells us that the syntax on line 1 is invalid, and suggests where it thinks the issue is. In this case it is exactly right, we've forgotten the colon in the function definition."
   ]
  },
  {
   "cell_type": "markdown",
   "metadata": {},
   "source": [
    "Similarly, Python will give us some helpful tips if it encounters runtimes errors. Below are some examples of different runtime errors that Python can identify."
   ]
  },
  {
   "cell_type": "code",
   "execution_count": null,
   "metadata": {},
   "outputs": [],
   "source": [
    "print(a)"
   ]
  },
  {
   "cell_type": "code",
   "execution_count": null,
   "metadata": {},
   "outputs": [],
   "source": [
    "1 + 'a'"
   ]
  },
  {
   "cell_type": "code",
   "execution_count": null,
   "metadata": {},
   "outputs": [],
   "source": [
    "2/0"
   ]
  },
  {
   "cell_type": "code",
   "execution_count": null,
   "metadata": {},
   "outputs": [],
   "source": [
    "L = [1,2,3,4,5]\n",
    "L[10]"
   ]
  },
  {
   "cell_type": "markdown",
   "metadata": {},
   "source": [
    "You should make yourself aware of the different types of runtime error that Python can identify, and understand what they mean, as this will help you significantly when debugging your code. You may have seen some of these errors already as you've worked through the exercises, and you should have a good idea of how you would fix these issues."
   ]
  },
  {
   "cell_type": "markdown",
   "metadata": {},
   "source": [
    "Sometimes you may encounter runtime errors due to issues a little further beyond your control. For example, maybe you're trying to read in a file, but for some reason that file no longer exists, or you're trying to analyse some data and there is an unexpected zero in the dataset which can trigger a division by zero error.\n",
    "\n",
    "Python provides us with some tools to help with these situations where we're worried that errors may occur. We have the keywords `try`, `except`, `else` and `finally` to allow us to gracefully deal with such issues. We can use all of these keywords together in the following structure:"
   ]
  },
  {
   "cell_type": "code",
   "execution_count": null,
   "metadata": {},
   "outputs": [],
   "source": [
    "try:\n",
    "    print(\"We try to execute the code in this block, and see if we get an error\")\n",
    "except:\n",
    "    print(\"If the previous code block raises an error we will run this code block\")\n",
    "else:\n",
    "    print(\"If the first code block ran successfully we run this code block instead of the one above\")\n",
    "finally:\n",
    "    print(\"Always run this regardless of if there was an error or not\")"
   ]
  },
  {
   "cell_type": "markdown",
   "metadata": {},
   "source": [
    "The `else` and `finally` statements are optional, and the majority of the time you will see code that just contains `try` and `except` statements. You might be wondering what the finally keyword is actually useful for, and to be honest it is a good question! Generally the `finally` statement is used for cleanup operations that relate to the operations in the `try` statement, particularly as it will still execute even if there is a return statement in any of the code blocks above it.\n",
    "There is a couple of examples below of how you might use these tools:"
   ]
  },
  {
   "cell_type": "code",
   "execution_count": null,
   "metadata": {},
   "outputs": [],
   "source": [
    "def div(a, b):\n",
    "    return a/b\n",
    "\n",
    "try:\n",
    "    print(div(5,0))\n",
    "except:\n",
    "    print(\"You tried to divide by zero.\")"
   ]
  },
  {
   "cell_type": "code",
   "execution_count": null,
   "metadata": {},
   "outputs": [],
   "source": [
    "try:\n",
    "    infile = open(\"files/example.txt\")\n",
    "except:\n",
    "    print(\"Failed to open that file\")\n",
    "else:    \n",
    "    print(infile.readline())\n",
    "finally:\n",
    "    infile.close()\n",
    "    \n",
    "#We can continue with other code here if we didn't cause the code to error\n",
    "print(\"More code can run here\")"
   ]
  },
  {
   "cell_type": "markdown",
   "metadata": {},
   "source": [
    "This code will gracefully handle any issues where the file you're looking for doesn't exist. If the file does exist then the `open` function should complete successfully, so we can ignore the `except` block. We move on to the `else` block and execute the code there, which reads in the first line from the file and prints it out. We then execute the `finally` block which closes the file.\n",
    "\n",
    "If the file doesn't exist (you could try changing the filename), then as we've seen, the `open` function would usually throw an error. However, now we catch that error, and execute the `except` code block instead, which prints us a helpful message to say the file couldn't be opened. The `else` block will be ignored, and we move on to the finally block, which will try to close the file. As we didn't manage to successfully open this file this won't do anything. The nice thing here is that some code that would usually throw an error doesn't interrupt the execution of our program, we just deal with the error and continue with the rest of our code."
   ]
  },
  {
   "cell_type": "markdown",
   "metadata": {},
   "source": [
    "<br>\n",
    "\n",
    "We've gone into much greater depth of detail in this topic than we have done in previous topics. Hopefully you can now appreciate the complexity in Python that is generally hidden away unless you need to exploit it. Again, the only way to fully understand these concepts is to practice them for yourself. Move on now and take a look at the exercises in the final notebook of this topic, where you will have the chance to practice some of the things we've learnt here. You may find yourself wanting to look for further reading materials and problems to tackle, and I would encourage you to do that to ensure you keep practicing."
   ]
  }
 ],
 "metadata": {
  "kernelspec": {
   "display_name": "Python 3 (ipykernel)",
   "language": "python",
   "name": "python3"
  },
  "language_info": {
   "codemirror_mode": {
    "name": "ipython",
    "version": 3
   },
   "file_extension": ".py",
   "mimetype": "text/x-python",
   "name": "python",
   "nbconvert_exporter": "python",
   "pygments_lexer": "ipython3",
   "version": "3.13.5"
  }
 },
 "nbformat": 4,
 "nbformat_minor": 4
}
